{
 "cells": [
  {
   "cell_type": "code",
   "execution_count": 113,
   "id": "29174177",
   "metadata": {},
   "outputs": [],
   "source": [
    "import pandas as pd\n",
    "import numpy as np\n",
    "import matplotlib.pyplot as plt\n",
    "import seaborn as sns\n",
    "import plotly.express as px\n",
    "import bokeh\n",
    "from bokeh.models import HoverTool\n",
    "from bokeh.palettes import Spectral5\n",
    "from bokeh.models import ColorBar, ColumnDataSource, HoverTool, Range1d\n",
    "from bokeh.models import BoxZoomTool, LassoSelectTool, WheelZoomTool \n",
    "from sklearn.model_selection import train_test_split\n",
    "from sklearn.linear_model import LinearRegression\n",
    "from sklearn.metrics import mean_squared_error, r2_score\n",
    "import warnings\n",
    "warnings.filterwarnings('ignore')\n"
   ]
  },
  {
   "cell_type": "code",
   "execution_count": 63,
   "id": "00915be5",
   "metadata": {},
   "outputs": [
    {
     "name": "stdout",
     "output_type": "stream",
     "text": [
      "   MarketID MarketSize  LocationID  AgeOfStore  Promotion  week  \\\n",
      "0         1     Medium           1           4          3     1   \n",
      "1         1     Medium           1           4          3     2   \n",
      "2         1     Medium           1           4          3     3   \n",
      "3         1     Medium           1           4          3     4   \n",
      "4         1     Medium           2           5          2     1   \n",
      "\n",
      "   SalesInThousands  TotalSales  AvgWeeklySales  \n",
      "0             33.73     1825.29       35.101731  \n",
      "1             35.67     1825.29       35.101731  \n",
      "2             29.03     1825.29       35.101731  \n",
      "3             39.25     1825.29       35.101731  \n",
      "4             27.81     1825.29       35.101731  \n"
     ]
    }
   ],
   "source": [
    "# Load data\n",
    "df = pd.read_csv('dataset.csv')\n",
    "\n",
    "# Data preparation Adding Columns\n",
    "df['TotalSales'] = df.groupby('MarketID')['SalesInThousands'].transform('sum')\n",
    "df['AvgWeeklySales'] = df.groupby('MarketID')['SalesInThousands'].transform('mean')\n",
    "print(df.head())"
   ]
  },
  {
   "cell_type": "code",
   "execution_count": 64,
   "id": "f57a75ed",
   "metadata": {},
   "outputs": [
    {
     "name": "stdout",
     "output_type": "stream",
     "text": [
      "Promotion_1\n",
      "False    1281890.08\n",
      "True      585882.52\n",
      "Name: TotalSales, dtype: float64\n",
      "Promotion_2\n",
      "False    54.366208\n",
      "True     51.742793\n",
      "Name: AvgWeeklySales, dtype: float64\n"
     ]
    }
   ],
   "source": [
    "# Create dummy variables for promotions\n",
    "df = pd.get_dummies(df, columns=['Promotion'])\n",
    "\n",
    "# Analysis\n",
    "# Overall metrics\n",
    "print(df.groupby('Promotion_1')['TotalSales'].sum())\n",
    "print(df.groupby('Promotion_2')['AvgWeeklySales'].mean())\n",
    "\n",
    "# Statistical tests\n",
    "f, p = stats.f_oneway(df[df['Promotion_1']==1]['TotalSales'],\n",
    "                      df[df['Promotion_2']==1]['TotalSales'])\n"
   ]
  },
  {
   "cell_type": "code",
   "execution_count": 65,
   "id": "18baf05a",
   "metadata": {},
   "outputs": [
    {
     "name": "stdout",
     "output_type": "stream",
     "text": [
      "   MarketID MarketSize  LocationID  AgeOfStore  week  SalesInThousands  \\\n",
      "0         1      Small           1           4     1             33.73   \n",
      "1         1      Small           1           4     2             35.67   \n",
      "2         1      Small           1           4     3             29.03   \n",
      "3         1      Small           1           4     4             39.25   \n",
      "4         1      Small           2           5     1             27.81   \n",
      "\n",
      "   TotalSales  AvgWeeklySales  Promotion_1  Promotion_2  Promotion_3  \n",
      "0     1825.29       35.101731        False        False         True  \n",
      "1     1825.29       35.101731        False        False         True  \n",
      "2     1825.29       35.101731        False        False         True  \n",
      "3     1825.29       35.101731        False        False         True  \n",
      "4     1825.29       35.101731        False         True        False  \n"
     ]
    }
   ],
   "source": [
    "# Add market size column\n",
    "conditions = [\n",
    "    (df['MarketID'] <= 10),\n",
    "    (df['MarketID'] > 10) & (df['MarketID'] <= 20),\n",
    "    (df['MarketID'] > 20) & (df['MarketID'] <= 30)]\n",
    "values = ['Small', 'Medium', 'Large']\n",
    "df['MarketSize'] = np.select(conditions, values)\n",
    "\n",
    "df.groupby('MarketSize')[['SalesInThousands']].agg(['mean', 'sum', 'count'])\n",
    "\n",
    "print(df.head())"
   ]
  },
  {
   "cell_type": "code",
   "execution_count": 66,
   "id": "205be289",
   "metadata": {},
   "outputs": [
    {
     "data": {
      "application/vnd.plotly.v1+json": {
       "config": {
        "plotlyServerURL": "https://plot.ly"
       },
       "data": [
        {
         "alignmentgroup": "True",
         "hovertemplate": "Promotion_1=%{x}<br>AvgWeeklySales=%{y}<extra></extra>",
         "legendgroup": "",
         "marker": {
          "color": "#636efa"
         },
         "name": "",
         "notched": false,
         "offsetgroup": "",
         "orientation": "v",
         "showlegend": false,
         "type": "box",
         "x": [
          false,
          false,
          false,
          false,
          false,
          false,
          false,
          false,
          true,
          true,
          true,
          true,
          false,
          false,
          false,
          false,
          false,
          false,
          false,
          false,
          false,
          false,
          false,
          false,
          true,
          true,
          true,
          true,
          false,
          false,
          false,
          false,
          true,
          true,
          true,
          true,
          false,
          false,
          false,
          false,
          false,
          false,
          false,
          false,
          true,
          true,
          true,
          true,
          true,
          true,
          true,
          true,
          true,
          true,
          true,
          true,
          false,
          false,
          false,
          false,
          false,
          false,
          false,
          false,
          false,
          false,
          false,
          false,
          false,
          false,
          false,
          false,
          false,
          false,
          false,
          false,
          false,
          false,
          false,
          false,
          true,
          true,
          true,
          true,
          false,
          false,
          false,
          false,
          false,
          false,
          false,
          false,
          false,
          false,
          false,
          false,
          false,
          false,
          false,
          false,
          false,
          false,
          false,
          false,
          false,
          false,
          false,
          false,
          true,
          true,
          true,
          true,
          true,
          true,
          true,
          true,
          false,
          false,
          false,
          false,
          false,
          false,
          false,
          false,
          false,
          false,
          false,
          false,
          true,
          true,
          true,
          true,
          false,
          false,
          false,
          false,
          false,
          false,
          false,
          false,
          false,
          false,
          false,
          false,
          true,
          true,
          true,
          true,
          false,
          false,
          false,
          false,
          true,
          true,
          true,
          true,
          false,
          false,
          false,
          false,
          true,
          true,
          true,
          true,
          false,
          false,
          false,
          false,
          false,
          false,
          false,
          false,
          true,
          true,
          true,
          true,
          true,
          true,
          true,
          true,
          false,
          false,
          false,
          false,
          true,
          true,
          true,
          true,
          false,
          false,
          false,
          false,
          false,
          false,
          false,
          false,
          true,
          true,
          true,
          true,
          false,
          false,
          false,
          false,
          false,
          false,
          false,
          false,
          false,
          false,
          false,
          false,
          false,
          false,
          false,
          false,
          false,
          false,
          false,
          false,
          false,
          false,
          false,
          false,
          false,
          false,
          false,
          false,
          false,
          false,
          false,
          false,
          false,
          false,
          false,
          false,
          true,
          true,
          true,
          true,
          false,
          false,
          false,
          false,
          true,
          true,
          true,
          true,
          false,
          false,
          false,
          false,
          false,
          false,
          false,
          false,
          false,
          false,
          false,
          false,
          false,
          false,
          false,
          false,
          false,
          false,
          false,
          false,
          false,
          false,
          false,
          false,
          true,
          true,
          true,
          true,
          false,
          false,
          false,
          false,
          false,
          false,
          false,
          false,
          false,
          false,
          false,
          false,
          false,
          false,
          false,
          false,
          true,
          true,
          true,
          true,
          false,
          false,
          false,
          false,
          false,
          false,
          false,
          false,
          true,
          true,
          true,
          true,
          true,
          true,
          true,
          true,
          true,
          true,
          true,
          true,
          false,
          false,
          false,
          false,
          false,
          false,
          false,
          false,
          false,
          false,
          false,
          false,
          false,
          false,
          false,
          false,
          false,
          false,
          false,
          false,
          false,
          false,
          false,
          false,
          false,
          false,
          false,
          false,
          false,
          false,
          false,
          false,
          true,
          true,
          true,
          true,
          true,
          true,
          true,
          true,
          true,
          true,
          true,
          true,
          false,
          false,
          false,
          false,
          false,
          false,
          false,
          false,
          true,
          true,
          true,
          true,
          false,
          false,
          false,
          false,
          false,
          false,
          false,
          false,
          false,
          false,
          false,
          false,
          true,
          true,
          true,
          true,
          true,
          true,
          true,
          true,
          true,
          true,
          true,
          true,
          false,
          false,
          false,
          false,
          false,
          false,
          false,
          false,
          true,
          true,
          true,
          true,
          false,
          false,
          false,
          false,
          false,
          false,
          false,
          false,
          false,
          false,
          false,
          false,
          true,
          true,
          true,
          true,
          false,
          false,
          false,
          false,
          true,
          true,
          true,
          true,
          false,
          false,
          false,
          false,
          false,
          false,
          false,
          false,
          true,
          true,
          true,
          true,
          false,
          false,
          false,
          false,
          false,
          false,
          false,
          false,
          false,
          false,
          false,
          false,
          false,
          false,
          false,
          false,
          false,
          false,
          false,
          false,
          true,
          true,
          true,
          true,
          false,
          false,
          false,
          false,
          true,
          true,
          true,
          true,
          false,
          false,
          false,
          false,
          false,
          false,
          false,
          false,
          false,
          false,
          false,
          false,
          false,
          false,
          false,
          false,
          false,
          false,
          false,
          false,
          false,
          false,
          false,
          false,
          true,
          true,
          true,
          true,
          true,
          true,
          true,
          true,
          false,
          false,
          false,
          false,
          false,
          false,
          false,
          false,
          true,
          true,
          true,
          true,
          false,
          false,
          false,
          false,
          true,
          true,
          true,
          true,
          false,
          false,
          false,
          false,
          false,
          false,
          false,
          false,
          true,
          true,
          true,
          true,
          true,
          true,
          true,
          true,
          false,
          false,
          false,
          false
         ],
         "x0": " ",
         "xaxis": "x",
         "y": [
          35.10173076923077,
          35.10173076923077,
          35.10173076923077,
          35.10173076923077,
          35.10173076923077,
          35.10173076923077,
          35.10173076923077,
          35.10173076923077,
          35.10173076923077,
          35.10173076923077,
          35.10173076923077,
          35.10173076923077,
          35.10173076923077,
          35.10173076923077,
          35.10173076923077,
          35.10173076923077,
          35.10173076923077,
          35.10173076923077,
          35.10173076923077,
          35.10173076923077,
          35.10173076923077,
          35.10173076923077,
          35.10173076923077,
          35.10173076923077,
          35.10173076923077,
          35.10173076923077,
          35.10173076923077,
          35.10173076923077,
          35.10173076923077,
          35.10173076923077,
          35.10173076923077,
          35.10173076923077,
          35.10173076923077,
          35.10173076923077,
          35.10173076923077,
          35.10173076923077,
          35.10173076923077,
          35.10173076923077,
          35.10173076923077,
          35.10173076923077,
          35.10173076923077,
          35.10173076923077,
          35.10173076923077,
          35.10173076923077,
          35.10173076923077,
          35.10173076923077,
          35.10173076923077,
          35.10173076923077,
          35.10173076923077,
          35.10173076923077,
          35.10173076923077,
          35.10173076923077,
          61.76125,
          61.76125,
          61.76125,
          61.76125,
          61.76125,
          61.76125,
          61.76125,
          61.76125,
          61.76125,
          61.76125,
          61.76125,
          61.76125,
          61.76125,
          61.76125,
          61.76125,
          61.76125,
          61.76125,
          61.76125,
          61.76125,
          61.76125,
          61.76125,
          61.76125,
          61.76125,
          61.76125,
          84.97170454545454,
          84.97170454545454,
          84.97170454545454,
          84.97170454545454,
          84.97170454545454,
          84.97170454545454,
          84.97170454545454,
          84.97170454545454,
          84.97170454545454,
          84.97170454545454,
          84.97170454545454,
          84.97170454545454,
          84.97170454545454,
          84.97170454545454,
          84.97170454545454,
          84.97170454545454,
          84.97170454545454,
          84.97170454545454,
          84.97170454545454,
          84.97170454545454,
          84.97170454545454,
          84.97170454545454,
          84.97170454545454,
          84.97170454545454,
          84.97170454545454,
          84.97170454545454,
          84.97170454545454,
          84.97170454545454,
          84.97170454545454,
          84.97170454545454,
          84.97170454545454,
          84.97170454545454,
          84.97170454545454,
          84.97170454545454,
          84.97170454545454,
          84.97170454545454,
          84.97170454545454,
          84.97170454545454,
          84.97170454545454,
          84.97170454545454,
          84.97170454545454,
          84.97170454545454,
          84.97170454545454,
          84.97170454545454,
          84.97170454545454,
          84.97170454545454,
          84.97170454545454,
          84.97170454545454,
          84.97170454545454,
          84.97170454545454,
          84.97170454545454,
          84.97170454545454,
          84.97170454545454,
          84.97170454545454,
          84.97170454545454,
          84.97170454545454,
          84.97170454545454,
          84.97170454545454,
          84.97170454545454,
          84.97170454545454,
          84.97170454545454,
          84.97170454545454,
          84.97170454545454,
          84.97170454545454,
          84.97170454545454,
          84.97170454545454,
          84.97170454545454,
          84.97170454545454,
          84.97170454545454,
          84.97170454545454,
          84.97170454545454,
          84.97170454545454,
          84.97170454545454,
          84.97170454545454,
          84.97170454545454,
          84.97170454545454,
          84.97170454545454,
          84.97170454545454,
          84.97170454545454,
          84.97170454545454,
          84.97170454545454,
          84.97170454545454,
          84.97170454545454,
          84.97170454545454,
          84.97170454545454,
          84.97170454545454,
          84.97170454545454,
          84.97170454545454,
          54.50805555555556,
          54.50805555555556,
          54.50805555555556,
          54.50805555555556,
          54.50805555555556,
          54.50805555555556,
          54.50805555555556,
          54.50805555555556,
          54.50805555555556,
          54.50805555555556,
          54.50805555555556,
          54.50805555555556,
          54.50805555555556,
          54.50805555555556,
          54.50805555555556,
          54.50805555555556,
          54.50805555555556,
          54.50805555555556,
          54.50805555555556,
          54.50805555555556,
          54.50805555555556,
          54.50805555555556,
          54.50805555555556,
          54.50805555555556,
          54.50805555555556,
          54.50805555555556,
          54.50805555555556,
          54.50805555555556,
          54.50805555555556,
          54.50805555555556,
          54.50805555555556,
          54.50805555555556,
          54.50805555555556,
          54.50805555555556,
          54.50805555555556,
          54.50805555555556,
          48.838,
          48.838,
          48.838,
          48.838,
          48.838,
          48.838,
          48.838,
          48.838,
          48.838,
          48.838,
          48.838,
          48.838,
          48.838,
          48.838,
          48.838,
          48.838,
          48.838,
          48.838,
          48.838,
          48.838,
          48.838,
          48.838,
          48.838,
          48.838,
          48.838,
          48.838,
          48.838,
          48.838,
          48.838,
          48.838,
          48.838,
          48.838,
          48.838,
          48.838,
          48.838,
          48.838,
          48.838,
          48.838,
          48.838,
          48.838,
          48.838,
          48.838,
          48.838,
          48.838,
          48.838,
          48.838,
          48.838,
          48.838,
          48.838,
          48.838,
          48.838,
          48.838,
          48.838,
          48.838,
          48.838,
          48.838,
          48.838,
          48.838,
          48.838,
          48.838,
          36.3975,
          36.3975,
          36.3975,
          36.3975,
          36.3975,
          36.3975,
          36.3975,
          36.3975,
          36.3975,
          36.3975,
          36.3975,
          36.3975,
          36.3975,
          36.3975,
          36.3975,
          36.3975,
          36.3975,
          36.3975,
          36.3975,
          36.3975,
          36.3975,
          36.3975,
          36.3975,
          36.3975,
          36.3975,
          36.3975,
          36.3975,
          36.3975,
          36.3975,
          36.3975,
          36.3975,
          36.3975,
          36.3975,
          36.3975,
          36.3975,
          36.3975,
          36.3975,
          36.3975,
          36.3975,
          36.3975,
          36.3975,
          36.3975,
          36.3975,
          36.3975,
          36.3975,
          36.3975,
          36.3975,
          36.3975,
          36.3975,
          36.3975,
          36.3975,
          36.3975,
          36.3975,
          36.3975,
          36.3975,
          36.3975,
          36.3975,
          36.3975,
          36.3975,
          36.3975,
          44.47533333333333,
          44.47533333333333,
          44.47533333333333,
          44.47533333333333,
          44.47533333333333,
          44.47533333333333,
          44.47533333333333,
          44.47533333333333,
          44.47533333333333,
          44.47533333333333,
          44.47533333333333,
          44.47533333333333,
          44.47533333333333,
          44.47533333333333,
          44.47533333333333,
          44.47533333333333,
          44.47533333333333,
          44.47533333333333,
          44.47533333333333,
          44.47533333333333,
          44.47533333333333,
          44.47533333333333,
          44.47533333333333,
          44.47533333333333,
          44.47533333333333,
          44.47533333333333,
          44.47533333333333,
          44.47533333333333,
          44.47533333333333,
          44.47533333333333,
          44.47533333333333,
          44.47533333333333,
          44.47533333333333,
          44.47533333333333,
          44.47533333333333,
          44.47533333333333,
          44.47533333333333,
          44.47533333333333,
          44.47533333333333,
          44.47533333333333,
          44.47533333333333,
          44.47533333333333,
          44.47533333333333,
          44.47533333333333,
          44.47533333333333,
          44.47533333333333,
          44.47533333333333,
          44.47533333333333,
          44.47533333333333,
          44.47533333333333,
          44.47533333333333,
          44.47533333333333,
          44.47533333333333,
          44.47533333333333,
          44.47533333333333,
          44.47533333333333,
          44.47533333333333,
          44.47533333333333,
          44.47533333333333,
          44.47533333333333,
          48.952916666666674,
          48.952916666666674,
          48.952916666666674,
          48.952916666666674,
          48.952916666666674,
          48.952916666666674,
          48.952916666666674,
          48.952916666666674,
          48.952916666666674,
          48.952916666666674,
          48.952916666666674,
          48.952916666666674,
          48.952916666666674,
          48.952916666666674,
          48.952916666666674,
          48.952916666666674,
          48.952916666666674,
          48.952916666666674,
          48.952916666666674,
          48.952916666666674,
          48.952916666666674,
          48.952916666666674,
          48.952916666666674,
          48.952916666666674,
          48.952916666666674,
          48.952916666666674,
          48.952916666666674,
          48.952916666666674,
          48.952916666666674,
          48.952916666666674,
          48.952916666666674,
          48.952916666666674,
          48.952916666666674,
          48.952916666666674,
          48.952916666666674,
          48.952916666666674,
          48.952916666666674,
          48.952916666666674,
          48.952916666666674,
          48.952916666666674,
          48.952916666666674,
          48.952916666666674,
          48.952916666666674,
          48.952916666666674,
          48.952916666666674,
          48.952916666666674,
          48.952916666666674,
          48.952916666666674,
          52.94075,
          52.94075,
          52.94075,
          52.94075,
          52.94075,
          52.94075,
          52.94075,
          52.94075,
          52.94075,
          52.94075,
          52.94075,
          52.94075,
          52.94075,
          52.94075,
          52.94075,
          52.94075,
          52.94075,
          52.94075,
          52.94075,
          52.94075,
          52.94075,
          52.94075,
          52.94075,
          52.94075,
          52.94075,
          52.94075,
          52.94075,
          52.94075,
          52.94075,
          52.94075,
          52.94075,
          52.94075,
          52.94075,
          52.94075,
          52.94075,
          52.94075,
          52.94075,
          52.94075,
          52.94075,
          52.94075,
          53.776250000000005,
          53.776250000000005,
          53.776250000000005,
          53.776250000000005,
          53.776250000000005,
          53.776250000000005,
          53.776250000000005,
          53.776250000000005,
          53.776250000000005,
          53.776250000000005,
          53.776250000000005,
          53.776250000000005,
          53.776250000000005,
          53.776250000000005,
          53.776250000000005,
          53.776250000000005,
          53.776250000000005,
          53.776250000000005,
          53.776250000000005,
          53.776250000000005,
          53.776250000000005,
          53.776250000000005,
          53.776250000000005,
          53.776250000000005,
          53.776250000000005,
          53.776250000000005,
          53.776250000000005,
          53.776250000000005,
          53.776250000000005,
          53.776250000000005,
          53.776250000000005,
          53.776250000000005,
          53.776250000000005,
          53.776250000000005,
          53.776250000000005,
          53.776250000000005,
          53.776250000000005,
          53.776250000000005,
          53.776250000000005,
          53.776250000000005,
          53.776250000000005,
          53.776250000000005,
          53.776250000000005,
          53.776250000000005,
          53.776250000000005,
          53.776250000000005,
          53.776250000000005,
          53.776250000000005,
          53.776250000000005,
          53.776250000000005,
          53.776250000000005,
          53.776250000000005,
          53.776250000000005,
          53.776250000000005,
          53.776250000000005,
          53.776250000000005,
          53.776250000000005,
          53.776250000000005,
          53.776250000000005,
          53.776250000000005,
          53.776250000000005,
          53.776250000000005,
          53.776250000000005,
          53.776250000000005,
          53.776250000000005,
          53.776250000000005,
          53.776250000000005,
          53.776250000000005,
          53.776250000000005,
          53.776250000000005,
          53.776250000000005,
          53.776250000000005,
          53.776250000000005,
          53.776250000000005,
          53.776250000000005,
          53.776250000000005,
          53.776250000000005,
          53.776250000000005,
          53.776250000000005,
          53.776250000000005
         ],
         "y0": " ",
         "yaxis": "y"
        }
       ],
       "layout": {
        "boxmode": "group",
        "legend": {
         "tracegroupgap": 0
        },
        "showlegend": false,
        "template": {
         "data": {
          "bar": [
           {
            "error_x": {
             "color": "#2a3f5f"
            },
            "error_y": {
             "color": "#2a3f5f"
            },
            "marker": {
             "line": {
              "color": "#E5ECF6",
              "width": 0.5
             },
             "pattern": {
              "fillmode": "overlay",
              "size": 10,
              "solidity": 0.2
             }
            },
            "type": "bar"
           }
          ],
          "barpolar": [
           {
            "marker": {
             "line": {
              "color": "#E5ECF6",
              "width": 0.5
             },
             "pattern": {
              "fillmode": "overlay",
              "size": 10,
              "solidity": 0.2
             }
            },
            "type": "barpolar"
           }
          ],
          "carpet": [
           {
            "aaxis": {
             "endlinecolor": "#2a3f5f",
             "gridcolor": "white",
             "linecolor": "white",
             "minorgridcolor": "white",
             "startlinecolor": "#2a3f5f"
            },
            "baxis": {
             "endlinecolor": "#2a3f5f",
             "gridcolor": "white",
             "linecolor": "white",
             "minorgridcolor": "white",
             "startlinecolor": "#2a3f5f"
            },
            "type": "carpet"
           }
          ],
          "choropleth": [
           {
            "colorbar": {
             "outlinewidth": 0,
             "ticks": ""
            },
            "type": "choropleth"
           }
          ],
          "contour": [
           {
            "colorbar": {
             "outlinewidth": 0,
             "ticks": ""
            },
            "colorscale": [
             [
              0,
              "#0d0887"
             ],
             [
              0.1111111111111111,
              "#46039f"
             ],
             [
              0.2222222222222222,
              "#7201a8"
             ],
             [
              0.3333333333333333,
              "#9c179e"
             ],
             [
              0.4444444444444444,
              "#bd3786"
             ],
             [
              0.5555555555555556,
              "#d8576b"
             ],
             [
              0.6666666666666666,
              "#ed7953"
             ],
             [
              0.7777777777777778,
              "#fb9f3a"
             ],
             [
              0.8888888888888888,
              "#fdca26"
             ],
             [
              1,
              "#f0f921"
             ]
            ],
            "type": "contour"
           }
          ],
          "contourcarpet": [
           {
            "colorbar": {
             "outlinewidth": 0,
             "ticks": ""
            },
            "type": "contourcarpet"
           }
          ],
          "heatmap": [
           {
            "colorbar": {
             "outlinewidth": 0,
             "ticks": ""
            },
            "colorscale": [
             [
              0,
              "#0d0887"
             ],
             [
              0.1111111111111111,
              "#46039f"
             ],
             [
              0.2222222222222222,
              "#7201a8"
             ],
             [
              0.3333333333333333,
              "#9c179e"
             ],
             [
              0.4444444444444444,
              "#bd3786"
             ],
             [
              0.5555555555555556,
              "#d8576b"
             ],
             [
              0.6666666666666666,
              "#ed7953"
             ],
             [
              0.7777777777777778,
              "#fb9f3a"
             ],
             [
              0.8888888888888888,
              "#fdca26"
             ],
             [
              1,
              "#f0f921"
             ]
            ],
            "type": "heatmap"
           }
          ],
          "heatmapgl": [
           {
            "colorbar": {
             "outlinewidth": 0,
             "ticks": ""
            },
            "colorscale": [
             [
              0,
              "#0d0887"
             ],
             [
              0.1111111111111111,
              "#46039f"
             ],
             [
              0.2222222222222222,
              "#7201a8"
             ],
             [
              0.3333333333333333,
              "#9c179e"
             ],
             [
              0.4444444444444444,
              "#bd3786"
             ],
             [
              0.5555555555555556,
              "#d8576b"
             ],
             [
              0.6666666666666666,
              "#ed7953"
             ],
             [
              0.7777777777777778,
              "#fb9f3a"
             ],
             [
              0.8888888888888888,
              "#fdca26"
             ],
             [
              1,
              "#f0f921"
             ]
            ],
            "type": "heatmapgl"
           }
          ],
          "histogram": [
           {
            "marker": {
             "pattern": {
              "fillmode": "overlay",
              "size": 10,
              "solidity": 0.2
             }
            },
            "type": "histogram"
           }
          ],
          "histogram2d": [
           {
            "colorbar": {
             "outlinewidth": 0,
             "ticks": ""
            },
            "colorscale": [
             [
              0,
              "#0d0887"
             ],
             [
              0.1111111111111111,
              "#46039f"
             ],
             [
              0.2222222222222222,
              "#7201a8"
             ],
             [
              0.3333333333333333,
              "#9c179e"
             ],
             [
              0.4444444444444444,
              "#bd3786"
             ],
             [
              0.5555555555555556,
              "#d8576b"
             ],
             [
              0.6666666666666666,
              "#ed7953"
             ],
             [
              0.7777777777777778,
              "#fb9f3a"
             ],
             [
              0.8888888888888888,
              "#fdca26"
             ],
             [
              1,
              "#f0f921"
             ]
            ],
            "type": "histogram2d"
           }
          ],
          "histogram2dcontour": [
           {
            "colorbar": {
             "outlinewidth": 0,
             "ticks": ""
            },
            "colorscale": [
             [
              0,
              "#0d0887"
             ],
             [
              0.1111111111111111,
              "#46039f"
             ],
             [
              0.2222222222222222,
              "#7201a8"
             ],
             [
              0.3333333333333333,
              "#9c179e"
             ],
             [
              0.4444444444444444,
              "#bd3786"
             ],
             [
              0.5555555555555556,
              "#d8576b"
             ],
             [
              0.6666666666666666,
              "#ed7953"
             ],
             [
              0.7777777777777778,
              "#fb9f3a"
             ],
             [
              0.8888888888888888,
              "#fdca26"
             ],
             [
              1,
              "#f0f921"
             ]
            ],
            "type": "histogram2dcontour"
           }
          ],
          "mesh3d": [
           {
            "colorbar": {
             "outlinewidth": 0,
             "ticks": ""
            },
            "type": "mesh3d"
           }
          ],
          "parcoords": [
           {
            "line": {
             "colorbar": {
              "outlinewidth": 0,
              "ticks": ""
             }
            },
            "type": "parcoords"
           }
          ],
          "pie": [
           {
            "automargin": true,
            "type": "pie"
           }
          ],
          "scatter": [
           {
            "fillpattern": {
             "fillmode": "overlay",
             "size": 10,
             "solidity": 0.2
            },
            "type": "scatter"
           }
          ],
          "scatter3d": [
           {
            "line": {
             "colorbar": {
              "outlinewidth": 0,
              "ticks": ""
             }
            },
            "marker": {
             "colorbar": {
              "outlinewidth": 0,
              "ticks": ""
             }
            },
            "type": "scatter3d"
           }
          ],
          "scattercarpet": [
           {
            "marker": {
             "colorbar": {
              "outlinewidth": 0,
              "ticks": ""
             }
            },
            "type": "scattercarpet"
           }
          ],
          "scattergeo": [
           {
            "marker": {
             "colorbar": {
              "outlinewidth": 0,
              "ticks": ""
             }
            },
            "type": "scattergeo"
           }
          ],
          "scattergl": [
           {
            "marker": {
             "colorbar": {
              "outlinewidth": 0,
              "ticks": ""
             }
            },
            "type": "scattergl"
           }
          ],
          "scattermapbox": [
           {
            "marker": {
             "colorbar": {
              "outlinewidth": 0,
              "ticks": ""
             }
            },
            "type": "scattermapbox"
           }
          ],
          "scatterpolar": [
           {
            "marker": {
             "colorbar": {
              "outlinewidth": 0,
              "ticks": ""
             }
            },
            "type": "scatterpolar"
           }
          ],
          "scatterpolargl": [
           {
            "marker": {
             "colorbar": {
              "outlinewidth": 0,
              "ticks": ""
             }
            },
            "type": "scatterpolargl"
           }
          ],
          "scatterternary": [
           {
            "marker": {
             "colorbar": {
              "outlinewidth": 0,
              "ticks": ""
             }
            },
            "type": "scatterternary"
           }
          ],
          "surface": [
           {
            "colorbar": {
             "outlinewidth": 0,
             "ticks": ""
            },
            "colorscale": [
             [
              0,
              "#0d0887"
             ],
             [
              0.1111111111111111,
              "#46039f"
             ],
             [
              0.2222222222222222,
              "#7201a8"
             ],
             [
              0.3333333333333333,
              "#9c179e"
             ],
             [
              0.4444444444444444,
              "#bd3786"
             ],
             [
              0.5555555555555556,
              "#d8576b"
             ],
             [
              0.6666666666666666,
              "#ed7953"
             ],
             [
              0.7777777777777778,
              "#fb9f3a"
             ],
             [
              0.8888888888888888,
              "#fdca26"
             ],
             [
              1,
              "#f0f921"
             ]
            ],
            "type": "surface"
           }
          ],
          "table": [
           {
            "cells": {
             "fill": {
              "color": "#EBF0F8"
             },
             "line": {
              "color": "white"
             }
            },
            "header": {
             "fill": {
              "color": "#C8D4E3"
             },
             "line": {
              "color": "white"
             }
            },
            "type": "table"
           }
          ]
         },
         "layout": {
          "annotationdefaults": {
           "arrowcolor": "#2a3f5f",
           "arrowhead": 0,
           "arrowwidth": 1
          },
          "autotypenumbers": "strict",
          "coloraxis": {
           "colorbar": {
            "outlinewidth": 0,
            "ticks": ""
           }
          },
          "colorscale": {
           "diverging": [
            [
             0,
             "#8e0152"
            ],
            [
             0.1,
             "#c51b7d"
            ],
            [
             0.2,
             "#de77ae"
            ],
            [
             0.3,
             "#f1b6da"
            ],
            [
             0.4,
             "#fde0ef"
            ],
            [
             0.5,
             "#f7f7f7"
            ],
            [
             0.6,
             "#e6f5d0"
            ],
            [
             0.7,
             "#b8e186"
            ],
            [
             0.8,
             "#7fbc41"
            ],
            [
             0.9,
             "#4d9221"
            ],
            [
             1,
             "#276419"
            ]
           ],
           "sequential": [
            [
             0,
             "#0d0887"
            ],
            [
             0.1111111111111111,
             "#46039f"
            ],
            [
             0.2222222222222222,
             "#7201a8"
            ],
            [
             0.3333333333333333,
             "#9c179e"
            ],
            [
             0.4444444444444444,
             "#bd3786"
            ],
            [
             0.5555555555555556,
             "#d8576b"
            ],
            [
             0.6666666666666666,
             "#ed7953"
            ],
            [
             0.7777777777777778,
             "#fb9f3a"
            ],
            [
             0.8888888888888888,
             "#fdca26"
            ],
            [
             1,
             "#f0f921"
            ]
           ],
           "sequentialminus": [
            [
             0,
             "#0d0887"
            ],
            [
             0.1111111111111111,
             "#46039f"
            ],
            [
             0.2222222222222222,
             "#7201a8"
            ],
            [
             0.3333333333333333,
             "#9c179e"
            ],
            [
             0.4444444444444444,
             "#bd3786"
            ],
            [
             0.5555555555555556,
             "#d8576b"
            ],
            [
             0.6666666666666666,
             "#ed7953"
            ],
            [
             0.7777777777777778,
             "#fb9f3a"
            ],
            [
             0.8888888888888888,
             "#fdca26"
            ],
            [
             1,
             "#f0f921"
            ]
           ]
          },
          "colorway": [
           "#636efa",
           "#EF553B",
           "#00cc96",
           "#ab63fa",
           "#FFA15A",
           "#19d3f3",
           "#FF6692",
           "#B6E880",
           "#FF97FF",
           "#FECB52"
          ],
          "font": {
           "color": "#2a3f5f"
          },
          "geo": {
           "bgcolor": "white",
           "lakecolor": "white",
           "landcolor": "#E5ECF6",
           "showlakes": true,
           "showland": true,
           "subunitcolor": "white"
          },
          "hoverlabel": {
           "align": "left"
          },
          "hovermode": "closest",
          "mapbox": {
           "style": "light"
          },
          "paper_bgcolor": "white",
          "plot_bgcolor": "#E5ECF6",
          "polar": {
           "angularaxis": {
            "gridcolor": "white",
            "linecolor": "white",
            "ticks": ""
           },
           "bgcolor": "#E5ECF6",
           "radialaxis": {
            "gridcolor": "white",
            "linecolor": "white",
            "ticks": ""
           }
          },
          "scene": {
           "xaxis": {
            "backgroundcolor": "#E5ECF6",
            "gridcolor": "white",
            "gridwidth": 2,
            "linecolor": "white",
            "showbackground": true,
            "ticks": "",
            "zerolinecolor": "white"
           },
           "yaxis": {
            "backgroundcolor": "#E5ECF6",
            "gridcolor": "white",
            "gridwidth": 2,
            "linecolor": "white",
            "showbackground": true,
            "ticks": "",
            "zerolinecolor": "white"
           },
           "zaxis": {
            "backgroundcolor": "#E5ECF6",
            "gridcolor": "white",
            "gridwidth": 2,
            "linecolor": "white",
            "showbackground": true,
            "ticks": "",
            "zerolinecolor": "white"
           }
          },
          "shapedefaults": {
           "line": {
            "color": "#2a3f5f"
           }
          },
          "ternary": {
           "aaxis": {
            "gridcolor": "white",
            "linecolor": "white",
            "ticks": ""
           },
           "baxis": {
            "gridcolor": "white",
            "linecolor": "white",
            "ticks": ""
           },
           "bgcolor": "#E5ECF6",
           "caxis": {
            "gridcolor": "white",
            "linecolor": "white",
            "ticks": ""
           }
          },
          "title": {
           "x": 0.05
          },
          "xaxis": {
           "automargin": true,
           "gridcolor": "white",
           "linecolor": "white",
           "ticks": "",
           "title": {
            "standoff": 15
           },
           "zerolinecolor": "white",
           "zerolinewidth": 2
          },
          "yaxis": {
           "automargin": true,
           "gridcolor": "white",
           "linecolor": "white",
           "ticks": "",
           "title": {
            "standoff": 15
           },
           "zerolinecolor": "white",
           "zerolinewidth": 2
          }
         }
        },
        "title": {
         "text": "Interactive Weekly Sales by Promotion"
        },
        "xaxis": {
         "anchor": "y",
         "domain": [
          0,
          1
         ],
         "title": {
          "text": "Promotion_1"
         }
        },
        "yaxis": {
         "anchor": "x",
         "domain": [
          0,
          1
         ],
         "title": {
          "text": "AvgWeeklySales"
         }
        }
       }
      },
      "text/html": [
       "<div>                            <div id=\"ddd3a0bd-5d23-4b02-a0ed-848fc7c09aa2\" class=\"plotly-graph-div\" style=\"height:525px; width:100%;\"></div>            <script type=\"text/javascript\">                require([\"plotly\"], function(Plotly) {                    window.PLOTLYENV=window.PLOTLYENV || {};                                    if (document.getElementById(\"ddd3a0bd-5d23-4b02-a0ed-848fc7c09aa2\")) {                    Plotly.newPlot(                        \"ddd3a0bd-5d23-4b02-a0ed-848fc7c09aa2\",                        [{\"alignmentgroup\":\"True\",\"hovertemplate\":\"Promotion_1=%{x}<br>AvgWeeklySales=%{y}<extra></extra>\",\"legendgroup\":\"\",\"marker\":{\"color\":\"#636efa\"},\"name\":\"\",\"notched\":false,\"offsetgroup\":\"\",\"orientation\":\"v\",\"showlegend\":false,\"x\":[false,false,false,false,false,false,false,false,true,true,true,true,false,false,false,false,false,false,false,false,false,false,false,false,true,true,true,true,false,false,false,false,true,true,true,true,false,false,false,false,false,false,false,false,true,true,true,true,true,true,true,true,true,true,true,true,false,false,false,false,false,false,false,false,false,false,false,false,false,false,false,false,false,false,false,false,false,false,false,false,true,true,true,true,false,false,false,false,false,false,false,false,false,false,false,false,false,false,false,false,false,false,false,false,false,false,false,false,true,true,true,true,true,true,true,true,false,false,false,false,false,false,false,false,false,false,false,false,true,true,true,true,false,false,false,false,false,false,false,false,false,false,false,false,true,true,true,true,false,false,false,false,true,true,true,true,false,false,false,false,true,true,true,true,false,false,false,false,false,false,false,false,true,true,true,true,true,true,true,true,false,false,false,false,true,true,true,true,false,false,false,false,false,false,false,false,true,true,true,true,false,false,false,false,false,false,false,false,false,false,false,false,false,false,false,false,false,false,false,false,false,false,false,false,false,false,false,false,false,false,false,false,false,false,false,false,true,true,true,true,false,false,false,false,true,true,true,true,false,false,false,false,false,false,false,false,false,false,false,false,false,false,false,false,false,false,false,false,false,false,false,false,true,true,true,true,false,false,false,false,false,false,false,false,false,false,false,false,false,false,false,false,true,true,true,true,false,false,false,false,false,false,false,false,true,true,true,true,true,true,true,true,true,true,true,true,false,false,false,false,false,false,false,false,false,false,false,false,false,false,false,false,false,false,false,false,false,false,false,false,false,false,false,false,false,false,false,false,true,true,true,true,true,true,true,true,true,true,true,true,false,false,false,false,false,false,false,false,true,true,true,true,false,false,false,false,false,false,false,false,false,false,false,false,true,true,true,true,true,true,true,true,true,true,true,true,false,false,false,false,false,false,false,false,true,true,true,true,false,false,false,false,false,false,false,false,false,false,false,false,true,true,true,true,false,false,false,false,true,true,true,true,false,false,false,false,false,false,false,false,true,true,true,true,false,false,false,false,false,false,false,false,false,false,false,false,false,false,false,false,false,false,false,false,true,true,true,true,false,false,false,false,true,true,true,true,false,false,false,false,false,false,false,false,false,false,false,false,false,false,false,false,false,false,false,false,false,false,false,false,true,true,true,true,true,true,true,true,false,false,false,false,false,false,false,false,true,true,true,true,false,false,false,false,true,true,true,true,false,false,false,false,false,false,false,false,true,true,true,true,true,true,true,true,false,false,false,false],\"x0\":\" \",\"xaxis\":\"x\",\"y\":[35.10173076923077,35.10173076923077,35.10173076923077,35.10173076923077,35.10173076923077,35.10173076923077,35.10173076923077,35.10173076923077,35.10173076923077,35.10173076923077,35.10173076923077,35.10173076923077,35.10173076923077,35.10173076923077,35.10173076923077,35.10173076923077,35.10173076923077,35.10173076923077,35.10173076923077,35.10173076923077,35.10173076923077,35.10173076923077,35.10173076923077,35.10173076923077,35.10173076923077,35.10173076923077,35.10173076923077,35.10173076923077,35.10173076923077,35.10173076923077,35.10173076923077,35.10173076923077,35.10173076923077,35.10173076923077,35.10173076923077,35.10173076923077,35.10173076923077,35.10173076923077,35.10173076923077,35.10173076923077,35.10173076923077,35.10173076923077,35.10173076923077,35.10173076923077,35.10173076923077,35.10173076923077,35.10173076923077,35.10173076923077,35.10173076923077,35.10173076923077,35.10173076923077,35.10173076923077,61.76125,61.76125,61.76125,61.76125,61.76125,61.76125,61.76125,61.76125,61.76125,61.76125,61.76125,61.76125,61.76125,61.76125,61.76125,61.76125,61.76125,61.76125,61.76125,61.76125,61.76125,61.76125,61.76125,61.76125,84.97170454545454,84.97170454545454,84.97170454545454,84.97170454545454,84.97170454545454,84.97170454545454,84.97170454545454,84.97170454545454,84.97170454545454,84.97170454545454,84.97170454545454,84.97170454545454,84.97170454545454,84.97170454545454,84.97170454545454,84.97170454545454,84.97170454545454,84.97170454545454,84.97170454545454,84.97170454545454,84.97170454545454,84.97170454545454,84.97170454545454,84.97170454545454,84.97170454545454,84.97170454545454,84.97170454545454,84.97170454545454,84.97170454545454,84.97170454545454,84.97170454545454,84.97170454545454,84.97170454545454,84.97170454545454,84.97170454545454,84.97170454545454,84.97170454545454,84.97170454545454,84.97170454545454,84.97170454545454,84.97170454545454,84.97170454545454,84.97170454545454,84.97170454545454,84.97170454545454,84.97170454545454,84.97170454545454,84.97170454545454,84.97170454545454,84.97170454545454,84.97170454545454,84.97170454545454,84.97170454545454,84.97170454545454,84.97170454545454,84.97170454545454,84.97170454545454,84.97170454545454,84.97170454545454,84.97170454545454,84.97170454545454,84.97170454545454,84.97170454545454,84.97170454545454,84.97170454545454,84.97170454545454,84.97170454545454,84.97170454545454,84.97170454545454,84.97170454545454,84.97170454545454,84.97170454545454,84.97170454545454,84.97170454545454,84.97170454545454,84.97170454545454,84.97170454545454,84.97170454545454,84.97170454545454,84.97170454545454,84.97170454545454,84.97170454545454,84.97170454545454,84.97170454545454,84.97170454545454,84.97170454545454,84.97170454545454,84.97170454545454,54.50805555555556,54.50805555555556,54.50805555555556,54.50805555555556,54.50805555555556,54.50805555555556,54.50805555555556,54.50805555555556,54.50805555555556,54.50805555555556,54.50805555555556,54.50805555555556,54.50805555555556,54.50805555555556,54.50805555555556,54.50805555555556,54.50805555555556,54.50805555555556,54.50805555555556,54.50805555555556,54.50805555555556,54.50805555555556,54.50805555555556,54.50805555555556,54.50805555555556,54.50805555555556,54.50805555555556,54.50805555555556,54.50805555555556,54.50805555555556,54.50805555555556,54.50805555555556,54.50805555555556,54.50805555555556,54.50805555555556,54.50805555555556,48.838,48.838,48.838,48.838,48.838,48.838,48.838,48.838,48.838,48.838,48.838,48.838,48.838,48.838,48.838,48.838,48.838,48.838,48.838,48.838,48.838,48.838,48.838,48.838,48.838,48.838,48.838,48.838,48.838,48.838,48.838,48.838,48.838,48.838,48.838,48.838,48.838,48.838,48.838,48.838,48.838,48.838,48.838,48.838,48.838,48.838,48.838,48.838,48.838,48.838,48.838,48.838,48.838,48.838,48.838,48.838,48.838,48.838,48.838,48.838,36.3975,36.3975,36.3975,36.3975,36.3975,36.3975,36.3975,36.3975,36.3975,36.3975,36.3975,36.3975,36.3975,36.3975,36.3975,36.3975,36.3975,36.3975,36.3975,36.3975,36.3975,36.3975,36.3975,36.3975,36.3975,36.3975,36.3975,36.3975,36.3975,36.3975,36.3975,36.3975,36.3975,36.3975,36.3975,36.3975,36.3975,36.3975,36.3975,36.3975,36.3975,36.3975,36.3975,36.3975,36.3975,36.3975,36.3975,36.3975,36.3975,36.3975,36.3975,36.3975,36.3975,36.3975,36.3975,36.3975,36.3975,36.3975,36.3975,36.3975,44.47533333333333,44.47533333333333,44.47533333333333,44.47533333333333,44.47533333333333,44.47533333333333,44.47533333333333,44.47533333333333,44.47533333333333,44.47533333333333,44.47533333333333,44.47533333333333,44.47533333333333,44.47533333333333,44.47533333333333,44.47533333333333,44.47533333333333,44.47533333333333,44.47533333333333,44.47533333333333,44.47533333333333,44.47533333333333,44.47533333333333,44.47533333333333,44.47533333333333,44.47533333333333,44.47533333333333,44.47533333333333,44.47533333333333,44.47533333333333,44.47533333333333,44.47533333333333,44.47533333333333,44.47533333333333,44.47533333333333,44.47533333333333,44.47533333333333,44.47533333333333,44.47533333333333,44.47533333333333,44.47533333333333,44.47533333333333,44.47533333333333,44.47533333333333,44.47533333333333,44.47533333333333,44.47533333333333,44.47533333333333,44.47533333333333,44.47533333333333,44.47533333333333,44.47533333333333,44.47533333333333,44.47533333333333,44.47533333333333,44.47533333333333,44.47533333333333,44.47533333333333,44.47533333333333,44.47533333333333,48.952916666666674,48.952916666666674,48.952916666666674,48.952916666666674,48.952916666666674,48.952916666666674,48.952916666666674,48.952916666666674,48.952916666666674,48.952916666666674,48.952916666666674,48.952916666666674,48.952916666666674,48.952916666666674,48.952916666666674,48.952916666666674,48.952916666666674,48.952916666666674,48.952916666666674,48.952916666666674,48.952916666666674,48.952916666666674,48.952916666666674,48.952916666666674,48.952916666666674,48.952916666666674,48.952916666666674,48.952916666666674,48.952916666666674,48.952916666666674,48.952916666666674,48.952916666666674,48.952916666666674,48.952916666666674,48.952916666666674,48.952916666666674,48.952916666666674,48.952916666666674,48.952916666666674,48.952916666666674,48.952916666666674,48.952916666666674,48.952916666666674,48.952916666666674,48.952916666666674,48.952916666666674,48.952916666666674,48.952916666666674,52.94075,52.94075,52.94075,52.94075,52.94075,52.94075,52.94075,52.94075,52.94075,52.94075,52.94075,52.94075,52.94075,52.94075,52.94075,52.94075,52.94075,52.94075,52.94075,52.94075,52.94075,52.94075,52.94075,52.94075,52.94075,52.94075,52.94075,52.94075,52.94075,52.94075,52.94075,52.94075,52.94075,52.94075,52.94075,52.94075,52.94075,52.94075,52.94075,52.94075,53.776250000000005,53.776250000000005,53.776250000000005,53.776250000000005,53.776250000000005,53.776250000000005,53.776250000000005,53.776250000000005,53.776250000000005,53.776250000000005,53.776250000000005,53.776250000000005,53.776250000000005,53.776250000000005,53.776250000000005,53.776250000000005,53.776250000000005,53.776250000000005,53.776250000000005,53.776250000000005,53.776250000000005,53.776250000000005,53.776250000000005,53.776250000000005,53.776250000000005,53.776250000000005,53.776250000000005,53.776250000000005,53.776250000000005,53.776250000000005,53.776250000000005,53.776250000000005,53.776250000000005,53.776250000000005,53.776250000000005,53.776250000000005,53.776250000000005,53.776250000000005,53.776250000000005,53.776250000000005,53.776250000000005,53.776250000000005,53.776250000000005,53.776250000000005,53.776250000000005,53.776250000000005,53.776250000000005,53.776250000000005,53.776250000000005,53.776250000000005,53.776250000000005,53.776250000000005,53.776250000000005,53.776250000000005,53.776250000000005,53.776250000000005,53.776250000000005,53.776250000000005,53.776250000000005,53.776250000000005,53.776250000000005,53.776250000000005,53.776250000000005,53.776250000000005,53.776250000000005,53.776250000000005,53.776250000000005,53.776250000000005,53.776250000000005,53.776250000000005,53.776250000000005,53.776250000000005,53.776250000000005,53.776250000000005,53.776250000000005,53.776250000000005,53.776250000000005,53.776250000000005,53.776250000000005,53.776250000000005],\"y0\":\" \",\"yaxis\":\"y\",\"type\":\"box\"}],                        {\"template\":{\"data\":{\"histogram2dcontour\":[{\"type\":\"histogram2dcontour\",\"colorbar\":{\"outlinewidth\":0,\"ticks\":\"\"},\"colorscale\":[[0.0,\"#0d0887\"],[0.1111111111111111,\"#46039f\"],[0.2222222222222222,\"#7201a8\"],[0.3333333333333333,\"#9c179e\"],[0.4444444444444444,\"#bd3786\"],[0.5555555555555556,\"#d8576b\"],[0.6666666666666666,\"#ed7953\"],[0.7777777777777778,\"#fb9f3a\"],[0.8888888888888888,\"#fdca26\"],[1.0,\"#f0f921\"]]}],\"choropleth\":[{\"type\":\"choropleth\",\"colorbar\":{\"outlinewidth\":0,\"ticks\":\"\"}}],\"histogram2d\":[{\"type\":\"histogram2d\",\"colorbar\":{\"outlinewidth\":0,\"ticks\":\"\"},\"colorscale\":[[0.0,\"#0d0887\"],[0.1111111111111111,\"#46039f\"],[0.2222222222222222,\"#7201a8\"],[0.3333333333333333,\"#9c179e\"],[0.4444444444444444,\"#bd3786\"],[0.5555555555555556,\"#d8576b\"],[0.6666666666666666,\"#ed7953\"],[0.7777777777777778,\"#fb9f3a\"],[0.8888888888888888,\"#fdca26\"],[1.0,\"#f0f921\"]]}],\"heatmap\":[{\"type\":\"heatmap\",\"colorbar\":{\"outlinewidth\":0,\"ticks\":\"\"},\"colorscale\":[[0.0,\"#0d0887\"],[0.1111111111111111,\"#46039f\"],[0.2222222222222222,\"#7201a8\"],[0.3333333333333333,\"#9c179e\"],[0.4444444444444444,\"#bd3786\"],[0.5555555555555556,\"#d8576b\"],[0.6666666666666666,\"#ed7953\"],[0.7777777777777778,\"#fb9f3a\"],[0.8888888888888888,\"#fdca26\"],[1.0,\"#f0f921\"]]}],\"heatmapgl\":[{\"type\":\"heatmapgl\",\"colorbar\":{\"outlinewidth\":0,\"ticks\":\"\"},\"colorscale\":[[0.0,\"#0d0887\"],[0.1111111111111111,\"#46039f\"],[0.2222222222222222,\"#7201a8\"],[0.3333333333333333,\"#9c179e\"],[0.4444444444444444,\"#bd3786\"],[0.5555555555555556,\"#d8576b\"],[0.6666666666666666,\"#ed7953\"],[0.7777777777777778,\"#fb9f3a\"],[0.8888888888888888,\"#fdca26\"],[1.0,\"#f0f921\"]]}],\"contourcarpet\":[{\"type\":\"contourcarpet\",\"colorbar\":{\"outlinewidth\":0,\"ticks\":\"\"}}],\"contour\":[{\"type\":\"contour\",\"colorbar\":{\"outlinewidth\":0,\"ticks\":\"\"},\"colorscale\":[[0.0,\"#0d0887\"],[0.1111111111111111,\"#46039f\"],[0.2222222222222222,\"#7201a8\"],[0.3333333333333333,\"#9c179e\"],[0.4444444444444444,\"#bd3786\"],[0.5555555555555556,\"#d8576b\"],[0.6666666666666666,\"#ed7953\"],[0.7777777777777778,\"#fb9f3a\"],[0.8888888888888888,\"#fdca26\"],[1.0,\"#f0f921\"]]}],\"surface\":[{\"type\":\"surface\",\"colorbar\":{\"outlinewidth\":0,\"ticks\":\"\"},\"colorscale\":[[0.0,\"#0d0887\"],[0.1111111111111111,\"#46039f\"],[0.2222222222222222,\"#7201a8\"],[0.3333333333333333,\"#9c179e\"],[0.4444444444444444,\"#bd3786\"],[0.5555555555555556,\"#d8576b\"],[0.6666666666666666,\"#ed7953\"],[0.7777777777777778,\"#fb9f3a\"],[0.8888888888888888,\"#fdca26\"],[1.0,\"#f0f921\"]]}],\"mesh3d\":[{\"type\":\"mesh3d\",\"colorbar\":{\"outlinewidth\":0,\"ticks\":\"\"}}],\"scatter\":[{\"fillpattern\":{\"fillmode\":\"overlay\",\"size\":10,\"solidity\":0.2},\"type\":\"scatter\"}],\"parcoords\":[{\"type\":\"parcoords\",\"line\":{\"colorbar\":{\"outlinewidth\":0,\"ticks\":\"\"}}}],\"scatterpolargl\":[{\"type\":\"scatterpolargl\",\"marker\":{\"colorbar\":{\"outlinewidth\":0,\"ticks\":\"\"}}}],\"bar\":[{\"error_x\":{\"color\":\"#2a3f5f\"},\"error_y\":{\"color\":\"#2a3f5f\"},\"marker\":{\"line\":{\"color\":\"#E5ECF6\",\"width\":0.5},\"pattern\":{\"fillmode\":\"overlay\",\"size\":10,\"solidity\":0.2}},\"type\":\"bar\"}],\"scattergeo\":[{\"type\":\"scattergeo\",\"marker\":{\"colorbar\":{\"outlinewidth\":0,\"ticks\":\"\"}}}],\"scatterpolar\":[{\"type\":\"scatterpolar\",\"marker\":{\"colorbar\":{\"outlinewidth\":0,\"ticks\":\"\"}}}],\"histogram\":[{\"marker\":{\"pattern\":{\"fillmode\":\"overlay\",\"size\":10,\"solidity\":0.2}},\"type\":\"histogram\"}],\"scattergl\":[{\"type\":\"scattergl\",\"marker\":{\"colorbar\":{\"outlinewidth\":0,\"ticks\":\"\"}}}],\"scatter3d\":[{\"type\":\"scatter3d\",\"line\":{\"colorbar\":{\"outlinewidth\":0,\"ticks\":\"\"}},\"marker\":{\"colorbar\":{\"outlinewidth\":0,\"ticks\":\"\"}}}],\"scattermapbox\":[{\"type\":\"scattermapbox\",\"marker\":{\"colorbar\":{\"outlinewidth\":0,\"ticks\":\"\"}}}],\"scatterternary\":[{\"type\":\"scatterternary\",\"marker\":{\"colorbar\":{\"outlinewidth\":0,\"ticks\":\"\"}}}],\"scattercarpet\":[{\"type\":\"scattercarpet\",\"marker\":{\"colorbar\":{\"outlinewidth\":0,\"ticks\":\"\"}}}],\"carpet\":[{\"aaxis\":{\"endlinecolor\":\"#2a3f5f\",\"gridcolor\":\"white\",\"linecolor\":\"white\",\"minorgridcolor\":\"white\",\"startlinecolor\":\"#2a3f5f\"},\"baxis\":{\"endlinecolor\":\"#2a3f5f\",\"gridcolor\":\"white\",\"linecolor\":\"white\",\"minorgridcolor\":\"white\",\"startlinecolor\":\"#2a3f5f\"},\"type\":\"carpet\"}],\"table\":[{\"cells\":{\"fill\":{\"color\":\"#EBF0F8\"},\"line\":{\"color\":\"white\"}},\"header\":{\"fill\":{\"color\":\"#C8D4E3\"},\"line\":{\"color\":\"white\"}},\"type\":\"table\"}],\"barpolar\":[{\"marker\":{\"line\":{\"color\":\"#E5ECF6\",\"width\":0.5},\"pattern\":{\"fillmode\":\"overlay\",\"size\":10,\"solidity\":0.2}},\"type\":\"barpolar\"}],\"pie\":[{\"automargin\":true,\"type\":\"pie\"}]},\"layout\":{\"autotypenumbers\":\"strict\",\"colorway\":[\"#636efa\",\"#EF553B\",\"#00cc96\",\"#ab63fa\",\"#FFA15A\",\"#19d3f3\",\"#FF6692\",\"#B6E880\",\"#FF97FF\",\"#FECB52\"],\"font\":{\"color\":\"#2a3f5f\"},\"hovermode\":\"closest\",\"hoverlabel\":{\"align\":\"left\"},\"paper_bgcolor\":\"white\",\"plot_bgcolor\":\"#E5ECF6\",\"polar\":{\"bgcolor\":\"#E5ECF6\",\"angularaxis\":{\"gridcolor\":\"white\",\"linecolor\":\"white\",\"ticks\":\"\"},\"radialaxis\":{\"gridcolor\":\"white\",\"linecolor\":\"white\",\"ticks\":\"\"}},\"ternary\":{\"bgcolor\":\"#E5ECF6\",\"aaxis\":{\"gridcolor\":\"white\",\"linecolor\":\"white\",\"ticks\":\"\"},\"baxis\":{\"gridcolor\":\"white\",\"linecolor\":\"white\",\"ticks\":\"\"},\"caxis\":{\"gridcolor\":\"white\",\"linecolor\":\"white\",\"ticks\":\"\"}},\"coloraxis\":{\"colorbar\":{\"outlinewidth\":0,\"ticks\":\"\"}},\"colorscale\":{\"sequential\":[[0.0,\"#0d0887\"],[0.1111111111111111,\"#46039f\"],[0.2222222222222222,\"#7201a8\"],[0.3333333333333333,\"#9c179e\"],[0.4444444444444444,\"#bd3786\"],[0.5555555555555556,\"#d8576b\"],[0.6666666666666666,\"#ed7953\"],[0.7777777777777778,\"#fb9f3a\"],[0.8888888888888888,\"#fdca26\"],[1.0,\"#f0f921\"]],\"sequentialminus\":[[0.0,\"#0d0887\"],[0.1111111111111111,\"#46039f\"],[0.2222222222222222,\"#7201a8\"],[0.3333333333333333,\"#9c179e\"],[0.4444444444444444,\"#bd3786\"],[0.5555555555555556,\"#d8576b\"],[0.6666666666666666,\"#ed7953\"],[0.7777777777777778,\"#fb9f3a\"],[0.8888888888888888,\"#fdca26\"],[1.0,\"#f0f921\"]],\"diverging\":[[0,\"#8e0152\"],[0.1,\"#c51b7d\"],[0.2,\"#de77ae\"],[0.3,\"#f1b6da\"],[0.4,\"#fde0ef\"],[0.5,\"#f7f7f7\"],[0.6,\"#e6f5d0\"],[0.7,\"#b8e186\"],[0.8,\"#7fbc41\"],[0.9,\"#4d9221\"],[1,\"#276419\"]]},\"xaxis\":{\"gridcolor\":\"white\",\"linecolor\":\"white\",\"ticks\":\"\",\"title\":{\"standoff\":15},\"zerolinecolor\":\"white\",\"automargin\":true,\"zerolinewidth\":2},\"yaxis\":{\"gridcolor\":\"white\",\"linecolor\":\"white\",\"ticks\":\"\",\"title\":{\"standoff\":15},\"zerolinecolor\":\"white\",\"automargin\":true,\"zerolinewidth\":2},\"scene\":{\"xaxis\":{\"backgroundcolor\":\"#E5ECF6\",\"gridcolor\":\"white\",\"linecolor\":\"white\",\"showbackground\":true,\"ticks\":\"\",\"zerolinecolor\":\"white\",\"gridwidth\":2},\"yaxis\":{\"backgroundcolor\":\"#E5ECF6\",\"gridcolor\":\"white\",\"linecolor\":\"white\",\"showbackground\":true,\"ticks\":\"\",\"zerolinecolor\":\"white\",\"gridwidth\":2},\"zaxis\":{\"backgroundcolor\":\"#E5ECF6\",\"gridcolor\":\"white\",\"linecolor\":\"white\",\"showbackground\":true,\"ticks\":\"\",\"zerolinecolor\":\"white\",\"gridwidth\":2}},\"shapedefaults\":{\"line\":{\"color\":\"#2a3f5f\"}},\"annotationdefaults\":{\"arrowcolor\":\"#2a3f5f\",\"arrowhead\":0,\"arrowwidth\":1},\"geo\":{\"bgcolor\":\"white\",\"landcolor\":\"#E5ECF6\",\"subunitcolor\":\"white\",\"showland\":true,\"showlakes\":true,\"lakecolor\":\"white\"},\"title\":{\"x\":0.05},\"mapbox\":{\"style\":\"light\"}}},\"xaxis\":{\"anchor\":\"y\",\"domain\":[0.0,1.0],\"title\":{\"text\":\"Promotion_1\"}},\"yaxis\":{\"anchor\":\"x\",\"domain\":[0.0,1.0],\"title\":{\"text\":\"AvgWeeklySales\"}},\"legend\":{\"tracegroupgap\":0},\"title\":{\"text\":\"Interactive Weekly Sales by Promotion\"},\"boxmode\":\"group\",\"showlegend\":false},                        {\"responsive\": true}                    ).then(function(){\n",
       "                            \n",
       "var gd = document.getElementById('ddd3a0bd-5d23-4b02-a0ed-848fc7c09aa2');\n",
       "var x = new MutationObserver(function (mutations, observer) {{\n",
       "        var display = window.getComputedStyle(gd).display;\n",
       "        if (!display || display === 'none') {{\n",
       "            console.log([gd, 'removed!']);\n",
       "            Plotly.purge(gd);\n",
       "            observer.disconnect();\n",
       "        }}\n",
       "}});\n",
       "\n",
       "// Listen for the removal of the full notebook cells\n",
       "var notebookContainer = gd.closest('#notebook-container');\n",
       "if (notebookContainer) {{\n",
       "    x.observe(notebookContainer, {childList: true});\n",
       "}}\n",
       "\n",
       "// Listen for the clearing of the current output cell\n",
       "var outputEl = gd.closest('.output');\n",
       "if (outputEl) {{\n",
       "    x.observe(outputEl, {childList: true});\n",
       "}}\n",
       "\n",
       "                        })                };                });            </script>        </div>"
      ]
     },
     "metadata": {},
     "output_type": "display_data"
    },
    {
     "data": {
      "application/vnd.plotly.v1+json": {
       "config": {
        "plotlyServerURL": "https://plot.ly"
       },
       "data": [
        {
         "alignmentgroup": "True",
         "hovertemplate": "MarketSize=%{x}<br>SalesInThousands=%{y}<extra></extra>",
         "legendgroup": "",
         "marker": {
          "color": "#636efa",
          "pattern": {
           "shape": ""
          }
         },
         "name": "",
         "offsetgroup": "",
         "orientation": "v",
         "showlegend": false,
         "textposition": "auto",
         "type": "bar",
         "x": [
          "Small",
          "Small",
          "Small",
          "Small",
          "Small",
          "Small",
          "Small",
          "Small",
          "Small",
          "Small",
          "Small",
          "Small",
          "Small",
          "Small",
          "Small",
          "Small",
          "Small",
          "Small",
          "Small",
          "Small",
          "Small",
          "Small",
          "Small",
          "Small",
          "Small",
          "Small",
          "Small",
          "Small",
          "Small",
          "Small",
          "Small",
          "Small",
          "Small",
          "Small",
          "Small",
          "Small",
          "Small",
          "Small",
          "Small",
          "Small",
          "Small",
          "Small",
          "Small",
          "Small",
          "Small",
          "Small",
          "Small",
          "Small",
          "Small",
          "Small",
          "Small",
          "Small",
          "Small",
          "Small",
          "Small",
          "Small",
          "Small",
          "Small",
          "Small",
          "Small",
          "Small",
          "Small",
          "Small",
          "Small",
          "Small",
          "Small",
          "Small",
          "Small",
          "Small",
          "Small",
          "Small",
          "Small",
          "Small",
          "Small",
          "Small",
          "Small",
          "Small",
          "Small",
          "Small",
          "Small",
          "Small",
          "Small",
          "Small",
          "Small",
          "Small",
          "Small",
          "Small",
          "Small",
          "Small",
          "Small",
          "Small",
          "Small",
          "Small",
          "Small",
          "Small",
          "Small",
          "Small",
          "Small",
          "Small",
          "Small",
          "Small",
          "Small",
          "Small",
          "Small",
          "Small",
          "Small",
          "Small",
          "Small",
          "Small",
          "Small",
          "Small",
          "Small",
          "Small",
          "Small",
          "Small",
          "Small",
          "Small",
          "Small",
          "Small",
          "Small",
          "Small",
          "Small",
          "Small",
          "Small",
          "Small",
          "Small",
          "Small",
          "Small",
          "Small",
          "Small",
          "Small",
          "Small",
          "Small",
          "Small",
          "Small",
          "Small",
          "Small",
          "Small",
          "Small",
          "Small",
          "Small",
          "Small",
          "Small",
          "Small",
          "Small",
          "Small",
          "Small",
          "Small",
          "Small",
          "Small",
          "Small",
          "Small",
          "Small",
          "Small",
          "Small",
          "Small",
          "Small",
          "Small",
          "Small",
          "Small",
          "Small",
          "Small",
          "Small",
          "Small",
          "Small",
          "Small",
          "Small",
          "Small",
          "Small",
          "Small",
          "Small",
          "Small",
          "Small",
          "Small",
          "Small",
          "Small",
          "Small",
          "Small",
          "Small",
          "Small",
          "Small",
          "Small",
          "Small",
          "Small",
          "Small",
          "Small",
          "Small",
          "Small",
          "Small",
          "Small",
          "Small",
          "Small",
          "Small",
          "Small",
          "Small",
          "Small",
          "Small",
          "Small",
          "Small",
          "Small",
          "Small",
          "Small",
          "Small",
          "Small",
          "Small",
          "Small",
          "Small",
          "Small",
          "Small",
          "Small",
          "Small",
          "Small",
          "Small",
          "Small",
          "Small",
          "Small",
          "Small",
          "Small",
          "Small",
          "Small",
          "Small",
          "Small",
          "Small",
          "Small",
          "Small",
          "Small",
          "Small",
          "Small",
          "Small",
          "Small",
          "Small",
          "Small",
          "Small",
          "Small",
          "Small",
          "Small",
          "Small",
          "Small",
          "Small",
          "Small",
          "Small",
          "Small",
          "Small",
          "Small",
          "Small",
          "Small",
          "Small",
          "Small",
          "Small",
          "Small",
          "Small",
          "Small",
          "Small",
          "Small",
          "Small",
          "Small",
          "Small",
          "Small",
          "Small",
          "Small",
          "Small",
          "Small",
          "Small",
          "Small",
          "Small",
          "Small",
          "Small",
          "Small",
          "Small",
          "Small",
          "Small",
          "Small",
          "Small",
          "Small",
          "Small",
          "Small",
          "Small",
          "Small",
          "Small",
          "Small",
          "Small",
          "Small",
          "Small",
          "Small",
          "Small",
          "Small",
          "Small",
          "Small",
          "Small",
          "Small",
          "Small",
          "Small",
          "Small",
          "Small",
          "Small",
          "Small",
          "Small",
          "Small",
          "Small",
          "Small",
          "Small",
          "Small",
          "Small",
          "Small",
          "Small",
          "Small",
          "Small",
          "Small",
          "Small",
          "Small",
          "Small",
          "Small",
          "Small",
          "Small",
          "Small",
          "Small",
          "Small",
          "Small",
          "Small",
          "Small",
          "Small",
          "Small",
          "Small",
          "Small",
          "Small",
          "Small",
          "Small",
          "Small",
          "Small",
          "Small",
          "Small",
          "Small",
          "Small",
          "Small",
          "Small",
          "Small",
          "Small",
          "Small",
          "Small",
          "Small",
          "Small",
          "Small",
          "Small",
          "Small",
          "Small",
          "Small",
          "Small",
          "Small",
          "Small",
          "Small",
          "Small",
          "Small",
          "Small",
          "Small",
          "Small",
          "Small",
          "Small",
          "Small",
          "Small",
          "Small",
          "Small",
          "Small",
          "Small",
          "Small",
          "Small",
          "Small",
          "Small",
          "Small",
          "Small",
          "Small",
          "Small",
          "Small",
          "Small",
          "Small",
          "Small",
          "Small",
          "Small",
          "Small",
          "Small",
          "Small",
          "Small",
          "Small",
          "Small",
          "Small",
          "Small",
          "Small",
          "Small",
          "Small",
          "Small",
          "Small",
          "Small",
          "Small",
          "Small",
          "Small",
          "Small",
          "Small",
          "Small",
          "Small",
          "Small",
          "Small",
          "Small",
          "Small",
          "Small",
          "Small",
          "Small",
          "Small",
          "Small",
          "Small",
          "Small",
          "Small",
          "Small",
          "Small",
          "Small",
          "Small",
          "Small",
          "Small",
          "Small",
          "Small",
          "Small",
          "Small",
          "Small",
          "Small",
          "Small",
          "Small",
          "Small",
          "Small",
          "Small",
          "Small",
          "Small",
          "Small",
          "Small",
          "Small",
          "Small",
          "Small",
          "Small",
          "Small",
          "Small",
          "Small",
          "Small",
          "Small",
          "Small",
          "Small",
          "Small",
          "Small",
          "Small",
          "Small",
          "Small",
          "Small",
          "Small",
          "Small",
          "Small",
          "Small",
          "Small",
          "Small",
          "Small",
          "Small",
          "Small",
          "Small",
          "Small",
          "Small",
          "Small",
          "Small",
          "Small",
          "Small",
          "Small",
          "Small",
          "Small",
          "Small",
          "Small",
          "Small",
          "Small",
          "Small",
          "Small",
          "Small",
          "Small",
          "Small",
          "Small",
          "Small",
          "Small",
          "Small",
          "Small",
          "Small",
          "Small",
          "Small",
          "Small",
          "Small",
          "Small",
          "Small",
          "Small",
          "Small",
          "Small",
          "Small",
          "Small",
          "Small",
          "Small",
          "Small",
          "Small",
          "Small",
          "Small",
          "Small",
          "Small",
          "Small",
          "Small",
          "Small",
          "Small",
          "Small",
          "Small",
          "Small",
          "Small",
          "Small",
          "Small",
          "Small",
          "Small",
          "Small",
          "Small",
          "Small",
          "Small",
          "Small",
          "Small",
          "Small",
          "Small",
          "Small",
          "Small",
          "Small",
          "Small",
          "Small",
          "Small",
          "Small",
          "Small",
          "Small",
          "Small",
          "Small",
          "Small",
          "Small",
          "Small",
          "Small",
          "Small",
          "Small",
          "Small",
          "Small",
          "Small",
          "Small",
          "Small",
          "Small",
          "Small",
          "Small",
          "Small",
          "Small"
         ],
         "xaxis": "x",
         "y": [
          33.73,
          35.67,
          29.03,
          39.25,
          27.81,
          34.67,
          27.98,
          27.72,
          44.54,
          37.94,
          45.49,
          34.75,
          39.28,
          39.8,
          24.77,
          30.98,
          30.37,
          24.82,
          37.47,
          23.35,
          32.9,
          22.18,
          42.98,
          26.68,
          42.92,
          42.16,
          51.72,
          36.17,
          30.08,
          28.62,
          25.4,
          27.26,
          37.41,
          38.64,
          40.9,
          41.11,
          34.27,
          29.3,
          23.93,
          35.16,
          33.42,
          37.93,
          33.85,
          40.25,
          35.85,
          36.24,
          41.73,
          37.32,
          50.48,
          36.88,
          35.68,
          46.45,
          67.48,
          65.57,
          68.42,
          60.93,
          61.59,
          63.64,
          54.68,
          61.24,
          62.93,
          58.77,
          70.6,
          65.06,
          59.76,
          66.11,
          62.16,
          64.04,
          59.65,
          57.04,
          59.73,
          56.72,
          58.55,
          62.19,
          53.14,
          62.27,
          86.14,
          82.56,
          79.36,
          77.17,
          88.73,
          85.21,
          81.55,
          94.17,
          89.7,
          78.43,
          84.05,
          81.18,
          87.43,
          81.79,
          88.12,
          75.29,
          83.02,
          90.3,
          85.18,
          89.77,
          82.64,
          82.89,
          82.13,
          88.91,
          87.7,
          81.16,
          81.58,
          94.21,
          96.48,
          84.13,
          91.98,
          81.72,
          93.71,
          96.01,
          93.03,
          97.61,
          85.11,
          88.07,
          94.43,
          89.44,
          88.64,
          81.37,
          82.14,
          79.64,
          84.34,
          87.9,
          76.12,
          82.72,
          73.22,
          75.88,
          78.01,
          80.17,
          91.6,
          80.61,
          93.86,
          83.43,
          82.65,
          77.39,
          80.83,
          80.75,
          94.89,
          74.75,
          93.63,
          80.82,
          91.61,
          79.02,
          86.11,
          82.88,
          99.65,
          88.64,
          86.96,
          89.25,
          66.22,
          82.86,
          83.4,
          75.61,
          87.08,
          89.32,
          99.12,
          85.85,
          79.53,
          74.03,
          78.53,
          76.71,
          93.32,
          85.71,
          77.36,
          91.29,
          49.61,
          43.69,
          54.49,
          61.25,
          51.47,
          53.47,
          46.83,
          56.7,
          55.94,
          61.36,
          56.19,
          62.06,
          54.01,
          63.48,
          61.96,
          55.3,
          47.89,
          52.37,
          49.11,
          52.88,
          53.79,
          66.96,
          57.1,
          65.12,
          46.98,
          53.41,
          36.17,
          55.98,
          51.87,
          58.01,
          47.93,
          51.33,
          62.16,
          54.06,
          51.72,
          59.64,
          52.23,
          51.68,
          46.22,
          46.03,
          40.4,
          50.28,
          52.72,
          38.3,
          51.79,
          42.56,
          44.64,
          45.11,
          42.15,
          42.59,
          49.56,
          39.25,
          48.18,
          48.25,
          46.42,
          43.77,
          45.3,
          48.84,
          45.08,
          44.67,
          45.56,
          55.19,
          37.84,
          50.07,
          47.33,
          45.42,
          44.31,
          40.26,
          43.27,
          48.33,
          44.14,
          51.5,
          49.95,
          55.11,
          55.28,
          54.7,
          50.11,
          55.59,
          54.37,
          51.91,
          59.34,
          62.63,
          49.08,
          58.04,
          46.26,
          47.71,
          54.09,
          46.89,
          57.37,
          55.53,
          51.16,
          57.06,
          50.59,
          48.64,
          50.55,
          49.08,
          24.75,
          41.47,
          35.1,
          34.33,
          31.94,
          29.64,
          33.64,
          36.05,
          36.7,
          41.53,
          27.71,
          37.2,
          42.16,
          36.8,
          46.98,
          47.35,
          32.21,
          38.41,
          37.9,
          44.84,
          37.45,
          35.46,
          31.85,
          19.26,
          38.65,
          17.34,
          33.14,
          23.44,
          37.17,
          30.52,
          32.51,
          29.12,
          40.46,
          41.25,
          32.05,
          47.5,
          32.77,
          30.26,
          27.55,
          27.37,
          47.48,
          39.41,
          43.29,
          42.59,
          35.3,
          35.86,
          49.3,
          30.81,
          44.98,
          41.71,
          41.1,
          40.97,
          41.1,
          41.56,
          36.39,
          39.67,
          34.46,
          40.13,
          32.18,
          43.73,
          49.01,
          46.29,
          37.14,
          42.82,
          47.22,
          35.24,
          47.22,
          43.15,
          40.71,
          38.26,
          41.44,
          25.7,
          40.29,
          48.35,
          43.26,
          44.2,
          46.14,
          41.12,
          45.03,
          38.85,
          41.96,
          42.27,
          38.51,
          43.51,
          49.39,
          40.25,
          42.46,
          31.62,
          53.38,
          55.31,
          56.1,
          43.24,
          48.18,
          43.11,
          43.78,
          56.9,
          53.53,
          47.92,
          56.18,
          46.66,
          40.43,
          51.15,
          42.5,
          52.76,
          47.63,
          52.21,
          40.17,
          48.36,
          42.76,
          50.52,
          56.86,
          47.51,
          38.56,
          37.29,
          35.6,
          33.35,
          48.5,
          36.8,
          48.32,
          41.54,
          53.56,
          49.72,
          48.77,
          46.84,
          51.82,
          45.02,
          49.44,
          51.32,
          52.85,
          40.84,
          64.45,
          44.43,
          56.64,
          46.06,
          55.46,
          51.41,
          49.67,
          49.98,
          49.5,
          47.35,
          50.26,
          52.05,
          51.14,
          46.3,
          56.99,
          45.57,
          45.92,
          50.52,
          32.61,
          57.27,
          37.32,
          41.22,
          39.73,
          50.3,
          40.16,
          41.37,
          54.79,
          52.39,
          42.15,
          49.63,
          54.95,
          55.78,
          46.49,
          56.84,
          48.06,
          51.09,
          44.19,
          49.52,
          65.11,
          54.38,
          57.14,
          49.91,
          48.76,
          44.14,
          58.1,
          44.16,
          44.66,
          53.78,
          43.91,
          52.41,
          50.54,
          58.43,
          59.77,
          60.44,
          50.94,
          49.38,
          63.98,
          45.84,
          51.01,
          56.16,
          45.77,
          46.47,
          46.02,
          51.09,
          51.68,
          55.91,
          55.9,
          59.8,
          60.97,
          64.14,
          39.98,
          54.58,
          52.64,
          45.43,
          49.3,
          61.8,
          58,
          55.2,
          53.76,
          39.36,
          47.2,
          53.66,
          61.53,
          59.17,
          63.73,
          61.77,
          51.89,
          51.17,
          54.33,
          50.05,
          51.09,
          54.82,
          44.16,
          53.95,
          54.34,
          60.24,
          56.39,
          58.33,
          51.26,
          51.73,
          51.35,
          41.85,
          45.21,
          55.02,
          45.35,
          47.06,
          43.59,
          46.03,
          47.22,
          51.41,
          58.19,
          62.72,
          66.66,
          64.66,
          66.34,
          60.59,
          61.95,
          67.84,
          55.39,
          49.16,
          58.26,
          48.12,
          49.98,
          44.84,
          55.12,
          47.36,
          62.33,
          53.68,
          62.37,
          63.58,
          44.7,
          43.44,
          52.36,
          45.9,
          53.51,
          49.76,
          68.31,
          66.1,
          43.61,
          46.2,
          51.52,
          49.71,
          53.5,
          56.34,
          51.83,
          50.2,
          49.62,
          62.54,
          50.11,
          61.63,
          59.87,
          62.99,
          57.2,
          64.34,
          50.2,
          45.75,
          44.29,
          49.41
         ],
         "yaxis": "y"
        }
       ],
       "layout": {
        "barmode": "relative",
        "legend": {
         "tracegroupgap": 0
        },
        "showlegend": false,
        "template": {
         "data": {
          "bar": [
           {
            "error_x": {
             "color": "#2a3f5f"
            },
            "error_y": {
             "color": "#2a3f5f"
            },
            "marker": {
             "line": {
              "color": "#E5ECF6",
              "width": 0.5
             },
             "pattern": {
              "fillmode": "overlay",
              "size": 10,
              "solidity": 0.2
             }
            },
            "type": "bar"
           }
          ],
          "barpolar": [
           {
            "marker": {
             "line": {
              "color": "#E5ECF6",
              "width": 0.5
             },
             "pattern": {
              "fillmode": "overlay",
              "size": 10,
              "solidity": 0.2
             }
            },
            "type": "barpolar"
           }
          ],
          "carpet": [
           {
            "aaxis": {
             "endlinecolor": "#2a3f5f",
             "gridcolor": "white",
             "linecolor": "white",
             "minorgridcolor": "white",
             "startlinecolor": "#2a3f5f"
            },
            "baxis": {
             "endlinecolor": "#2a3f5f",
             "gridcolor": "white",
             "linecolor": "white",
             "minorgridcolor": "white",
             "startlinecolor": "#2a3f5f"
            },
            "type": "carpet"
           }
          ],
          "choropleth": [
           {
            "colorbar": {
             "outlinewidth": 0,
             "ticks": ""
            },
            "type": "choropleth"
           }
          ],
          "contour": [
           {
            "colorbar": {
             "outlinewidth": 0,
             "ticks": ""
            },
            "colorscale": [
             [
              0,
              "#0d0887"
             ],
             [
              0.1111111111111111,
              "#46039f"
             ],
             [
              0.2222222222222222,
              "#7201a8"
             ],
             [
              0.3333333333333333,
              "#9c179e"
             ],
             [
              0.4444444444444444,
              "#bd3786"
             ],
             [
              0.5555555555555556,
              "#d8576b"
             ],
             [
              0.6666666666666666,
              "#ed7953"
             ],
             [
              0.7777777777777778,
              "#fb9f3a"
             ],
             [
              0.8888888888888888,
              "#fdca26"
             ],
             [
              1,
              "#f0f921"
             ]
            ],
            "type": "contour"
           }
          ],
          "contourcarpet": [
           {
            "colorbar": {
             "outlinewidth": 0,
             "ticks": ""
            },
            "type": "contourcarpet"
           }
          ],
          "heatmap": [
           {
            "colorbar": {
             "outlinewidth": 0,
             "ticks": ""
            },
            "colorscale": [
             [
              0,
              "#0d0887"
             ],
             [
              0.1111111111111111,
              "#46039f"
             ],
             [
              0.2222222222222222,
              "#7201a8"
             ],
             [
              0.3333333333333333,
              "#9c179e"
             ],
             [
              0.4444444444444444,
              "#bd3786"
             ],
             [
              0.5555555555555556,
              "#d8576b"
             ],
             [
              0.6666666666666666,
              "#ed7953"
             ],
             [
              0.7777777777777778,
              "#fb9f3a"
             ],
             [
              0.8888888888888888,
              "#fdca26"
             ],
             [
              1,
              "#f0f921"
             ]
            ],
            "type": "heatmap"
           }
          ],
          "heatmapgl": [
           {
            "colorbar": {
             "outlinewidth": 0,
             "ticks": ""
            },
            "colorscale": [
             [
              0,
              "#0d0887"
             ],
             [
              0.1111111111111111,
              "#46039f"
             ],
             [
              0.2222222222222222,
              "#7201a8"
             ],
             [
              0.3333333333333333,
              "#9c179e"
             ],
             [
              0.4444444444444444,
              "#bd3786"
             ],
             [
              0.5555555555555556,
              "#d8576b"
             ],
             [
              0.6666666666666666,
              "#ed7953"
             ],
             [
              0.7777777777777778,
              "#fb9f3a"
             ],
             [
              0.8888888888888888,
              "#fdca26"
             ],
             [
              1,
              "#f0f921"
             ]
            ],
            "type": "heatmapgl"
           }
          ],
          "histogram": [
           {
            "marker": {
             "pattern": {
              "fillmode": "overlay",
              "size": 10,
              "solidity": 0.2
             }
            },
            "type": "histogram"
           }
          ],
          "histogram2d": [
           {
            "colorbar": {
             "outlinewidth": 0,
             "ticks": ""
            },
            "colorscale": [
             [
              0,
              "#0d0887"
             ],
             [
              0.1111111111111111,
              "#46039f"
             ],
             [
              0.2222222222222222,
              "#7201a8"
             ],
             [
              0.3333333333333333,
              "#9c179e"
             ],
             [
              0.4444444444444444,
              "#bd3786"
             ],
             [
              0.5555555555555556,
              "#d8576b"
             ],
             [
              0.6666666666666666,
              "#ed7953"
             ],
             [
              0.7777777777777778,
              "#fb9f3a"
             ],
             [
              0.8888888888888888,
              "#fdca26"
             ],
             [
              1,
              "#f0f921"
             ]
            ],
            "type": "histogram2d"
           }
          ],
          "histogram2dcontour": [
           {
            "colorbar": {
             "outlinewidth": 0,
             "ticks": ""
            },
            "colorscale": [
             [
              0,
              "#0d0887"
             ],
             [
              0.1111111111111111,
              "#46039f"
             ],
             [
              0.2222222222222222,
              "#7201a8"
             ],
             [
              0.3333333333333333,
              "#9c179e"
             ],
             [
              0.4444444444444444,
              "#bd3786"
             ],
             [
              0.5555555555555556,
              "#d8576b"
             ],
             [
              0.6666666666666666,
              "#ed7953"
             ],
             [
              0.7777777777777778,
              "#fb9f3a"
             ],
             [
              0.8888888888888888,
              "#fdca26"
             ],
             [
              1,
              "#f0f921"
             ]
            ],
            "type": "histogram2dcontour"
           }
          ],
          "mesh3d": [
           {
            "colorbar": {
             "outlinewidth": 0,
             "ticks": ""
            },
            "type": "mesh3d"
           }
          ],
          "parcoords": [
           {
            "line": {
             "colorbar": {
              "outlinewidth": 0,
              "ticks": ""
             }
            },
            "type": "parcoords"
           }
          ],
          "pie": [
           {
            "automargin": true,
            "type": "pie"
           }
          ],
          "scatter": [
           {
            "fillpattern": {
             "fillmode": "overlay",
             "size": 10,
             "solidity": 0.2
            },
            "type": "scatter"
           }
          ],
          "scatter3d": [
           {
            "line": {
             "colorbar": {
              "outlinewidth": 0,
              "ticks": ""
             }
            },
            "marker": {
             "colorbar": {
              "outlinewidth": 0,
              "ticks": ""
             }
            },
            "type": "scatter3d"
           }
          ],
          "scattercarpet": [
           {
            "marker": {
             "colorbar": {
              "outlinewidth": 0,
              "ticks": ""
             }
            },
            "type": "scattercarpet"
           }
          ],
          "scattergeo": [
           {
            "marker": {
             "colorbar": {
              "outlinewidth": 0,
              "ticks": ""
             }
            },
            "type": "scattergeo"
           }
          ],
          "scattergl": [
           {
            "marker": {
             "colorbar": {
              "outlinewidth": 0,
              "ticks": ""
             }
            },
            "type": "scattergl"
           }
          ],
          "scattermapbox": [
           {
            "marker": {
             "colorbar": {
              "outlinewidth": 0,
              "ticks": ""
             }
            },
            "type": "scattermapbox"
           }
          ],
          "scatterpolar": [
           {
            "marker": {
             "colorbar": {
              "outlinewidth": 0,
              "ticks": ""
             }
            },
            "type": "scatterpolar"
           }
          ],
          "scatterpolargl": [
           {
            "marker": {
             "colorbar": {
              "outlinewidth": 0,
              "ticks": ""
             }
            },
            "type": "scatterpolargl"
           }
          ],
          "scatterternary": [
           {
            "marker": {
             "colorbar": {
              "outlinewidth": 0,
              "ticks": ""
             }
            },
            "type": "scatterternary"
           }
          ],
          "surface": [
           {
            "colorbar": {
             "outlinewidth": 0,
             "ticks": ""
            },
            "colorscale": [
             [
              0,
              "#0d0887"
             ],
             [
              0.1111111111111111,
              "#46039f"
             ],
             [
              0.2222222222222222,
              "#7201a8"
             ],
             [
              0.3333333333333333,
              "#9c179e"
             ],
             [
              0.4444444444444444,
              "#bd3786"
             ],
             [
              0.5555555555555556,
              "#d8576b"
             ],
             [
              0.6666666666666666,
              "#ed7953"
             ],
             [
              0.7777777777777778,
              "#fb9f3a"
             ],
             [
              0.8888888888888888,
              "#fdca26"
             ],
             [
              1,
              "#f0f921"
             ]
            ],
            "type": "surface"
           }
          ],
          "table": [
           {
            "cells": {
             "fill": {
              "color": "#EBF0F8"
             },
             "line": {
              "color": "white"
             }
            },
            "header": {
             "fill": {
              "color": "#C8D4E3"
             },
             "line": {
              "color": "white"
             }
            },
            "type": "table"
           }
          ]
         },
         "layout": {
          "annotationdefaults": {
           "arrowcolor": "#2a3f5f",
           "arrowhead": 0,
           "arrowwidth": 1
          },
          "autotypenumbers": "strict",
          "coloraxis": {
           "colorbar": {
            "outlinewidth": 0,
            "ticks": ""
           }
          },
          "colorscale": {
           "diverging": [
            [
             0,
             "#8e0152"
            ],
            [
             0.1,
             "#c51b7d"
            ],
            [
             0.2,
             "#de77ae"
            ],
            [
             0.3,
             "#f1b6da"
            ],
            [
             0.4,
             "#fde0ef"
            ],
            [
             0.5,
             "#f7f7f7"
            ],
            [
             0.6,
             "#e6f5d0"
            ],
            [
             0.7,
             "#b8e186"
            ],
            [
             0.8,
             "#7fbc41"
            ],
            [
             0.9,
             "#4d9221"
            ],
            [
             1,
             "#276419"
            ]
           ],
           "sequential": [
            [
             0,
             "#0d0887"
            ],
            [
             0.1111111111111111,
             "#46039f"
            ],
            [
             0.2222222222222222,
             "#7201a8"
            ],
            [
             0.3333333333333333,
             "#9c179e"
            ],
            [
             0.4444444444444444,
             "#bd3786"
            ],
            [
             0.5555555555555556,
             "#d8576b"
            ],
            [
             0.6666666666666666,
             "#ed7953"
            ],
            [
             0.7777777777777778,
             "#fb9f3a"
            ],
            [
             0.8888888888888888,
             "#fdca26"
            ],
            [
             1,
             "#f0f921"
            ]
           ],
           "sequentialminus": [
            [
             0,
             "#0d0887"
            ],
            [
             0.1111111111111111,
             "#46039f"
            ],
            [
             0.2222222222222222,
             "#7201a8"
            ],
            [
             0.3333333333333333,
             "#9c179e"
            ],
            [
             0.4444444444444444,
             "#bd3786"
            ],
            [
             0.5555555555555556,
             "#d8576b"
            ],
            [
             0.6666666666666666,
             "#ed7953"
            ],
            [
             0.7777777777777778,
             "#fb9f3a"
            ],
            [
             0.8888888888888888,
             "#fdca26"
            ],
            [
             1,
             "#f0f921"
            ]
           ]
          },
          "colorway": [
           "#636efa",
           "#EF553B",
           "#00cc96",
           "#ab63fa",
           "#FFA15A",
           "#19d3f3",
           "#FF6692",
           "#B6E880",
           "#FF97FF",
           "#FECB52"
          ],
          "font": {
           "color": "#2a3f5f"
          },
          "geo": {
           "bgcolor": "white",
           "lakecolor": "white",
           "landcolor": "#E5ECF6",
           "showlakes": true,
           "showland": true,
           "subunitcolor": "white"
          },
          "hoverlabel": {
           "align": "left"
          },
          "hovermode": "closest",
          "mapbox": {
           "style": "light"
          },
          "paper_bgcolor": "white",
          "plot_bgcolor": "#E5ECF6",
          "polar": {
           "angularaxis": {
            "gridcolor": "white",
            "linecolor": "white",
            "ticks": ""
           },
           "bgcolor": "#E5ECF6",
           "radialaxis": {
            "gridcolor": "white",
            "linecolor": "white",
            "ticks": ""
           }
          },
          "scene": {
           "xaxis": {
            "backgroundcolor": "#E5ECF6",
            "gridcolor": "white",
            "gridwidth": 2,
            "linecolor": "white",
            "showbackground": true,
            "ticks": "",
            "zerolinecolor": "white"
           },
           "yaxis": {
            "backgroundcolor": "#E5ECF6",
            "gridcolor": "white",
            "gridwidth": 2,
            "linecolor": "white",
            "showbackground": true,
            "ticks": "",
            "zerolinecolor": "white"
           },
           "zaxis": {
            "backgroundcolor": "#E5ECF6",
            "gridcolor": "white",
            "gridwidth": 2,
            "linecolor": "white",
            "showbackground": true,
            "ticks": "",
            "zerolinecolor": "white"
           }
          },
          "shapedefaults": {
           "line": {
            "color": "#2a3f5f"
           }
          },
          "ternary": {
           "aaxis": {
            "gridcolor": "white",
            "linecolor": "white",
            "ticks": ""
           },
           "baxis": {
            "gridcolor": "white",
            "linecolor": "white",
            "ticks": ""
           },
           "bgcolor": "#E5ECF6",
           "caxis": {
            "gridcolor": "white",
            "linecolor": "white",
            "ticks": ""
           }
          },
          "title": {
           "x": 0.05
          },
          "xaxis": {
           "automargin": true,
           "gridcolor": "white",
           "linecolor": "white",
           "ticks": "",
           "title": {
            "standoff": 15
           },
           "zerolinecolor": "white",
           "zerolinewidth": 2
          },
          "yaxis": {
           "automargin": true,
           "gridcolor": "white",
           "linecolor": "white",
           "ticks": "",
           "title": {
            "standoff": 15
           },
           "zerolinecolor": "white",
           "zerolinewidth": 2
          }
         }
        },
        "title": {
         "text": "Interactive Total Sales by Market Size"
        },
        "xaxis": {
         "anchor": "y",
         "domain": [
          0,
          1
         ],
         "title": {
          "text": "MarketSize"
         }
        },
        "yaxis": {
         "anchor": "x",
         "domain": [
          0,
          1
         ],
         "title": {
          "text": "SalesInThousands"
         }
        }
       }
      },
      "text/html": [
       "<div>                            <div id=\"81da43e2-ac8e-434f-9a34-8bd8204349d9\" class=\"plotly-graph-div\" style=\"height:525px; width:100%;\"></div>            <script type=\"text/javascript\">                require([\"plotly\"], function(Plotly) {                    window.PLOTLYENV=window.PLOTLYENV || {};                                    if (document.getElementById(\"81da43e2-ac8e-434f-9a34-8bd8204349d9\")) {                    Plotly.newPlot(                        \"81da43e2-ac8e-434f-9a34-8bd8204349d9\",                        [{\"alignmentgroup\":\"True\",\"hovertemplate\":\"MarketSize=%{x}<br>SalesInThousands=%{y}<extra></extra>\",\"legendgroup\":\"\",\"marker\":{\"color\":\"#636efa\",\"pattern\":{\"shape\":\"\"}},\"name\":\"\",\"offsetgroup\":\"\",\"orientation\":\"v\",\"showlegend\":false,\"textposition\":\"auto\",\"x\":[\"Small\",\"Small\",\"Small\",\"Small\",\"Small\",\"Small\",\"Small\",\"Small\",\"Small\",\"Small\",\"Small\",\"Small\",\"Small\",\"Small\",\"Small\",\"Small\",\"Small\",\"Small\",\"Small\",\"Small\",\"Small\",\"Small\",\"Small\",\"Small\",\"Small\",\"Small\",\"Small\",\"Small\",\"Small\",\"Small\",\"Small\",\"Small\",\"Small\",\"Small\",\"Small\",\"Small\",\"Small\",\"Small\",\"Small\",\"Small\",\"Small\",\"Small\",\"Small\",\"Small\",\"Small\",\"Small\",\"Small\",\"Small\",\"Small\",\"Small\",\"Small\",\"Small\",\"Small\",\"Small\",\"Small\",\"Small\",\"Small\",\"Small\",\"Small\",\"Small\",\"Small\",\"Small\",\"Small\",\"Small\",\"Small\",\"Small\",\"Small\",\"Small\",\"Small\",\"Small\",\"Small\",\"Small\",\"Small\",\"Small\",\"Small\",\"Small\",\"Small\",\"Small\",\"Small\",\"Small\",\"Small\",\"Small\",\"Small\",\"Small\",\"Small\",\"Small\",\"Small\",\"Small\",\"Small\",\"Small\",\"Small\",\"Small\",\"Small\",\"Small\",\"Small\",\"Small\",\"Small\",\"Small\",\"Small\",\"Small\",\"Small\",\"Small\",\"Small\",\"Small\",\"Small\",\"Small\",\"Small\",\"Small\",\"Small\",\"Small\",\"Small\",\"Small\",\"Small\",\"Small\",\"Small\",\"Small\",\"Small\",\"Small\",\"Small\",\"Small\",\"Small\",\"Small\",\"Small\",\"Small\",\"Small\",\"Small\",\"Small\",\"Small\",\"Small\",\"Small\",\"Small\",\"Small\",\"Small\",\"Small\",\"Small\",\"Small\",\"Small\",\"Small\",\"Small\",\"Small\",\"Small\",\"Small\",\"Small\",\"Small\",\"Small\",\"Small\",\"Small\",\"Small\",\"Small\",\"Small\",\"Small\",\"Small\",\"Small\",\"Small\",\"Small\",\"Small\",\"Small\",\"Small\",\"Small\",\"Small\",\"Small\",\"Small\",\"Small\",\"Small\",\"Small\",\"Small\",\"Small\",\"Small\",\"Small\",\"Small\",\"Small\",\"Small\",\"Small\",\"Small\",\"Small\",\"Small\",\"Small\",\"Small\",\"Small\",\"Small\",\"Small\",\"Small\",\"Small\",\"Small\",\"Small\",\"Small\",\"Small\",\"Small\",\"Small\",\"Small\",\"Small\",\"Small\",\"Small\",\"Small\",\"Small\",\"Small\",\"Small\",\"Small\",\"Small\",\"Small\",\"Small\",\"Small\",\"Small\",\"Small\",\"Small\",\"Small\",\"Small\",\"Small\",\"Small\",\"Small\",\"Small\",\"Small\",\"Small\",\"Small\",\"Small\",\"Small\",\"Small\",\"Small\",\"Small\",\"Small\",\"Small\",\"Small\",\"Small\",\"Small\",\"Small\",\"Small\",\"Small\",\"Small\",\"Small\",\"Small\",\"Small\",\"Small\",\"Small\",\"Small\",\"Small\",\"Small\",\"Small\",\"Small\",\"Small\",\"Small\",\"Small\",\"Small\",\"Small\",\"Small\",\"Small\",\"Small\",\"Small\",\"Small\",\"Small\",\"Small\",\"Small\",\"Small\",\"Small\",\"Small\",\"Small\",\"Small\",\"Small\",\"Small\",\"Small\",\"Small\",\"Small\",\"Small\",\"Small\",\"Small\",\"Small\",\"Small\",\"Small\",\"Small\",\"Small\",\"Small\",\"Small\",\"Small\",\"Small\",\"Small\",\"Small\",\"Small\",\"Small\",\"Small\",\"Small\",\"Small\",\"Small\",\"Small\",\"Small\",\"Small\",\"Small\",\"Small\",\"Small\",\"Small\",\"Small\",\"Small\",\"Small\",\"Small\",\"Small\",\"Small\",\"Small\",\"Small\",\"Small\",\"Small\",\"Small\",\"Small\",\"Small\",\"Small\",\"Small\",\"Small\",\"Small\",\"Small\",\"Small\",\"Small\",\"Small\",\"Small\",\"Small\",\"Small\",\"Small\",\"Small\",\"Small\",\"Small\",\"Small\",\"Small\",\"Small\",\"Small\",\"Small\",\"Small\",\"Small\",\"Small\",\"Small\",\"Small\",\"Small\",\"Small\",\"Small\",\"Small\",\"Small\",\"Small\",\"Small\",\"Small\",\"Small\",\"Small\",\"Small\",\"Small\",\"Small\",\"Small\",\"Small\",\"Small\",\"Small\",\"Small\",\"Small\",\"Small\",\"Small\",\"Small\",\"Small\",\"Small\",\"Small\",\"Small\",\"Small\",\"Small\",\"Small\",\"Small\",\"Small\",\"Small\",\"Small\",\"Small\",\"Small\",\"Small\",\"Small\",\"Small\",\"Small\",\"Small\",\"Small\",\"Small\",\"Small\",\"Small\",\"Small\",\"Small\",\"Small\",\"Small\",\"Small\",\"Small\",\"Small\",\"Small\",\"Small\",\"Small\",\"Small\",\"Small\",\"Small\",\"Small\",\"Small\",\"Small\",\"Small\",\"Small\",\"Small\",\"Small\",\"Small\",\"Small\",\"Small\",\"Small\",\"Small\",\"Small\",\"Small\",\"Small\",\"Small\",\"Small\",\"Small\",\"Small\",\"Small\",\"Small\",\"Small\",\"Small\",\"Small\",\"Small\",\"Small\",\"Small\",\"Small\",\"Small\",\"Small\",\"Small\",\"Small\",\"Small\",\"Small\",\"Small\",\"Small\",\"Small\",\"Small\",\"Small\",\"Small\",\"Small\",\"Small\",\"Small\",\"Small\",\"Small\",\"Small\",\"Small\",\"Small\",\"Small\",\"Small\",\"Small\",\"Small\",\"Small\",\"Small\",\"Small\",\"Small\",\"Small\",\"Small\",\"Small\",\"Small\",\"Small\",\"Small\",\"Small\",\"Small\",\"Small\",\"Small\",\"Small\",\"Small\",\"Small\",\"Small\",\"Small\",\"Small\",\"Small\",\"Small\",\"Small\",\"Small\",\"Small\",\"Small\",\"Small\",\"Small\",\"Small\",\"Small\",\"Small\",\"Small\",\"Small\",\"Small\",\"Small\",\"Small\",\"Small\",\"Small\",\"Small\",\"Small\",\"Small\",\"Small\",\"Small\",\"Small\",\"Small\",\"Small\",\"Small\",\"Small\",\"Small\",\"Small\",\"Small\",\"Small\",\"Small\",\"Small\",\"Small\",\"Small\",\"Small\",\"Small\",\"Small\",\"Small\",\"Small\",\"Small\",\"Small\",\"Small\",\"Small\",\"Small\",\"Small\",\"Small\",\"Small\",\"Small\",\"Small\",\"Small\",\"Small\",\"Small\",\"Small\",\"Small\",\"Small\",\"Small\",\"Small\",\"Small\",\"Small\",\"Small\",\"Small\",\"Small\",\"Small\",\"Small\",\"Small\",\"Small\",\"Small\",\"Small\",\"Small\",\"Small\",\"Small\",\"Small\",\"Small\",\"Small\",\"Small\",\"Small\",\"Small\",\"Small\",\"Small\",\"Small\",\"Small\",\"Small\",\"Small\",\"Small\",\"Small\",\"Small\",\"Small\",\"Small\",\"Small\",\"Small\",\"Small\"],\"xaxis\":\"x\",\"y\":[33.73,35.67,29.03,39.25,27.81,34.67,27.98,27.72,44.54,37.94,45.49,34.75,39.28,39.8,24.77,30.98,30.37,24.82,37.47,23.35,32.9,22.18,42.98,26.68,42.92,42.16,51.72,36.17,30.08,28.62,25.4,27.26,37.41,38.64,40.9,41.11,34.27,29.3,23.93,35.16,33.42,37.93,33.85,40.25,35.85,36.24,41.73,37.32,50.48,36.88,35.68,46.45,67.48,65.57,68.42,60.93,61.59,63.64,54.68,61.24,62.93,58.77,70.6,65.06,59.76,66.11,62.16,64.04,59.65,57.04,59.73,56.72,58.55,62.19,53.14,62.27,86.14,82.56,79.36,77.17,88.73,85.21,81.55,94.17,89.7,78.43,84.05,81.18,87.43,81.79,88.12,75.29,83.02,90.3,85.18,89.77,82.64,82.89,82.13,88.91,87.7,81.16,81.58,94.21,96.48,84.13,91.98,81.72,93.71,96.01,93.03,97.61,85.11,88.07,94.43,89.44,88.64,81.37,82.14,79.64,84.34,87.9,76.12,82.72,73.22,75.88,78.01,80.17,91.6,80.61,93.86,83.43,82.65,77.39,80.83,80.75,94.89,74.75,93.63,80.82,91.61,79.02,86.11,82.88,99.65,88.64,86.96,89.25,66.22,82.86,83.4,75.61,87.08,89.32,99.12,85.85,79.53,74.03,78.53,76.71,93.32,85.71,77.36,91.29,49.61,43.69,54.49,61.25,51.47,53.47,46.83,56.7,55.94,61.36,56.19,62.06,54.01,63.48,61.96,55.3,47.89,52.37,49.11,52.88,53.79,66.96,57.1,65.12,46.98,53.41,36.17,55.98,51.87,58.01,47.93,51.33,62.16,54.06,51.72,59.64,52.23,51.68,46.22,46.03,40.4,50.28,52.72,38.3,51.79,42.56,44.64,45.11,42.15,42.59,49.56,39.25,48.18,48.25,46.42,43.77,45.3,48.84,45.08,44.67,45.56,55.19,37.84,50.07,47.33,45.42,44.31,40.26,43.27,48.33,44.14,51.5,49.95,55.11,55.28,54.7,50.11,55.59,54.37,51.91,59.34,62.63,49.08,58.04,46.26,47.71,54.09,46.89,57.37,55.53,51.16,57.06,50.59,48.64,50.55,49.08,24.75,41.47,35.1,34.33,31.94,29.64,33.64,36.05,36.7,41.53,27.71,37.2,42.16,36.8,46.98,47.35,32.21,38.41,37.9,44.84,37.45,35.46,31.85,19.26,38.65,17.34,33.14,23.44,37.17,30.52,32.51,29.12,40.46,41.25,32.05,47.5,32.77,30.26,27.55,27.37,47.48,39.41,43.29,42.59,35.3,35.86,49.3,30.81,44.98,41.71,41.1,40.97,41.1,41.56,36.39,39.67,34.46,40.13,32.18,43.73,49.01,46.29,37.14,42.82,47.22,35.24,47.22,43.15,40.71,38.26,41.44,25.7,40.29,48.35,43.26,44.2,46.14,41.12,45.03,38.85,41.96,42.27,38.51,43.51,49.39,40.25,42.46,31.62,53.38,55.31,56.1,43.24,48.18,43.11,43.78,56.9,53.53,47.92,56.18,46.66,40.43,51.15,42.5,52.76,47.63,52.21,40.17,48.36,42.76,50.52,56.86,47.51,38.56,37.29,35.6,33.35,48.5,36.8,48.32,41.54,53.56,49.72,48.77,46.84,51.82,45.02,49.44,51.32,52.85,40.84,64.45,44.43,56.64,46.06,55.46,51.41,49.67,49.98,49.5,47.35,50.26,52.05,51.14,46.3,56.99,45.57,45.92,50.52,32.61,57.27,37.32,41.22,39.73,50.3,40.16,41.37,54.79,52.39,42.15,49.63,54.95,55.78,46.49,56.84,48.06,51.09,44.19,49.52,65.11,54.38,57.14,49.91,48.76,44.14,58.1,44.16,44.66,53.78,43.91,52.41,50.54,58.43,59.77,60.44,50.94,49.38,63.98,45.84,51.01,56.16,45.77,46.47,46.02,51.09,51.68,55.91,55.9,59.8,60.97,64.14,39.98,54.58,52.64,45.43,49.3,61.8,58.0,55.2,53.76,39.36,47.2,53.66,61.53,59.17,63.73,61.77,51.89,51.17,54.33,50.05,51.09,54.82,44.16,53.95,54.34,60.24,56.39,58.33,51.26,51.73,51.35,41.85,45.21,55.02,45.35,47.06,43.59,46.03,47.22,51.41,58.19,62.72,66.66,64.66,66.34,60.59,61.95,67.84,55.39,49.16,58.26,48.12,49.98,44.84,55.12,47.36,62.33,53.68,62.37,63.58,44.7,43.44,52.36,45.9,53.51,49.76,68.31,66.1,43.61,46.2,51.52,49.71,53.5,56.34,51.83,50.2,49.62,62.54,50.11,61.63,59.87,62.99,57.2,64.34,50.2,45.75,44.29,49.41],\"yaxis\":\"y\",\"type\":\"bar\"}],                        {\"template\":{\"data\":{\"histogram2dcontour\":[{\"type\":\"histogram2dcontour\",\"colorbar\":{\"outlinewidth\":0,\"ticks\":\"\"},\"colorscale\":[[0.0,\"#0d0887\"],[0.1111111111111111,\"#46039f\"],[0.2222222222222222,\"#7201a8\"],[0.3333333333333333,\"#9c179e\"],[0.4444444444444444,\"#bd3786\"],[0.5555555555555556,\"#d8576b\"],[0.6666666666666666,\"#ed7953\"],[0.7777777777777778,\"#fb9f3a\"],[0.8888888888888888,\"#fdca26\"],[1.0,\"#f0f921\"]]}],\"choropleth\":[{\"type\":\"choropleth\",\"colorbar\":{\"outlinewidth\":0,\"ticks\":\"\"}}],\"histogram2d\":[{\"type\":\"histogram2d\",\"colorbar\":{\"outlinewidth\":0,\"ticks\":\"\"},\"colorscale\":[[0.0,\"#0d0887\"],[0.1111111111111111,\"#46039f\"],[0.2222222222222222,\"#7201a8\"],[0.3333333333333333,\"#9c179e\"],[0.4444444444444444,\"#bd3786\"],[0.5555555555555556,\"#d8576b\"],[0.6666666666666666,\"#ed7953\"],[0.7777777777777778,\"#fb9f3a\"],[0.8888888888888888,\"#fdca26\"],[1.0,\"#f0f921\"]]}],\"heatmap\":[{\"type\":\"heatmap\",\"colorbar\":{\"outlinewidth\":0,\"ticks\":\"\"},\"colorscale\":[[0.0,\"#0d0887\"],[0.1111111111111111,\"#46039f\"],[0.2222222222222222,\"#7201a8\"],[0.3333333333333333,\"#9c179e\"],[0.4444444444444444,\"#bd3786\"],[0.5555555555555556,\"#d8576b\"],[0.6666666666666666,\"#ed7953\"],[0.7777777777777778,\"#fb9f3a\"],[0.8888888888888888,\"#fdca26\"],[1.0,\"#f0f921\"]]}],\"heatmapgl\":[{\"type\":\"heatmapgl\",\"colorbar\":{\"outlinewidth\":0,\"ticks\":\"\"},\"colorscale\":[[0.0,\"#0d0887\"],[0.1111111111111111,\"#46039f\"],[0.2222222222222222,\"#7201a8\"],[0.3333333333333333,\"#9c179e\"],[0.4444444444444444,\"#bd3786\"],[0.5555555555555556,\"#d8576b\"],[0.6666666666666666,\"#ed7953\"],[0.7777777777777778,\"#fb9f3a\"],[0.8888888888888888,\"#fdca26\"],[1.0,\"#f0f921\"]]}],\"contourcarpet\":[{\"type\":\"contourcarpet\",\"colorbar\":{\"outlinewidth\":0,\"ticks\":\"\"}}],\"contour\":[{\"type\":\"contour\",\"colorbar\":{\"outlinewidth\":0,\"ticks\":\"\"},\"colorscale\":[[0.0,\"#0d0887\"],[0.1111111111111111,\"#46039f\"],[0.2222222222222222,\"#7201a8\"],[0.3333333333333333,\"#9c179e\"],[0.4444444444444444,\"#bd3786\"],[0.5555555555555556,\"#d8576b\"],[0.6666666666666666,\"#ed7953\"],[0.7777777777777778,\"#fb9f3a\"],[0.8888888888888888,\"#fdca26\"],[1.0,\"#f0f921\"]]}],\"surface\":[{\"type\":\"surface\",\"colorbar\":{\"outlinewidth\":0,\"ticks\":\"\"},\"colorscale\":[[0.0,\"#0d0887\"],[0.1111111111111111,\"#46039f\"],[0.2222222222222222,\"#7201a8\"],[0.3333333333333333,\"#9c179e\"],[0.4444444444444444,\"#bd3786\"],[0.5555555555555556,\"#d8576b\"],[0.6666666666666666,\"#ed7953\"],[0.7777777777777778,\"#fb9f3a\"],[0.8888888888888888,\"#fdca26\"],[1.0,\"#f0f921\"]]}],\"mesh3d\":[{\"type\":\"mesh3d\",\"colorbar\":{\"outlinewidth\":0,\"ticks\":\"\"}}],\"scatter\":[{\"fillpattern\":{\"fillmode\":\"overlay\",\"size\":10,\"solidity\":0.2},\"type\":\"scatter\"}],\"parcoords\":[{\"type\":\"parcoords\",\"line\":{\"colorbar\":{\"outlinewidth\":0,\"ticks\":\"\"}}}],\"scatterpolargl\":[{\"type\":\"scatterpolargl\",\"marker\":{\"colorbar\":{\"outlinewidth\":0,\"ticks\":\"\"}}}],\"bar\":[{\"error_x\":{\"color\":\"#2a3f5f\"},\"error_y\":{\"color\":\"#2a3f5f\"},\"marker\":{\"line\":{\"color\":\"#E5ECF6\",\"width\":0.5},\"pattern\":{\"fillmode\":\"overlay\",\"size\":10,\"solidity\":0.2}},\"type\":\"bar\"}],\"scattergeo\":[{\"type\":\"scattergeo\",\"marker\":{\"colorbar\":{\"outlinewidth\":0,\"ticks\":\"\"}}}],\"scatterpolar\":[{\"type\":\"scatterpolar\",\"marker\":{\"colorbar\":{\"outlinewidth\":0,\"ticks\":\"\"}}}],\"histogram\":[{\"marker\":{\"pattern\":{\"fillmode\":\"overlay\",\"size\":10,\"solidity\":0.2}},\"type\":\"histogram\"}],\"scattergl\":[{\"type\":\"scattergl\",\"marker\":{\"colorbar\":{\"outlinewidth\":0,\"ticks\":\"\"}}}],\"scatter3d\":[{\"type\":\"scatter3d\",\"line\":{\"colorbar\":{\"outlinewidth\":0,\"ticks\":\"\"}},\"marker\":{\"colorbar\":{\"outlinewidth\":0,\"ticks\":\"\"}}}],\"scattermapbox\":[{\"type\":\"scattermapbox\",\"marker\":{\"colorbar\":{\"outlinewidth\":0,\"ticks\":\"\"}}}],\"scatterternary\":[{\"type\":\"scatterternary\",\"marker\":{\"colorbar\":{\"outlinewidth\":0,\"ticks\":\"\"}}}],\"scattercarpet\":[{\"type\":\"scattercarpet\",\"marker\":{\"colorbar\":{\"outlinewidth\":0,\"ticks\":\"\"}}}],\"carpet\":[{\"aaxis\":{\"endlinecolor\":\"#2a3f5f\",\"gridcolor\":\"white\",\"linecolor\":\"white\",\"minorgridcolor\":\"white\",\"startlinecolor\":\"#2a3f5f\"},\"baxis\":{\"endlinecolor\":\"#2a3f5f\",\"gridcolor\":\"white\",\"linecolor\":\"white\",\"minorgridcolor\":\"white\",\"startlinecolor\":\"#2a3f5f\"},\"type\":\"carpet\"}],\"table\":[{\"cells\":{\"fill\":{\"color\":\"#EBF0F8\"},\"line\":{\"color\":\"white\"}},\"header\":{\"fill\":{\"color\":\"#C8D4E3\"},\"line\":{\"color\":\"white\"}},\"type\":\"table\"}],\"barpolar\":[{\"marker\":{\"line\":{\"color\":\"#E5ECF6\",\"width\":0.5},\"pattern\":{\"fillmode\":\"overlay\",\"size\":10,\"solidity\":0.2}},\"type\":\"barpolar\"}],\"pie\":[{\"automargin\":true,\"type\":\"pie\"}]},\"layout\":{\"autotypenumbers\":\"strict\",\"colorway\":[\"#636efa\",\"#EF553B\",\"#00cc96\",\"#ab63fa\",\"#FFA15A\",\"#19d3f3\",\"#FF6692\",\"#B6E880\",\"#FF97FF\",\"#FECB52\"],\"font\":{\"color\":\"#2a3f5f\"},\"hovermode\":\"closest\",\"hoverlabel\":{\"align\":\"left\"},\"paper_bgcolor\":\"white\",\"plot_bgcolor\":\"#E5ECF6\",\"polar\":{\"bgcolor\":\"#E5ECF6\",\"angularaxis\":{\"gridcolor\":\"white\",\"linecolor\":\"white\",\"ticks\":\"\"},\"radialaxis\":{\"gridcolor\":\"white\",\"linecolor\":\"white\",\"ticks\":\"\"}},\"ternary\":{\"bgcolor\":\"#E5ECF6\",\"aaxis\":{\"gridcolor\":\"white\",\"linecolor\":\"white\",\"ticks\":\"\"},\"baxis\":{\"gridcolor\":\"white\",\"linecolor\":\"white\",\"ticks\":\"\"},\"caxis\":{\"gridcolor\":\"white\",\"linecolor\":\"white\",\"ticks\":\"\"}},\"coloraxis\":{\"colorbar\":{\"outlinewidth\":0,\"ticks\":\"\"}},\"colorscale\":{\"sequential\":[[0.0,\"#0d0887\"],[0.1111111111111111,\"#46039f\"],[0.2222222222222222,\"#7201a8\"],[0.3333333333333333,\"#9c179e\"],[0.4444444444444444,\"#bd3786\"],[0.5555555555555556,\"#d8576b\"],[0.6666666666666666,\"#ed7953\"],[0.7777777777777778,\"#fb9f3a\"],[0.8888888888888888,\"#fdca26\"],[1.0,\"#f0f921\"]],\"sequentialminus\":[[0.0,\"#0d0887\"],[0.1111111111111111,\"#46039f\"],[0.2222222222222222,\"#7201a8\"],[0.3333333333333333,\"#9c179e\"],[0.4444444444444444,\"#bd3786\"],[0.5555555555555556,\"#d8576b\"],[0.6666666666666666,\"#ed7953\"],[0.7777777777777778,\"#fb9f3a\"],[0.8888888888888888,\"#fdca26\"],[1.0,\"#f0f921\"]],\"diverging\":[[0,\"#8e0152\"],[0.1,\"#c51b7d\"],[0.2,\"#de77ae\"],[0.3,\"#f1b6da\"],[0.4,\"#fde0ef\"],[0.5,\"#f7f7f7\"],[0.6,\"#e6f5d0\"],[0.7,\"#b8e186\"],[0.8,\"#7fbc41\"],[0.9,\"#4d9221\"],[1,\"#276419\"]]},\"xaxis\":{\"gridcolor\":\"white\",\"linecolor\":\"white\",\"ticks\":\"\",\"title\":{\"standoff\":15},\"zerolinecolor\":\"white\",\"automargin\":true,\"zerolinewidth\":2},\"yaxis\":{\"gridcolor\":\"white\",\"linecolor\":\"white\",\"ticks\":\"\",\"title\":{\"standoff\":15},\"zerolinecolor\":\"white\",\"automargin\":true,\"zerolinewidth\":2},\"scene\":{\"xaxis\":{\"backgroundcolor\":\"#E5ECF6\",\"gridcolor\":\"white\",\"linecolor\":\"white\",\"showbackground\":true,\"ticks\":\"\",\"zerolinecolor\":\"white\",\"gridwidth\":2},\"yaxis\":{\"backgroundcolor\":\"#E5ECF6\",\"gridcolor\":\"white\",\"linecolor\":\"white\",\"showbackground\":true,\"ticks\":\"\",\"zerolinecolor\":\"white\",\"gridwidth\":2},\"zaxis\":{\"backgroundcolor\":\"#E5ECF6\",\"gridcolor\":\"white\",\"linecolor\":\"white\",\"showbackground\":true,\"ticks\":\"\",\"zerolinecolor\":\"white\",\"gridwidth\":2}},\"shapedefaults\":{\"line\":{\"color\":\"#2a3f5f\"}},\"annotationdefaults\":{\"arrowcolor\":\"#2a3f5f\",\"arrowhead\":0,\"arrowwidth\":1},\"geo\":{\"bgcolor\":\"white\",\"landcolor\":\"#E5ECF6\",\"subunitcolor\":\"white\",\"showland\":true,\"showlakes\":true,\"lakecolor\":\"white\"},\"title\":{\"x\":0.05},\"mapbox\":{\"style\":\"light\"}}},\"xaxis\":{\"anchor\":\"y\",\"domain\":[0.0,1.0],\"title\":{\"text\":\"MarketSize\"}},\"yaxis\":{\"anchor\":\"x\",\"domain\":[0.0,1.0],\"title\":{\"text\":\"SalesInThousands\"}},\"legend\":{\"tracegroupgap\":0},\"title\":{\"text\":\"Interactive Total Sales by Market Size\"},\"barmode\":\"relative\",\"showlegend\":false},                        {\"responsive\": true}                    ).then(function(){\n",
       "                            \n",
       "var gd = document.getElementById('81da43e2-ac8e-434f-9a34-8bd8204349d9');\n",
       "var x = new MutationObserver(function (mutations, observer) {{\n",
       "        var display = window.getComputedStyle(gd).display;\n",
       "        if (!display || display === 'none') {{\n",
       "            console.log([gd, 'removed!']);\n",
       "            Plotly.purge(gd);\n",
       "            observer.disconnect();\n",
       "        }}\n",
       "}});\n",
       "\n",
       "// Listen for the removal of the full notebook cells\n",
       "var notebookContainer = gd.closest('#notebook-container');\n",
       "if (notebookContainer) {{\n",
       "    x.observe(notebookContainer, {childList: true});\n",
       "}}\n",
       "\n",
       "// Listen for the clearing of the current output cell\n",
       "var outputEl = gd.closest('.output');\n",
       "if (outputEl) {{\n",
       "    x.observe(outputEl, {childList: true});\n",
       "}}\n",
       "\n",
       "                        })                };                });            </script>        </div>"
      ]
     },
     "metadata": {},
     "output_type": "display_data"
    },
    {
     "data": {
      "image/png": "[encoded data removed]",
      "text/plain": [
       "<Figure size 800x600 with 1 Axes>"
      ]
     },
     "metadata": {},
     "output_type": "display_data"
    },
    {
     "data": {
      "image/png": "[encoded data removed]",
      "text/plain": [
       "<Figure size 800x600 with 1 Axes>"
      ]
     },
     "metadata": {},
     "output_type": "display_data"
    }
   ],
   "source": [
    "# Create a Seaborn boxplot\n",
    "plt.figure(figsize=(8, 6))\n",
    "sns.boxplot(x=\"Promotion_1\", y=\"AvgWeeklySales\", data=df)\n",
    "plt.title('Weekly Sales by Promotion')\n",
    "\n",
    "# Convert the Seaborn boxplot to an interactive Plotly plot\n",
    "fig_boxplot = px.box(df, x=\"Promotion_1\", y=\"AvgWeeklySales\", title=\"Interactive Weekly Sales by Promotion\")\n",
    "fig_boxplot.update_layout(showlegend=False)\n",
    "\n",
    "# Create a Seaborn bar plot\n",
    "plt.figure(figsize=(8, 6))\n",
    "sns.barplot(x=\"MarketSize\", y=\"SalesInThousands\", data=df)\n",
    "plt.title('Total Sales by Market Size')\n",
    "\n",
    "# Convert the Seaborn bar plot to an interactive Plotly plot\n",
    "fig_barplot = px.bar(df, x=\"MarketSize\", y=\"SalesInThousands\", title=\"Interactive Total Sales by Market Size\")\n",
    "fig_barplot.update_layout(showlegend=False)\n",
    "\n",
    "# Show the interactive plots\n",
    "fig_boxplot.show()\n",
    "fig_barplot.show()\n",
    "\n",
    "\n",
    "\n",
    "\n"
   ]
  },
  {
   "cell_type": "code",
   "execution_count": 87,
   "id": "e1baceae",
   "metadata": {},
   "outputs": [
    {
     "data": {
      "image/png": "[encoded data removed]",
      "text/plain": [
       "<Figure size 1000x600 with 1 Axes>"
      ]
     },
     "metadata": {},
     "output_type": "display_data"
    }
   ],
   "source": [
    "# Week-over-week trends\n",
    "promotion1_sales = df[df['Promotion_1']==1].groupby('week')['SalesInThousands'].sum()\n",
    "promotion2_sales = df[df['Promotion_2']==1].groupby('week')['SalesInThousands'].sum()\n",
    "\n",
    "# Group the data by week and calculate total sales for Promotion 1 and Promotion 2\n",
    "promotion1_weekly_sales = df[df['Promotion_1'] == 1].groupby('week')['SalesInThousands'].sum().reset_index()\n",
    "promotion2_weekly_sales = df[df['Promotion_2'] == 1].groupby('week')['SalesInThousands'].sum().reset_index()\n",
    "\n",
    "# Create a Seaborn line plot for Promotion 1\n",
    "plt.figure(figsize=(10, 6))\n",
    "sns.lineplot(data=promotion1_weekly_sales, x='week', y='SalesInThousands', label='Promotion 1', marker='o')\n",
    "\n",
    "# Create a Seaborn line plot for Promotion 2\n",
    "sns.lineplot(data=promotion2_weekly_sales, x='week', y='SalesInThousands', label='Promotion 2', marker='o')\n",
    "\n",
    "# Set plot labels and title\n",
    "plt.xlabel('Week')\n",
    "plt.ylabel('Total Sales in Thousands')\n",
    "plt.title('Week-over-Week Sales Trends for Promotions 1 and 2')\n",
    "\n",
    "# Add legend\n",
    "plt.legend()\n",
    "\n",
    "# Show the plot\n",
    "plt.show()"
   ]
  },
  {
   "cell_type": "code",
   "execution_count": 96,
   "id": "4c568cc2",
   "metadata": {},
   "outputs": [
    {
     "data": {
      "text/html": [
       "\n",
       "  <div id=\"d8bc21b0-2b53-4869-8ef0-8e4e2e9cc55c\" data-root-id=\"p2206\" style=\"display: contents;\"></div>\n"
      ]
     },
     "metadata": {},
     "output_type": "display_data"
    },
    {
     "data": {
      "application/javascript": [
       "(function(root) {\n",
       "  function embed_document(root) {\n",
       "  const docs_json = {\"96b89ae1-9364-4cbe-9817-52f45b68d8d2\":{\"version\":\"3.1.1\",\"title\":\"Bokeh Application\",\"defs\":[],\"roots\":[{\"type\":\"object\",\"name\":\"Figure\",\"id\":\"p2206\",\"attributes\":{\"height\":350,\"x_range\":{\"type\":\"object\",\"name\":\"FactorRange\",\"id\":\"p2216\",\"attributes\":{\"factors\":[\"Promotion 1\",\"Promotion 2\",\"Promotion 3\"]}},\"y_range\":{\"type\":\"object\",\"name\":\"DataRange1d\",\"id\":\"p2208\",\"attributes\":{\"start\":0,\"end\":45000}},\"x_scale\":{\"type\":\"object\",\"name\":\"CategoricalScale\",\"id\":\"p2220\"},\"y_scale\":{\"type\":\"object\",\"name\":\"LinearScale\",\"id\":\"p2222\"},\"title\":{\"type\":\"object\",\"name\":\"Title\",\"id\":\"p2209\",\"attributes\":{\"text\":\"Total Sales by Promotion\"}},\"renderers\":[{\"type\":\"object\",\"name\":\"GlyphRenderer\",\"id\":\"p2245\",\"attributes\":{\"data_source\":{\"type\":\"object\",\"name\":\"ColumnDataSource\",\"id\":\"p2203\",\"attributes\":{\"selected\":{\"type\":\"object\",\"name\":\"Selection\",\"id\":\"p2204\",\"attributes\":{\"indices\":[],\"line_indices\":[]}},\"selection_policy\":{\"type\":\"object\",\"name\":\"UnionRenderers\",\"id\":\"p2205\"},\"data\":{\"type\":\"map\",\"entries\":[[\"promos\",[\"Promotion 1\",\"Promotion 2\",\"Promotion 3\"]],[\"sales\",[40000,30000,20000]]]}}},\"view\":{\"type\":\"object\",\"name\":\"CDSView\",\"id\":\"p2246\",\"attributes\":{\"filter\":{\"type\":\"object\",\"name\":\"AllIndices\",\"id\":\"p2247\"}}},\"glyph\":{\"type\":\"object\",\"name\":\"VBar\",\"id\":\"p2242\",\"attributes\":{\"x\":{\"type\":\"field\",\"field\":\"promos\"},\"width\":{\"type\":\"value\",\"value\":0.6},\"top\":{\"type\":\"field\",\"field\":\"sales\"},\"line_color\":{\"type\":\"value\",\"value\":\"white\"},\"fill_color\":{\"type\":\"field\",\"field\":\"promos\",\"transform\":{\"type\":\"object\",\"name\":\"CategoricalColorMapper\",\"id\":\"p2238\",\"attributes\":{\"palette\":[\"#5e4fa2\",\"#3288bd\",\"#66c2a5\",\"#abdda4\",\"#e6f598\",\"#ffffbf\",\"#fee08b\",\"#fdae61\",\"#f46d43\",\"#d53e4f\",\"#9e0142\"],\"factors\":[\"Promotion 1\",\"Promotion 2\",\"Promotion 3\"]}}}}},\"nonselection_glyph\":{\"type\":\"object\",\"name\":\"VBar\",\"id\":\"p2243\",\"attributes\":{\"x\":{\"type\":\"field\",\"field\":\"promos\"},\"width\":{\"type\":\"value\",\"value\":0.6},\"top\":{\"type\":\"field\",\"field\":\"sales\"},\"line_color\":{\"type\":\"value\",\"value\":\"white\"},\"line_alpha\":{\"type\":\"value\",\"value\":0.1},\"fill_color\":{\"type\":\"field\",\"field\":\"promos\",\"transform\":{\"id\":\"p2238\"}},\"fill_alpha\":{\"type\":\"value\",\"value\":0.1},\"hatch_alpha\":{\"type\":\"value\",\"value\":0.1}}},\"muted_glyph\":{\"type\":\"object\",\"name\":\"VBar\",\"id\":\"p2244\",\"attributes\":{\"x\":{\"type\":\"field\",\"field\":\"promos\"},\"width\":{\"type\":\"value\",\"value\":0.6},\"top\":{\"type\":\"field\",\"field\":\"sales\"},\"line_color\":{\"type\":\"value\",\"value\":\"white\"},\"line_alpha\":{\"type\":\"value\",\"value\":0.2},\"fill_color\":{\"type\":\"field\",\"field\":\"promos\",\"transform\":{\"id\":\"p2238\"}},\"fill_alpha\":{\"type\":\"value\",\"value\":0.2},\"hatch_alpha\":{\"type\":\"value\",\"value\":0.2}}}}}],\"toolbar\":{\"type\":\"object\",\"name\":\"Toolbar\",\"id\":\"p2215\"},\"toolbar_location\":null,\"left\":[{\"type\":\"object\",\"name\":\"LinearAxis\",\"id\":\"p2230\",\"attributes\":{\"ticker\":{\"type\":\"object\",\"name\":\"BasicTicker\",\"id\":\"p2232\",\"attributes\":{\"mantissas\":[1,2,5]}},\"formatter\":{\"type\":\"object\",\"name\":\"BasicTickFormatter\",\"id\":\"p2233\"},\"major_label_policy\":{\"type\":\"object\",\"name\":\"AllLabels\",\"id\":\"p2231\"}}}],\"below\":[{\"type\":\"object\",\"name\":\"CategoricalAxis\",\"id\":\"p2224\",\"attributes\":{\"ticker\":{\"type\":\"object\",\"name\":\"CategoricalTicker\",\"id\":\"p2226\"},\"formatter\":{\"type\":\"object\",\"name\":\"CategoricalTickFormatter\",\"id\":\"p2227\"},\"major_label_policy\":{\"type\":\"object\",\"name\":\"AllLabels\",\"id\":\"p2225\"}}}],\"center\":[{\"type\":\"object\",\"name\":\"Grid\",\"id\":\"p2229\",\"attributes\":{\"axis\":{\"id\":\"p2224\"},\"grid_line_color\":null}},{\"type\":\"object\",\"name\":\"Grid\",\"id\":\"p2236\",\"attributes\":{\"dimension\":1,\"axis\":{\"id\":\"p2230\"}}},{\"type\":\"object\",\"name\":\"Legend\",\"id\":\"p2248\",\"attributes\":{\"title\":\"Promotions\",\"items\":[{\"type\":\"object\",\"name\":\"LegendItem\",\"id\":\"p2249\",\"attributes\":{\"label\":{\"type\":\"field\",\"field\":\"promos\"},\"renderers\":[{\"id\":\"p2245\"}]}}]}}]}}],\"callbacks\":{\"type\":\"map\"}}};\n",
       "  const render_items = [{\"docid\":\"96b89ae1-9364-4cbe-9817-52f45b68d8d2\",\"roots\":{\"p2206\":\"d8bc21b0-2b53-4869-8ef0-8e4e2e9cc55c\"},\"root_ids\":[\"p2206\"]}];\n",
       "  root.Bokeh.embed.embed_items_notebook(docs_json, render_items);\n",
       "  }\n",
       "  if (root.Bokeh !== undefined) {\n",
       "    embed_document(root);\n",
       "  } else {\n",
       "    let attempts = 0;\n",
       "    const timer = setInterval(function(root) {\n",
       "      if (root.Bokeh !== undefined) {\n",
       "        clearInterval(timer);\n",
       "        embed_document(root);\n",
       "      } else {\n",
       "        attempts++;\n",
       "        if (attempts > 100) {\n",
       "          clearInterval(timer);\n",
       "          console.log(\"Bokeh: ERROR: Unable to run BokehJS code because BokehJS library is missing\");\n",
       "        }\n",
       "      }\n",
       "    }, 10, root)\n",
       "  }\n",
       "})(window);"
      ],
      "application/vnd.bokehjs_exec.v0+json": ""
     },
     "metadata": {
      "application/vnd.bokehjs_exec.v0+json": {
       "id": "p2206"
      }
     },
     "output_type": "display_data"
    }
   ],
   "source": [
    "# Data\n",
    "promos = ['Promotion 1', 'Promotion 2', 'Promotion 3']\n",
    "sales = [40000, 30000, 20000]\n",
    "\n",
    "\n",
    "# Create a ColumnDataSource\n",
    "source = ColumnDataSource(data=dict(promos=promos, sales=sales))\n",
    "\n",
    "# Create the figure with the specified height\n",
    "p = figure(x_range=promos, height=350, title='Total Sales by Promotion',\n",
    "           toolbar_location=None, tools=\"\")\n",
    "\n",
    "# Add bars to the figure\n",
    "p.vbar(x='promos', top='sales', width=0.6, source=source, legend_field=\"promos\",\n",
    "       line_color='white', fill_color=factor_cmap('promos', palette=Spectral11, factors=promos))\n",
    "\n",
    "# Customize plot properties\n",
    "p.xgrid.grid_line_color = None\n",
    "p.y_range.start = 0\n",
    "p.y_range.end = max(sales) + 5000\n",
    "p.legend.title = 'Promotions'\n",
    "\n",
    "# Show the interactive plot\n",
    "show(p)"
   ]
  },
  {
   "cell_type": "code",
   "execution_count": 103,
   "id": "49104c19",
   "metadata": {},
   "outputs": [
    {
     "data": {
      "text/html": [
       "\n",
       "  <div id=\"d576fdc4-8c3d-4409-8767-57951955dbfa\" data-root-id=\"p3281\" style=\"display: contents;\"></div>\n"
      ]
     },
     "metadata": {},
     "output_type": "display_data"
    },
    {
     "data": {
      "application/javascript": [
       "(function(root) {\n",
       "  function embed_document(root) {\n",
       "  const docs_json = {\"ac0093ca-57eb-4a20-ad82-2a17ebd1f46b\":{\"version\":\"3.1.1\",\"title\":\"Bokeh Application\",\"defs\":[],\"roots\":[{\"type\":\"object\",\"name\":\"Figure\",\"id\":\"p3281\",\"attributes\":{\"width\":800,\"x_range\":{\"type\":\"object\",\"name\":\"DataRange1d\",\"id\":\"p3283\"},\"y_range\":{\"type\":\"object\",\"name\":\"DataRange1d\",\"id\":\"p3282\",\"attributes\":{\"start\":0}},\"x_scale\":{\"type\":\"object\",\"name\":\"LinearScale\",\"id\":\"p3295\"},\"y_scale\":{\"type\":\"object\",\"name\":\"LinearScale\",\"id\":\"p3297\"},\"title\":{\"type\":\"object\",\"name\":\"Title\",\"id\":\"p3284\",\"attributes\":{\"text\":\"Weekly Sales Distribution\"}},\"renderers\":[{\"type\":\"object\",\"name\":\"GlyphRenderer\",\"id\":\"p3325\",\"attributes\":{\"data_source\":{\"type\":\"object\",\"name\":\"ColumnDataSource\",\"id\":\"p3319\",\"attributes\":{\"selected\":{\"type\":\"object\",\"name\":\"Selection\",\"id\":\"p3320\",\"attributes\":{\"indices\":[],\"line_indices\":[]}},\"selection_policy\":{\"type\":\"object\",\"name\":\"UnionRenderers\",\"id\":\"p3321\"},\"data\":{\"type\":\"map\",\"entries\":[[\"x\",[1,2]],[\"top\",{\"type\":\"ndarray\",\"array\":{\"type\":\"bytes\",\"data\":\"qGEAAGBtAAAYeQAA6IAAAA==\"},\"shape\":[4],\"dtype\":\"int32\",\"order\":\"little\"}]]}}},\"view\":{\"type\":\"object\",\"name\":\"CDSView\",\"id\":\"p3326\",\"attributes\":{\"filter\":{\"type\":\"object\",\"name\":\"AllIndices\",\"id\":\"p3327\"}}},\"glyph\":{\"type\":\"object\",\"name\":\"VBar\",\"id\":\"p3322\",\"attributes\":{\"x\":{\"type\":\"field\",\"field\":\"x\"},\"width\":{\"type\":\"value\",\"value\":0.5},\"top\":{\"type\":\"field\",\"field\":\"top\"},\"line_color\":{\"type\":\"value\",\"value\":\"blue\"},\"fill_color\":{\"type\":\"value\",\"value\":\"blue\"},\"hatch_color\":{\"type\":\"value\",\"value\":\"blue\"}}},\"nonselection_glyph\":{\"type\":\"object\",\"name\":\"VBar\",\"id\":\"p3323\",\"attributes\":{\"x\":{\"type\":\"field\",\"field\":\"x\"},\"width\":{\"type\":\"value\",\"value\":0.5},\"top\":{\"type\":\"field\",\"field\":\"top\"},\"line_color\":{\"type\":\"value\",\"value\":\"blue\"},\"line_alpha\":{\"type\":\"value\",\"value\":0.1},\"fill_color\":{\"type\":\"value\",\"value\":\"blue\"},\"fill_alpha\":{\"type\":\"value\",\"value\":0.1},\"hatch_color\":{\"type\":\"value\",\"value\":\"blue\"},\"hatch_alpha\":{\"type\":\"value\",\"value\":0.1}}},\"muted_glyph\":{\"type\":\"object\",\"name\":\"VBar\",\"id\":\"p3324\",\"attributes\":{\"x\":{\"type\":\"field\",\"field\":\"x\"},\"width\":{\"type\":\"value\",\"value\":0.5},\"top\":{\"type\":\"field\",\"field\":\"top\"},\"line_color\":{\"type\":\"value\",\"value\":\"blue\"},\"line_alpha\":{\"type\":\"value\",\"value\":0.2},\"fill_color\":{\"type\":\"value\",\"value\":\"blue\"},\"fill_alpha\":{\"type\":\"value\",\"value\":0.2},\"hatch_color\":{\"type\":\"value\",\"value\":\"blue\"},\"hatch_alpha\":{\"type\":\"value\",\"value\":0.2}}}}},{\"type\":\"object\",\"name\":\"GlyphRenderer\",\"id\":\"p3336\",\"attributes\":{\"data_source\":{\"type\":\"object\",\"name\":\"ColumnDataSource\",\"id\":\"p3330\",\"attributes\":{\"selected\":{\"type\":\"object\",\"name\":\"Selection\",\"id\":\"p3331\",\"attributes\":{\"indices\":[],\"line_indices\":[]}},\"selection_policy\":{\"type\":\"object\",\"name\":\"UnionRenderers\",\"id\":\"p3332\"},\"data\":{\"type\":\"map\",\"entries\":[[\"x\",[1.5,2.5]],[\"top\",{\"type\":\"ndarray\",\"array\":{\"type\":\"bytes\",\"data\":\"IE4AAFBGAADwVQAACFIAAA==\"},\"shape\":[4],\"dtype\":\"int32\",\"order\":\"little\"}]]}}},\"view\":{\"type\":\"object\",\"name\":\"CDSView\",\"id\":\"p3337\",\"attributes\":{\"filter\":{\"type\":\"object\",\"name\":\"AllIndices\",\"id\":\"p3338\"}}},\"glyph\":{\"type\":\"object\",\"name\":\"VBar\",\"id\":\"p3333\",\"attributes\":{\"x\":{\"type\":\"field\",\"field\":\"x\"},\"width\":{\"type\":\"value\",\"value\":0.5},\"top\":{\"type\":\"field\",\"field\":\"top\"},\"line_color\":{\"type\":\"value\",\"value\":\"red\"},\"fill_color\":{\"type\":\"value\",\"value\":\"red\"},\"hatch_color\":{\"type\":\"value\",\"value\":\"red\"}}},\"nonselection_glyph\":{\"type\":\"object\",\"name\":\"VBar\",\"id\":\"p3334\",\"attributes\":{\"x\":{\"type\":\"field\",\"field\":\"x\"},\"width\":{\"type\":\"value\",\"value\":0.5},\"top\":{\"type\":\"field\",\"field\":\"top\"},\"line_color\":{\"type\":\"value\",\"value\":\"red\"},\"line_alpha\":{\"type\":\"value\",\"value\":0.1},\"fill_color\":{\"type\":\"value\",\"value\":\"red\"},\"fill_alpha\":{\"type\":\"value\",\"value\":0.1},\"hatch_color\":{\"type\":\"value\",\"value\":\"red\"},\"hatch_alpha\":{\"type\":\"value\",\"value\":0.1}}},\"muted_glyph\":{\"type\":\"object\",\"name\":\"VBar\",\"id\":\"p3335\",\"attributes\":{\"x\":{\"type\":\"field\",\"field\":\"x\"},\"width\":{\"type\":\"value\",\"value\":0.5},\"top\":{\"type\":\"field\",\"field\":\"top\"},\"line_color\":{\"type\":\"value\",\"value\":\"red\"},\"line_alpha\":{\"type\":\"value\",\"value\":0.2},\"fill_color\":{\"type\":\"value\",\"value\":\"red\"},\"fill_alpha\":{\"type\":\"value\",\"value\":0.2},\"hatch_color\":{\"type\":\"value\",\"value\":\"red\"},\"hatch_alpha\":{\"type\":\"value\",\"value\":0.2}}}}}],\"toolbar\":{\"type\":\"object\",\"name\":\"Toolbar\",\"id\":\"p3290\",\"attributes\":{\"tools\":[{\"type\":\"object\",\"name\":\"BoxZoomTool\",\"id\":\"p3276\",\"attributes\":{\"overlay\":{\"type\":\"object\",\"name\":\"BoxAnnotation\",\"id\":\"p3277\",\"attributes\":{\"syncable\":false,\"level\":\"overlay\",\"visible\":false,\"left_units\":\"canvas\",\"right_units\":\"canvas\",\"bottom_units\":\"canvas\",\"top_units\":\"canvas\",\"line_color\":\"black\",\"line_alpha\":1.0,\"line_width\":2,\"line_dash\":[4,4],\"fill_color\":\"lightgrey\",\"fill_alpha\":0.5}}}},{\"type\":\"object\",\"name\":\"LassoSelectTool\",\"id\":\"p3278\",\"attributes\":{\"renderers\":\"auto\",\"overlay\":{\"type\":\"object\",\"name\":\"PolyAnnotation\",\"id\":\"p3279\",\"attributes\":{\"syncable\":false,\"level\":\"overlay\",\"visible\":false,\"xs\":[],\"ys\":[],\"editable\":true,\"line_color\":\"black\",\"line_alpha\":1.0,\"line_width\":2,\"line_dash\":[4,4],\"fill_color\":\"lightgrey\",\"fill_alpha\":0.5}}}},{\"type\":\"object\",\"name\":\"WheelZoomTool\",\"id\":\"p3280\"}]}},\"left\":[{\"type\":\"object\",\"name\":\"LinearAxis\",\"id\":\"p3306\",\"attributes\":{\"ticker\":{\"type\":\"object\",\"name\":\"BasicTicker\",\"id\":\"p3308\",\"attributes\":{\"mantissas\":[1,2,5]}},\"formatter\":{\"type\":\"object\",\"name\":\"BasicTickFormatter\",\"id\":\"p3309\"},\"axis_label\":\"Weekly Sales\",\"major_label_policy\":{\"type\":\"object\",\"name\":\"AllLabels\",\"id\":\"p3307\"}}}],\"below\":[{\"type\":\"object\",\"name\":\"LinearAxis\",\"id\":\"p3299\",\"attributes\":{\"ticker\":{\"type\":\"object\",\"name\":\"BasicTicker\",\"id\":\"p3301\",\"attributes\":{\"mantissas\":[1,2,5]}},\"formatter\":{\"type\":\"object\",\"name\":\"BasicTickFormatter\",\"id\":\"p3302\"},\"axis_label\":\"Week\",\"major_label_policy\":{\"type\":\"object\",\"name\":\"AllLabels\",\"id\":\"p3300\"}}}],\"center\":[{\"type\":\"object\",\"name\":\"Grid\",\"id\":\"p3305\",\"attributes\":{\"axis\":{\"id\":\"p3299\"},\"grid_line_color\":null}},{\"type\":\"object\",\"name\":\"Grid\",\"id\":\"p3312\",\"attributes\":{\"dimension\":1,\"axis\":{\"id\":\"p3306\"}}},{\"type\":\"object\",\"name\":\"Legend\",\"id\":\"p3328\",\"attributes\":{\"location\":\"top_left\",\"background_fill_alpha\":0.5,\"items\":[{\"type\":\"object\",\"name\":\"LegendItem\",\"id\":\"p3329\",\"attributes\":{\"label\":{\"type\":\"value\",\"value\":\"Promo1\"},\"renderers\":[{\"id\":\"p3325\"}]}},{\"type\":\"object\",\"name\":\"LegendItem\",\"id\":\"p3339\",\"attributes\":{\"label\":{\"type\":\"value\",\"value\":\"Promo2\"},\"renderers\":[{\"id\":\"p3336\"}]}}]}}]}}],\"callbacks\":{\"type\":\"map\"}}};\n",
       "  const render_items = [{\"docid\":\"ac0093ca-57eb-4a20-ad82-2a17ebd1f46b\",\"roots\":{\"p3281\":\"d576fdc4-8c3d-4409-8767-57951955dbfa\"},\"root_ids\":[\"p3281\"]}];\n",
       "  root.Bokeh.embed.embed_items_notebook(docs_json, render_items);\n",
       "  }\n",
       "  if (root.Bokeh !== undefined) {\n",
       "    embed_document(root);\n",
       "  } else {\n",
       "    let attempts = 0;\n",
       "    const timer = setInterval(function(root) {\n",
       "      if (root.Bokeh !== undefined) {\n",
       "        clearInterval(timer);\n",
       "        embed_document(root);\n",
       "      } else {\n",
       "        attempts++;\n",
       "        if (attempts > 100) {\n",
       "          clearInterval(timer);\n",
       "          console.log(\"Bokeh: ERROR: Unable to run BokehJS code because BokehJS library is missing\");\n",
       "        }\n",
       "      }\n",
       "    }, 10, root)\n",
       "  }\n",
       "})(window);"
      ],
      "application/vnd.bokehjs_exec.v0+json": ""
     },
     "metadata": {
      "application/vnd.bokehjs_exec.v0+json": {
       "id": "p3281"
      }
     },
     "output_type": "display_data"
    }
   ],
   "source": [
    "# Data\n",
    "df = pd.DataFrame({'Promo1': [25000, 28000, 31000, 33000], \n",
    "                   'Promo2': [20000, 18000, 22000, 21000]})\n",
    "\n",
    "# Create figure\n",
    "p = figure(tools=[BoxZoomTool(), LassoSelectTool(), WheelZoomTool()], \n",
    "           width=800, height=600, \n",
    "           title='Weekly Sales Distribution')\n",
    "\n",
    "# Add box plots\n",
    "p.vbar(x=[1, 2], top=df['Promo1'], width=0.5, color='blue', legend_label='Promo1')\n",
    "p.vbar(x=[1.5, 2.5], top=df['Promo2'], width=0.5, color='red', legend_label='Promo2')\n",
    "\n",
    "# Legend\n",
    "p.legend.location = 'top_left'\n",
    "p.legend.background_fill_alpha = 0.5\n",
    "\n",
    "\n",
    "# Styling\n",
    "p.y_range.start = 0\n",
    "p.xaxis.axis_label = 'Week'\n",
    "p.yaxis.axis_label = 'Weekly Sales'\n",
    "p.xgrid.grid_line_color = None\n",
    "\n",
    "# Show result\n",
    "show(p)"
   ]
  },
  {
   "cell_type": "code",
   "execution_count": 77,
   "id": "4038dbcc",
   "metadata": {},
   "outputs": [
    {
     "data": {
      "text/html": [
       "<style>\n",
       "        .bk-notebook-logo {\n",
       "            display: block;\n",
       "            width: 20px;\n",
       "            height: 20px;\n",
       "            background-image: url(data:image/png;base64,iVBORw0KGgoAAAANSUhEUgAAABQAAAAUCAYAAACNiR0NAAAABHNCSVQICAgIfAhkiAAAAAlwSFlzAAALEgAACxIB0t1+/AAAABx0RVh0U29mdHdhcmUAQWRvYmUgRmlyZXdvcmtzIENTNui8sowAAAOkSURBVDiNjZRtaJVlGMd/1/08zzln5zjP1LWcU9N0NkN8m2CYjpgQYQXqSs0I84OLIC0hkEKoPtiH3gmKoiJDU7QpLgoLjLIQCpEsNJ1vqUOdO7ppbuec5+V+rj4ctwzd8IIbbi6u+8f1539dt3A78eXC7QizUF7gyV1fD1Yqg4JWz84yffhm0qkFqBogB9rM8tZdtwVsPUhWhGcFJngGeWrPzHm5oaMmkfEg1usvLFyc8jLRqDOMru7AyC8saQr7GG7f5fvDeH7Ej8CM66nIF+8yngt6HWaKh7k49Soy9nXurCi1o3qUbS3zWfrYeQDTB/Qj6kX6Ybhw4B+bOYoLKCC9H3Nu/leUTZ1JdRWkkn2ldcCamzrcf47KKXdAJllSlxAOkRgyHsGC/zRday5Qld9DyoM4/q/rUoy/CXh3jzOu3bHUVZeU+DEn8FInkPBFlu3+nW3Nw0mk6vCDiWg8CeJaxEwuHS3+z5RgY+YBR6V1Z1nxSOfoaPa4LASWxxdNp+VWTk7+4vzaou8v8PN+xo+KY2xsw6une2frhw05CTYOmQvsEhjhWjn0bmXPjpE1+kplmmkP3suftwTubK9Vq22qKmrBhpY4jvd5afdRA3wGjFAgcnTK2s4hY0/GPNIb0nErGMCRxWOOX64Z8RAC4oCXdklmEvcL8o0BfkNK4lUg9HTl+oPlQxdNo3Mg4Nv175e/1LDGzZen30MEjRUtmXSfiTVu1kK8W4txyV6BMKlbgk3lMwYCiusNy9fVfvvwMxv8Ynl6vxoByANLTWplvuj/nF9m2+PDtt1eiHPBr1oIfhCChQMBw6Aw0UulqTKZdfVvfG7VcfIqLG9bcldL/+pdWTLxLUy8Qq38heUIjh4XlzZxzQm19lLFlr8vdQ97rjZVOLf8nclzckbcD4wxXMidpX30sFd37Fv/GtwwhzhxGVAprjbg0gCAEeIgwCZyTV2Z1REEW8O4py0wsjeloKoMr6iCY6dP92H6Vw/oTyICIthibxjm/DfN9lVz8IqtqKYLUXfoKVMVQVVJOElGjrnnUt9T9wbgp8AyYKaGlqingHZU/uG2NTZSVqwHQTWkx9hxjkpWDaCg6Ckj5qebgBVbT3V3NNXMSiWSDdGV3hrtzla7J+duwPOToIg42ChPQOQjspnSlp1V+Gjdged7+8UN5CRAV7a5EdFNwCjEaBR27b3W890TE7g24NAP/mMDXRWrGoFPQI9ls/MWO2dWFAar/xcOIImbbpA3zgAAAABJRU5ErkJggg==);\n",
       "        }\n",
       "    </style>\n",
       "    <div>\n",
       "        <a href=\"https://bokeh.org\" target=\"_blank\" class=\"bk-notebook-logo\"></a>\n",
       "        <span id=\"cfa44ccc-fc7b-4bf3-9afd-546df1fc8767\">Loading BokehJS ...</span>\n",
       "    </div>\n"
      ]
     },
     "metadata": {},
     "output_type": "display_data"
    },
    {
     "data": {
      "application/javascript": [
       "(function(root) {\n",
       "  function now() {\n",
       "    return new Date();\n",
       "  }\n",
       "\n",
       "  const force = true;\n",
       "\n",
       "  if (typeof root._bokeh_onload_callbacks === \"undefined\" || force === true) {\n",
       "    root._bokeh_onload_callbacks = [];\n",
       "    root._bokeh_is_loading = undefined;\n",
       "  }\n",
       "\n",
       "const JS_MIME_TYPE = 'application/javascript';\n",
       "  const HTML_MIME_TYPE = 'text/html';\n",
       "  const EXEC_MIME_TYPE = 'application/vnd.bokehjs_exec.v0+json';\n",
       "  const CLASS_NAME = 'output_bokeh rendered_html';\n",
       "\n",
       "  /**\n",
       "   * Render data to the DOM node\n",
       "   */\n",
       "  function render(props, node) {\n",
       "    const script = document.createElement(\"script\");\n",
       "    node.appendChild(script);\n",
       "  }\n",
       "\n",
       "  /**\n",
       "   * Handle when an output is cleared or removed\n",
       "   */\n",
       "  function handleClearOutput(event, handle) {\n",
       "    const cell = handle.cell;\n",
       "\n",
       "    const id = cell.output_area._bokeh_element_id;\n",
       "    const server_id = cell.output_area._bokeh_server_id;\n",
       "    // Clean up Bokeh references\n",
       "    if (id != null && id in Bokeh.index) {\n",
       "      Bokeh.index[id].model.document.clear();\n",
       "      delete Bokeh.index[id];\n",
       "    }\n",
       "\n",
       "    if (server_id !== undefined) {\n",
       "      // Clean up Bokeh references\n",
       "      const cmd_clean = \"from bokeh.io.state import curstate; print(curstate().uuid_to_server['\" + server_id + \"'].get_sessions()[0].document.roots[0]._id)\";\n",
       "      cell.notebook.kernel.execute(cmd_clean, {\n",
       "        iopub: {\n",
       "          output: function(msg) {\n",
       "            const id = msg.content.text.trim();\n",
       "            if (id in Bokeh.index) {\n",
       "              Bokeh.index[id].model.document.clear();\n",
       "              delete Bokeh.index[id];\n",
       "            }\n",
       "          }\n",
       "        }\n",
       "      });\n",
       "      // Destroy server and session\n",
       "      const cmd_destroy = \"import bokeh.io.notebook as ion; ion.destroy_server('\" + server_id + \"')\";\n",
       "      cell.notebook.kernel.execute(cmd_destroy);\n",
       "    }\n",
       "  }\n",
       "\n",
       "  /**\n",
       "   * Handle when a new output is added\n",
       "   */\n",
       "  function handleAddOutput(event, handle) {\n",
       "    const output_area = handle.output_area;\n",
       "    const output = handle.output;\n",
       "\n",
       "    // limit handleAddOutput to display_data with EXEC_MIME_TYPE content only\n",
       "    if ((output.output_type != \"display_data\") || (!Object.prototype.hasOwnProperty.call(output.data, EXEC_MIME_TYPE))) {\n",
       "      return\n",
       "    }\n",
       "\n",
       "    const toinsert = output_area.element.find(\".\" + CLASS_NAME.split(' ')[0]);\n",
       "\n",
       "    if (output.metadata[EXEC_MIME_TYPE][\"id\"] !== undefined) {\n",
       "      toinsert[toinsert.length - 1].firstChild.textContent = output.data[JS_MIME_TYPE];\n",
       "      // store reference to embed id on output_area\n",
       "      output_area._bokeh_element_id = output.metadata[EXEC_MIME_TYPE][\"id\"];\n",
       "    }\n",
       "    if (output.metadata[EXEC_MIME_TYPE][\"server_id\"] !== undefined) {\n",
       "      const bk_div = document.createElement(\"div\");\n",
       "      bk_div.innerHTML = output.data[HTML_MIME_TYPE];\n",
       "      const script_attrs = bk_div.children[0].attributes;\n",
       "      for (let i = 0; i < script_attrs.length; i++) {\n",
       "        toinsert[toinsert.length - 1].firstChild.setAttribute(script_attrs[i].name, script_attrs[i].value);\n",
       "        toinsert[toinsert.length - 1].firstChild.textContent = bk_div.children[0].textContent\n",
       "      }\n",
       "      // store reference to server id on output_area\n",
       "      output_area._bokeh_server_id = output.metadata[EXEC_MIME_TYPE][\"server_id\"];\n",
       "    }\n",
       "  }\n",
       "\n",
       "  function register_renderer(events, OutputArea) {\n",
       "\n",
       "    function append_mime(data, metadata, element) {\n",
       "      // create a DOM node to render to\n",
       "      const toinsert = this.create_output_subarea(\n",
       "        metadata,\n",
       "        CLASS_NAME,\n",
       "        EXEC_MIME_TYPE\n",
       "      );\n",
       "      this.keyboard_manager.register_events(toinsert);\n",
       "      // Render to node\n",
       "      const props = {data: data, metadata: metadata[EXEC_MIME_TYPE]};\n",
       "      render(props, toinsert[toinsert.length - 1]);\n",
       "      element.append(toinsert);\n",
       "      return toinsert\n",
       "    }\n",
       "\n",
       "    /* Handle when an output is cleared or removed */\n",
       "    events.on('clear_output.CodeCell', handleClearOutput);\n",
       "    events.on('delete.Cell', handleClearOutput);\n",
       "\n",
       "    /* Handle when a new output is added */\n",
       "    events.on('output_added.OutputArea', handleAddOutput);\n",
       "\n",
       "    /**\n",
       "     * Register the mime type and append_mime function with output_area\n",
       "     */\n",
       "    OutputArea.prototype.register_mime_type(EXEC_MIME_TYPE, append_mime, {\n",
       "      /* Is output safe? */\n",
       "      safe: true,\n",
       "      /* Index of renderer in `output_area.display_order` */\n",
       "      index: 0\n",
       "    });\n",
       "  }\n",
       "\n",
       "  // register the mime type if in Jupyter Notebook environment and previously unregistered\n",
       "  if (root.Jupyter !== undefined) {\n",
       "    const events = require('base/js/events');\n",
       "    const OutputArea = require('notebook/js/outputarea').OutputArea;\n",
       "\n",
       "    if (OutputArea.prototype.mime_types().indexOf(EXEC_MIME_TYPE) == -1) {\n",
       "      register_renderer(events, OutputArea);\n",
       "    }\n",
       "  }\n",
       "  if (typeof (root._bokeh_timeout) === \"undefined\" || force === true) {\n",
       "    root._bokeh_timeout = Date.now() + 5000;\n",
       "    root._bokeh_failed_load = false;\n",
       "  }\n",
       "\n",
       "  const NB_LOAD_WARNING = {'data': {'text/html':\n",
       "     \"<div style='background-color: #fdd'>\\n\"+\n",
       "     \"<p>\\n\"+\n",
       "     \"BokehJS does not appear to have successfully loaded. If loading BokehJS from CDN, this \\n\"+\n",
       "     \"may be due to a slow or bad network connection. Possible fixes:\\n\"+\n",
       "     \"</p>\\n\"+\n",
       "     \"<ul>\\n\"+\n",
       "     \"<li>re-rerun `output_notebook()` to attempt to load from CDN again, or</li>\\n\"+\n",
       "     \"<li>use INLINE resources instead, as so:</li>\\n\"+\n",
       "     \"</ul>\\n\"+\n",
       "     \"<code>\\n\"+\n",
       "     \"from bokeh.resources import INLINE\\n\"+\n",
       "     \"output_notebook(resources=INLINE)\\n\"+\n",
       "     \"</code>\\n\"+\n",
       "     \"</div>\"}};\n",
       "\n",
       "  function display_loaded() {\n",
       "    const el = document.getElementById(\"cfa44ccc-fc7b-4bf3-9afd-546df1fc8767\");\n",
       "    if (el != null) {\n",
       "      el.textContent = \"BokehJS is loading...\";\n",
       "    }\n",
       "    if (root.Bokeh !== undefined) {\n",
       "      if (el != null) {\n",
       "        el.textContent = \"BokehJS \" + root.Bokeh.version + \" successfully loaded.\";\n",
       "      }\n",
       "    } else if (Date.now() < root._bokeh_timeout) {\n",
       "      setTimeout(display_loaded, 100)\n",
       "    }\n",
       "  }\n",
       "\n",
       "  function run_callbacks() {\n",
       "    try {\n",
       "      root._bokeh_onload_callbacks.forEach(function(callback) {\n",
       "        if (callback != null)\n",
       "          callback();\n",
       "      });\n",
       "    } finally {\n",
       "      delete root._bokeh_onload_callbacks\n",
       "    }\n",
       "    console.debug(\"Bokeh: all callbacks have finished\");\n",
       "  }\n",
       "\n",
       "  function load_libs(css_urls, js_urls, callback) {\n",
       "    if (css_urls == null) css_urls = [];\n",
       "    if (js_urls == null) js_urls = [];\n",
       "\n",
       "    root._bokeh_onload_callbacks.push(callback);\n",
       "    if (root._bokeh_is_loading > 0) {\n",
       "      console.debug(\"Bokeh: BokehJS is being loaded, scheduling callback at\", now());\n",
       "      return null;\n",
       "    }\n",
       "    if (js_urls == null || js_urls.length === 0) {\n",
       "      run_callbacks();\n",
       "      return null;\n",
       "    }\n",
       "    console.debug(\"Bokeh: BokehJS not loaded, scheduling load and callback at\", now());\n",
       "    root._bokeh_is_loading = css_urls.length + js_urls.length;\n",
       "\n",
       "    function on_load() {\n",
       "      root._bokeh_is_loading--;\n",
       "      if (root._bokeh_is_loading === 0) {\n",
       "        console.debug(\"Bokeh: all BokehJS libraries/stylesheets loaded\");\n",
       "        run_callbacks()\n",
       "      }\n",
       "    }\n",
       "\n",
       "    function on_error(url) {\n",
       "      console.error(\"failed to load \" + url);\n",
       "    }\n",
       "\n",
       "    for (let i = 0; i < css_urls.length; i++) {\n",
       "      const url = css_urls[i];\n",
       "      const element = document.createElement(\"link\");\n",
       "      element.onload = on_load;\n",
       "      element.onerror = on_error.bind(null, url);\n",
       "      element.rel = \"stylesheet\";\n",
       "      element.type = \"text/css\";\n",
       "      element.href = url;\n",
       "      console.debug(\"Bokeh: injecting link tag for BokehJS stylesheet: \", url);\n",
       "      document.body.appendChild(element);\n",
       "    }\n",
       "\n",
       "    for (let i = 0; i < js_urls.length; i++) {\n",
       "      const url = js_urls[i];\n",
       "      const element = document.createElement('script');\n",
       "      element.onload = on_load;\n",
       "      element.onerror = on_error.bind(null, url);\n",
       "      element.async = false;\n",
       "      element.src = url;\n",
       "      console.debug(\"Bokeh: injecting script tag for BokehJS library: \", url);\n",
       "      document.head.appendChild(element);\n",
       "    }\n",
       "  };\n",
       "\n",
       "  function inject_raw_css(css) {\n",
       "    const element = document.createElement(\"style\");\n",
       "    element.appendChild(document.createTextNode(css));\n",
       "    document.body.appendChild(element);\n",
       "  }\n",
       "\n",
       "  const js_urls = [\"https://cdn.bokeh.org/bokeh/release/bokeh-3.1.1.min.js\", \"https://cdn.bokeh.org/bokeh/release/bokeh-gl-3.1.1.min.js\", \"https://cdn.bokeh.org/bokeh/release/bokeh-widgets-3.1.1.min.js\", \"https://cdn.bokeh.org/bokeh/release/bokeh-tables-3.1.1.min.js\", \"https://cdn.bokeh.org/bokeh/release/bokeh-mathjax-3.1.1.min.js\"];\n",
       "  const css_urls = [];\n",
       "\n",
       "  const inline_js = [    function(Bokeh) {\n",
       "      Bokeh.set_log_level(\"info\");\n",
       "    },\n",
       "function(Bokeh) {\n",
       "    }\n",
       "  ];\n",
       "\n",
       "  function run_inline_js() {\n",
       "    if (root.Bokeh !== undefined || force === true) {\n",
       "          for (let i = 0; i < inline_js.length; i++) {\n",
       "      inline_js[i].call(root, root.Bokeh);\n",
       "    }\n",
       "if (force === true) {\n",
       "        display_loaded();\n",
       "      }} else if (Date.now() < root._bokeh_timeout) {\n",
       "      setTimeout(run_inline_js, 100);\n",
       "    } else if (!root._bokeh_failed_load) {\n",
       "      console.log(\"Bokeh: BokehJS failed to load within specified timeout.\");\n",
       "      root._bokeh_failed_load = true;\n",
       "    } else if (force !== true) {\n",
       "      const cell = $(document.getElementById(\"cfa44ccc-fc7b-4bf3-9afd-546df1fc8767\")).parents('.cell').data().cell;\n",
       "      cell.output_area.append_execute_result(NB_LOAD_WARNING)\n",
       "    }\n",
       "  }\n",
       "\n",
       "  if (root._bokeh_is_loading === 0) {\n",
       "    console.debug(\"Bokeh: BokehJS loaded, going straight to plotting\");\n",
       "    run_inline_js();\n",
       "  } else {\n",
       "    load_libs(css_urls, js_urls, function() {\n",
       "      console.debug(\"Bokeh: BokehJS plotting callback run at\", now());\n",
       "      run_inline_js();\n",
       "    });\n",
       "  }\n",
       "}(window));"
      ],
      "application/vnd.bokehjs_load.v0+json": "(function(root) {\n  function now() {\n    return new Date();\n  }\n\n  const force = true;\n\n  if (typeof root._bokeh_onload_callbacks === \"undefined\" || force === true) {\n    root._bokeh_onload_callbacks = [];\n    root._bokeh_is_loading = undefined;\n  }\n\n\n  if (typeof (root._bokeh_timeout) === \"undefined\" || force === true) {\n    root._bokeh_timeout = Date.now() + 5000;\n    root._bokeh_failed_load = false;\n  }\n\n  const NB_LOAD_WARNING = {'data': {'text/html':\n     \"<div style='background-color: #fdd'>\\n\"+\n     \"<p>\\n\"+\n     \"BokehJS does not appear to have successfully loaded. If loading BokehJS from CDN, this \\n\"+\n     \"may be due to a slow or bad network connection. Possible fixes:\\n\"+\n     \"</p>\\n\"+\n     \"<ul>\\n\"+\n     \"<li>re-rerun `output_notebook()` to attempt to load from CDN again, or</li>\\n\"+\n     \"<li>use INLINE resources instead, as so:</li>\\n\"+\n     \"</ul>\\n\"+\n     \"<code>\\n\"+\n     \"from bokeh.resources import INLINE\\n\"+\n     \"output_notebook(resources=INLINE)\\n\"+\n     \"</code>\\n\"+\n     \"</div>\"}};\n\n  function display_loaded() {\n    const el = document.getElementById(\"cfa44ccc-fc7b-4bf3-9afd-546df1fc8767\");\n    if (el != null) {\n      el.textContent = \"BokehJS is loading...\";\n    }\n    if (root.Bokeh !== undefined) {\n      if (el != null) {\n        el.textContent = \"BokehJS \" + root.Bokeh.version + \" successfully loaded.\";\n      }\n    } else if (Date.now() < root._bokeh_timeout) {\n      setTimeout(display_loaded, 100)\n    }\n  }\n\n  function run_callbacks() {\n    try {\n      root._bokeh_onload_callbacks.forEach(function(callback) {\n        if (callback != null)\n          callback();\n      });\n    } finally {\n      delete root._bokeh_onload_callbacks\n    }\n    console.debug(\"Bokeh: all callbacks have finished\");\n  }\n\n  function load_libs(css_urls, js_urls, callback) {\n    if (css_urls == null) css_urls = [];\n    if (js_urls == null) js_urls = [];\n\n    root._bokeh_onload_callbacks.push(callback);\n    if (root._bokeh_is_loading > 0) {\n      console.debug(\"Bokeh: BokehJS is being loaded, scheduling callback at\", now());\n      return null;\n    }\n    if (js_urls == null || js_urls.length === 0) {\n      run_callbacks();\n      return null;\n    }\n    console.debug(\"Bokeh: BokehJS not loaded, scheduling load and callback at\", now());\n    root._bokeh_is_loading = css_urls.length + js_urls.length;\n\n    function on_load() {\n      root._bokeh_is_loading--;\n      if (root._bokeh_is_loading === 0) {\n        console.debug(\"Bokeh: all BokehJS libraries/stylesheets loaded\");\n        run_callbacks()\n      }\n    }\n\n    function on_error(url) {\n      console.error(\"failed to load \" + url);\n    }\n\n    for (let i = 0; i < css_urls.length; i++) {\n      const url = css_urls[i];\n      const element = document.createElement(\"link\");\n      element.onload = on_load;\n      element.onerror = on_error.bind(null, url);\n      element.rel = \"stylesheet\";\n      element.type = \"text/css\";\n      element.href = url;\n      console.debug(\"Bokeh: injecting link tag for BokehJS stylesheet: \", url);\n      document.body.appendChild(element);\n    }\n\n    for (let i = 0; i < js_urls.length; i++) {\n      const url = js_urls[i];\n      const element = document.createElement('script');\n      element.onload = on_load;\n      element.onerror = on_error.bind(null, url);\n      element.async = false;\n      element.src = url;\n      console.debug(\"Bokeh: injecting script tag for BokehJS library: \", url);\n      document.head.appendChild(element);\n    }\n  };\n\n  function inject_raw_css(css) {\n    const element = document.createElement(\"style\");\n    element.appendChild(document.createTextNode(css));\n    document.body.appendChild(element);\n  }\n\n  const js_urls = [\"https://cdn.bokeh.org/bokeh/release/bokeh-3.1.1.min.js\", \"https://cdn.bokeh.org/bokeh/release/bokeh-gl-3.1.1.min.js\", \"https://cdn.bokeh.org/bokeh/release/bokeh-widgets-3.1.1.min.js\", \"https://cdn.bokeh.org/bokeh/release/bokeh-tables-3.1.1.min.js\", \"https://cdn.bokeh.org/bokeh/release/bokeh-mathjax-3.1.1.min.js\"];\n  const css_urls = [];\n\n  const inline_js = [    function(Bokeh) {\n      Bokeh.set_log_level(\"info\");\n    },\nfunction(Bokeh) {\n    }\n  ];\n\n  function run_inline_js() {\n    if (root.Bokeh !== undefined || force === true) {\n          for (let i = 0; i < inline_js.length; i++) {\n      inline_js[i].call(root, root.Bokeh);\n    }\nif (force === true) {\n        display_loaded();\n      }} else if (Date.now() < root._bokeh_timeout) {\n      setTimeout(run_inline_js, 100);\n    } else if (!root._bokeh_failed_load) {\n      console.log(\"Bokeh: BokehJS failed to load within specified timeout.\");\n      root._bokeh_failed_load = true;\n    } else if (force !== true) {\n      const cell = $(document.getElementById(\"cfa44ccc-fc7b-4bf3-9afd-546df1fc8767\")).parents('.cell').data().cell;\n      cell.output_area.append_execute_result(NB_LOAD_WARNING)\n    }\n  }\n\n  if (root._bokeh_is_loading === 0) {\n    console.debug(\"Bokeh: BokehJS loaded, going straight to plotting\");\n    run_inline_js();\n  } else {\n    load_libs(css_urls, js_urls, function() {\n      console.debug(\"Bokeh: BokehJS plotting callback run at\", now());\n      run_inline_js();\n    });\n  }\n}(window));"
     },
     "metadata": {},
     "output_type": "display_data"
    },
    {
     "data": {
      "text/html": [
       "\n",
       "  <div id=\"e298e134-0eb9-428b-8527-28b807bee8cb\" data-root-id=\"p1142\" style=\"display: contents;\"></div>\n"
      ]
     },
     "metadata": {},
     "output_type": "display_data"
    },
    {
     "data": {
      "application/javascript": [
       "(function(root) {\n",
       "  function embed_document(root) {\n",
       "  const docs_json = {\"b00eff6a-9831-4610-bdde-0bd35948230f\":{\"version\":\"3.1.1\",\"title\":\"Bokeh Application\",\"defs\":[],\"roots\":[{\"type\":\"object\",\"name\":\"Figure\",\"id\":\"p1142\",\"attributes\":{\"x_range\":{\"type\":\"object\",\"name\":\"DataRange1d\",\"id\":\"p1144\"},\"y_range\":{\"type\":\"object\",\"name\":\"DataRange1d\",\"id\":\"p1143\"},\"x_scale\":{\"type\":\"object\",\"name\":\"LinearScale\",\"id\":\"p1156\"},\"y_scale\":{\"type\":\"object\",\"name\":\"LinearScale\",\"id\":\"p1158\"},\"title\":{\"type\":\"object\",\"name\":\"Title\",\"id\":\"p1145\",\"attributes\":{\"text\":\"Weekly Sales Trend\"}},\"renderers\":[{\"type\":\"object\",\"name\":\"GlyphRenderer\",\"id\":\"p1195\",\"attributes\":{\"data_source\":{\"type\":\"object\",\"name\":\"ColumnDataSource\",\"id\":\"p1189\",\"attributes\":{\"selected\":{\"type\":\"object\",\"name\":\"Selection\",\"id\":\"p1190\",\"attributes\":{\"indices\":[],\"line_indices\":[]}},\"selection_policy\":{\"type\":\"object\",\"name\":\"UnionRenderers\",\"id\":\"p1191\"},\"data\":{\"type\":\"map\",\"entries\":[[\"x\",[1,2,3,4]],[\"y\",[25000,28000,31000,33000]]]}}},\"view\":{\"type\":\"object\",\"name\":\"CDSView\",\"id\":\"p1196\",\"attributes\":{\"filter\":{\"type\":\"object\",\"name\":\"AllIndices\",\"id\":\"p1197\"}}},\"glyph\":{\"type\":\"object\",\"name\":\"Line\",\"id\":\"p1192\",\"attributes\":{\"x\":{\"type\":\"field\",\"field\":\"x\"},\"y\":{\"type\":\"field\",\"field\":\"y\"},\"line_color\":\"blue\",\"line_width\":2}},\"nonselection_glyph\":{\"type\":\"object\",\"name\":\"Line\",\"id\":\"p1193\",\"attributes\":{\"x\":{\"type\":\"field\",\"field\":\"x\"},\"y\":{\"type\":\"field\",\"field\":\"y\"},\"line_color\":\"blue\",\"line_alpha\":0.1,\"line_width\":2}},\"muted_glyph\":{\"type\":\"object\",\"name\":\"Line\",\"id\":\"p1194\",\"attributes\":{\"x\":{\"type\":\"field\",\"field\":\"x\"},\"y\":{\"type\":\"field\",\"field\":\"y\"},\"line_color\":\"blue\",\"line_alpha\":0.2,\"line_width\":2}}}},{\"type\":\"object\",\"name\":\"GlyphRenderer\",\"id\":\"p1206\",\"attributes\":{\"data_source\":{\"type\":\"object\",\"name\":\"ColumnDataSource\",\"id\":\"p1200\",\"attributes\":{\"selected\":{\"type\":\"object\",\"name\":\"Selection\",\"id\":\"p1201\",\"attributes\":{\"indices\":[],\"line_indices\":[]}},\"selection_policy\":{\"type\":\"object\",\"name\":\"UnionRenderers\",\"id\":\"p1202\"},\"data\":{\"type\":\"map\",\"entries\":[[\"x\",[1,2,3,4]],[\"y\",[20000,18000,22000,21000]]]}}},\"view\":{\"type\":\"object\",\"name\":\"CDSView\",\"id\":\"p1207\",\"attributes\":{\"filter\":{\"type\":\"object\",\"name\":\"AllIndices\",\"id\":\"p1208\"}}},\"glyph\":{\"type\":\"object\",\"name\":\"Line\",\"id\":\"p1203\",\"attributes\":{\"x\":{\"type\":\"field\",\"field\":\"x\"},\"y\":{\"type\":\"field\",\"field\":\"y\"},\"line_color\":\"red\",\"line_width\":2}},\"nonselection_glyph\":{\"type\":\"object\",\"name\":\"Line\",\"id\":\"p1204\",\"attributes\":{\"x\":{\"type\":\"field\",\"field\":\"x\"},\"y\":{\"type\":\"field\",\"field\":\"y\"},\"line_color\":\"red\",\"line_alpha\":0.1,\"line_width\":2}},\"muted_glyph\":{\"type\":\"object\",\"name\":\"Line\",\"id\":\"p1205\",\"attributes\":{\"x\":{\"type\":\"field\",\"field\":\"x\"},\"y\":{\"type\":\"field\",\"field\":\"y\"},\"line_color\":\"red\",\"line_alpha\":0.2,\"line_width\":2}}}}],\"toolbar\":{\"type\":\"object\",\"name\":\"Toolbar\",\"id\":\"p1151\",\"attributes\":{\"tools\":[{\"type\":\"object\",\"name\":\"PanTool\",\"id\":\"p1174\"},{\"type\":\"object\",\"name\":\"WheelZoomTool\",\"id\":\"p1175\"},{\"type\":\"object\",\"name\":\"BoxZoomTool\",\"id\":\"p1176\",\"attributes\":{\"overlay\":{\"type\":\"object\",\"name\":\"BoxAnnotation\",\"id\":\"p1177\",\"attributes\":{\"syncable\":false,\"level\":\"overlay\",\"visible\":false,\"left_units\":\"canvas\",\"right_units\":\"canvas\",\"bottom_units\":\"canvas\",\"top_units\":\"canvas\",\"line_color\":\"black\",\"line_alpha\":1.0,\"line_width\":2,\"line_dash\":[4,4],\"fill_color\":\"lightgrey\",\"fill_alpha\":0.5}}}},{\"type\":\"object\",\"name\":\"SaveTool\",\"id\":\"p1178\"},{\"type\":\"object\",\"name\":\"ResetTool\",\"id\":\"p1179\"},{\"type\":\"object\",\"name\":\"HelpTool\",\"id\":\"p1180\"}]}},\"left\":[{\"type\":\"object\",\"name\":\"LinearAxis\",\"id\":\"p1167\",\"attributes\":{\"ticker\":{\"type\":\"object\",\"name\":\"BasicTicker\",\"id\":\"p1169\",\"attributes\":{\"mantissas\":[1,2,5]}},\"formatter\":{\"type\":\"object\",\"name\":\"BasicTickFormatter\",\"id\":\"p1170\"},\"axis_label\":\"Weekly Sales\",\"major_label_policy\":{\"type\":\"object\",\"name\":\"AllLabels\",\"id\":\"p1168\"}}}],\"below\":[{\"type\":\"object\",\"name\":\"LinearAxis\",\"id\":\"p1160\",\"attributes\":{\"ticker\":{\"type\":\"object\",\"name\":\"BasicTicker\",\"id\":\"p1162\",\"attributes\":{\"mantissas\":[1,2,5]}},\"formatter\":{\"type\":\"object\",\"name\":\"BasicTickFormatter\",\"id\":\"p1163\"},\"axis_label\":\"Weeks\",\"major_label_policy\":{\"type\":\"object\",\"name\":\"AllLabels\",\"id\":\"p1161\"}}}],\"center\":[{\"type\":\"object\",\"name\":\"Grid\",\"id\":\"p1166\",\"attributes\":{\"axis\":{\"id\":\"p1160\"}}},{\"type\":\"object\",\"name\":\"Grid\",\"id\":\"p1173\",\"attributes\":{\"dimension\":1,\"axis\":{\"id\":\"p1167\"}}},{\"type\":\"object\",\"name\":\"Legend\",\"id\":\"p1198\",\"attributes\":{\"title\":\"Promotions\",\"items\":[{\"type\":\"object\",\"name\":\"LegendItem\",\"id\":\"p1199\",\"attributes\":{\"label\":{\"type\":\"value\",\"value\":\"Promotion 1\"},\"renderers\":[{\"id\":\"p1195\"}]}},{\"type\":\"object\",\"name\":\"LegendItem\",\"id\":\"p1209\",\"attributes\":{\"label\":{\"type\":\"value\",\"value\":\"Promotion 2\"},\"renderers\":[{\"id\":\"p1206\"}]}}]}}]}}],\"callbacks\":{\"type\":\"map\"}}};\n",
       "  const render_items = [{\"docid\":\"b00eff6a-9831-4610-bdde-0bd35948230f\",\"roots\":{\"p1142\":\"e298e134-0eb9-428b-8527-28b807bee8cb\"},\"root_ids\":[\"p1142\"]}];\n",
       "  root.Bokeh.embed.embed_items_notebook(docs_json, render_items);\n",
       "  }\n",
       "  if (root.Bokeh !== undefined) {\n",
       "    embed_document(root);\n",
       "  } else {\n",
       "    let attempts = 0;\n",
       "    const timer = setInterval(function(root) {\n",
       "      if (root.Bokeh !== undefined) {\n",
       "        clearInterval(timer);\n",
       "        embed_document(root);\n",
       "      } else {\n",
       "        attempts++;\n",
       "        if (attempts > 100) {\n",
       "          clearInterval(timer);\n",
       "          console.log(\"Bokeh: ERROR: Unable to run BokehJS code because BokehJS library is missing\");\n",
       "        }\n",
       "      }\n",
       "    }, 10, root)\n",
       "  }\n",
       "})(window);"
      ],
      "application/vnd.bokehjs_exec.v0+json": ""
     },
     "metadata": {
      "application/vnd.bokehjs_exec.v0+json": {
       "id": "p1142"
      }
     },
     "output_type": "display_data"
    }
   ],
   "source": [
    "# Data\n",
    "weeks = [1, 2, 3, 4]\n",
    "sales1 = [25000, 28000, 31000, 33000]\n",
    "sales2 = [20000, 18000, 22000, 21000]\n",
    "\n",
    "# Create a Bokeh output in a Jupyter Notebook (if you're using Jupyter)\n",
    "output_notebook()\n",
    "\n",
    "# Create a Bokeh figure\n",
    "p = figure(title='Weekly Sales Trend', x_axis_label='Weeks', y_axis_label='Weekly Sales')\n",
    "\n",
    "# Add line glyphs for Promotion 1 and Promotion 2\n",
    "p.line(weeks, sales1, legend_label='Promotion 1', line_width=2, line_color='blue')\n",
    "p.line(weeks, sales2, legend_label='Promotion 2', line_width=2, line_color='red')\n",
    "\n",
    "# Add a legend\n",
    "p.legend.title = 'Promotions'\n",
    "\n",
    "# Show the interactive plot\n",
    "show(p)"
   ]
  },
  {
   "cell_type": "code",
   "execution_count": 114,
   "id": "758ceceb",
   "metadata": {},
   "outputs": [
    {
     "data": {
      "text/html": [
       "<style>\n",
       "        .bk-notebook-logo {\n",
       "            display: block;\n",
       "            width: 20px;\n",
       "            height: 20px;\n",
       "            background-image: url(data:image/png;base64,iVBORw0KGgoAAAANSUhEUgAAABQAAAAUCAYAAACNiR0NAAAABHNCSVQICAgIfAhkiAAAAAlwSFlzAAALEgAACxIB0t1+/AAAABx0RVh0U29mdHdhcmUAQWRvYmUgRmlyZXdvcmtzIENTNui8sowAAAOkSURBVDiNjZRtaJVlGMd/1/08zzln5zjP1LWcU9N0NkN8m2CYjpgQYQXqSs0I84OLIC0hkEKoPtiH3gmKoiJDU7QpLgoLjLIQCpEsNJ1vqUOdO7ppbuec5+V+rj4ctwzd8IIbbi6u+8f1539dt3A78eXC7QizUF7gyV1fD1Yqg4JWz84yffhm0qkFqBogB9rM8tZdtwVsPUhWhGcFJngGeWrPzHm5oaMmkfEg1usvLFyc8jLRqDOMru7AyC8saQr7GG7f5fvDeH7Ej8CM66nIF+8yngt6HWaKh7k49Soy9nXurCi1o3qUbS3zWfrYeQDTB/Qj6kX6Ybhw4B+bOYoLKCC9H3Nu/leUTZ1JdRWkkn2ldcCamzrcf47KKXdAJllSlxAOkRgyHsGC/zRday5Qld9DyoM4/q/rUoy/CXh3jzOu3bHUVZeU+DEn8FInkPBFlu3+nW3Nw0mk6vCDiWg8CeJaxEwuHS3+z5RgY+YBR6V1Z1nxSOfoaPa4LASWxxdNp+VWTk7+4vzaou8v8PN+xo+KY2xsw6une2frhw05CTYOmQvsEhjhWjn0bmXPjpE1+kplmmkP3suftwTubK9Vq22qKmrBhpY4jvd5afdRA3wGjFAgcnTK2s4hY0/GPNIb0nErGMCRxWOOX64Z8RAC4oCXdklmEvcL8o0BfkNK4lUg9HTl+oPlQxdNo3Mg4Nv175e/1LDGzZen30MEjRUtmXSfiTVu1kK8W4txyV6BMKlbgk3lMwYCiusNy9fVfvvwMxv8Ynl6vxoByANLTWplvuj/nF9m2+PDtt1eiHPBr1oIfhCChQMBw6Aw0UulqTKZdfVvfG7VcfIqLG9bcldL/+pdWTLxLUy8Qq38heUIjh4XlzZxzQm19lLFlr8vdQ97rjZVOLf8nclzckbcD4wxXMidpX30sFd37Fv/GtwwhzhxGVAprjbg0gCAEeIgwCZyTV2Z1REEW8O4py0wsjeloKoMr6iCY6dP92H6Vw/oTyICIthibxjm/DfN9lVz8IqtqKYLUXfoKVMVQVVJOElGjrnnUt9T9wbgp8AyYKaGlqingHZU/uG2NTZSVqwHQTWkx9hxjkpWDaCg6Ckj5qebgBVbT3V3NNXMSiWSDdGV3hrtzla7J+duwPOToIg42ChPQOQjspnSlp1V+Gjdged7+8UN5CRAV7a5EdFNwCjEaBR27b3W890TE7g24NAP/mMDXRWrGoFPQI9ls/MWO2dWFAar/xcOIImbbpA3zgAAAABJRU5ErkJggg==);\n",
       "        }\n",
       "    </style>\n",
       "    <div>\n",
       "        <a href=\"https://bokeh.org\" target=\"_blank\" class=\"bk-notebook-logo\"></a>\n",
       "        <span id=\"aea65535-d266-4434-a6f9-1ad447ec538a\">Loading BokehJS ...</span>\n",
       "    </div>\n"
      ]
     },
     "metadata": {},
     "output_type": "display_data"
    },
    {
     "data": {
      "application/javascript": [
       "(function(root) {\n",
       "  function now() {\n",
       "    return new Date();\n",
       "  }\n",
       "\n",
       "  const force = true;\n",
       "\n",
       "  if (typeof root._bokeh_onload_callbacks === \"undefined\" || force === true) {\n",
       "    root._bokeh_onload_callbacks = [];\n",
       "    root._bokeh_is_loading = undefined;\n",
       "  }\n",
       "\n",
       "const JS_MIME_TYPE = 'application/javascript';\n",
       "  const HTML_MIME_TYPE = 'text/html';\n",
       "  const EXEC_MIME_TYPE = 'application/vnd.bokehjs_exec.v0+json';\n",
       "  const CLASS_NAME = 'output_bokeh rendered_html';\n",
       "\n",
       "  /**\n",
       "   * Render data to the DOM node\n",
       "   */\n",
       "  function render(props, node) {\n",
       "    const script = document.createElement(\"script\");\n",
       "    node.appendChild(script);\n",
       "  }\n",
       "\n",
       "  /**\n",
       "   * Handle when an output is cleared or removed\n",
       "   */\n",
       "  function handleClearOutput(event, handle) {\n",
       "    const cell = handle.cell;\n",
       "\n",
       "    const id = cell.output_area._bokeh_element_id;\n",
       "    const server_id = cell.output_area._bokeh_server_id;\n",
       "    // Clean up Bokeh references\n",
       "    if (id != null && id in Bokeh.index) {\n",
       "      Bokeh.index[id].model.document.clear();\n",
       "      delete Bokeh.index[id];\n",
       "    }\n",
       "\n",
       "    if (server_id !== undefined) {\n",
       "      // Clean up Bokeh references\n",
       "      const cmd_clean = \"from bokeh.io.state import curstate; print(curstate().uuid_to_server['\" + server_id + \"'].get_sessions()[0].document.roots[0]._id)\";\n",
       "      cell.notebook.kernel.execute(cmd_clean, {\n",
       "        iopub: {\n",
       "          output: function(msg) {\n",
       "            const id = msg.content.text.trim();\n",
       "            if (id in Bokeh.index) {\n",
       "              Bokeh.index[id].model.document.clear();\n",
       "              delete Bokeh.index[id];\n",
       "            }\n",
       "          }\n",
       "        }\n",
       "      });\n",
       "      // Destroy server and session\n",
       "      const cmd_destroy = \"import bokeh.io.notebook as ion; ion.destroy_server('\" + server_id + \"')\";\n",
       "      cell.notebook.kernel.execute(cmd_destroy);\n",
       "    }\n",
       "  }\n",
       "\n",
       "  /**\n",
       "   * Handle when a new output is added\n",
       "   */\n",
       "  function handleAddOutput(event, handle) {\n",
       "    const output_area = handle.output_area;\n",
       "    const output = handle.output;\n",
       "\n",
       "    // limit handleAddOutput to display_data with EXEC_MIME_TYPE content only\n",
       "    if ((output.output_type != \"display_data\") || (!Object.prototype.hasOwnProperty.call(output.data, EXEC_MIME_TYPE))) {\n",
       "      return\n",
       "    }\n",
       "\n",
       "    const toinsert = output_area.element.find(\".\" + CLASS_NAME.split(' ')[0]);\n",
       "\n",
       "    if (output.metadata[EXEC_MIME_TYPE][\"id\"] !== undefined) {\n",
       "      toinsert[toinsert.length - 1].firstChild.textContent = output.data[JS_MIME_TYPE];\n",
       "      // store reference to embed id on output_area\n",
       "      output_area._bokeh_element_id = output.metadata[EXEC_MIME_TYPE][\"id\"];\n",
       "    }\n",
       "    if (output.metadata[EXEC_MIME_TYPE][\"server_id\"] !== undefined) {\n",
       "      const bk_div = document.createElement(\"div\");\n",
       "      bk_div.innerHTML = output.data[HTML_MIME_TYPE];\n",
       "      const script_attrs = bk_div.children[0].attributes;\n",
       "      for (let i = 0; i < script_attrs.length; i++) {\n",
       "        toinsert[toinsert.length - 1].firstChild.setAttribute(script_attrs[i].name, script_attrs[i].value);\n",
       "        toinsert[toinsert.length - 1].firstChild.textContent = bk_div.children[0].textContent\n",
       "      }\n",
       "      // store reference to server id on output_area\n",
       "      output_area._bokeh_server_id = output.metadata[EXEC_MIME_TYPE][\"server_id\"];\n",
       "    }\n",
       "  }\n",
       "\n",
       "  function register_renderer(events, OutputArea) {\n",
       "\n",
       "    function append_mime(data, metadata, element) {\n",
       "      // create a DOM node to render to\n",
       "      const toinsert = this.create_output_subarea(\n",
       "        metadata,\n",
       "        CLASS_NAME,\n",
       "        EXEC_MIME_TYPE\n",
       "      );\n",
       "      this.keyboard_manager.register_events(toinsert);\n",
       "      // Render to node\n",
       "      const props = {data: data, metadata: metadata[EXEC_MIME_TYPE]};\n",
       "      render(props, toinsert[toinsert.length - 1]);\n",
       "      element.append(toinsert);\n",
       "      return toinsert\n",
       "    }\n",
       "\n",
       "    /* Handle when an output is cleared or removed */\n",
       "    events.on('clear_output.CodeCell', handleClearOutput);\n",
       "    events.on('delete.Cell', handleClearOutput);\n",
       "\n",
       "    /* Handle when a new output is added */\n",
       "    events.on('output_added.OutputArea', handleAddOutput);\n",
       "\n",
       "    /**\n",
       "     * Register the mime type and append_mime function with output_area\n",
       "     */\n",
       "    OutputArea.prototype.register_mime_type(EXEC_MIME_TYPE, append_mime, {\n",
       "      /* Is output safe? */\n",
       "      safe: true,\n",
       "      /* Index of renderer in `output_area.display_order` */\n",
       "      index: 0\n",
       "    });\n",
       "  }\n",
       "\n",
       "  // register the mime type if in Jupyter Notebook environment and previously unregistered\n",
       "  if (root.Jupyter !== undefined) {\n",
       "    const events = require('base/js/events');\n",
       "    const OutputArea = require('notebook/js/outputarea').OutputArea;\n",
       "\n",
       "    if (OutputArea.prototype.mime_types().indexOf(EXEC_MIME_TYPE) == -1) {\n",
       "      register_renderer(events, OutputArea);\n",
       "    }\n",
       "  }\n",
       "  if (typeof (root._bokeh_timeout) === \"undefined\" || force === true) {\n",
       "    root._bokeh_timeout = Date.now() + 5000;\n",
       "    root._bokeh_failed_load = false;\n",
       "  }\n",
       "\n",
       "  const NB_LOAD_WARNING = {'data': {'text/html':\n",
       "     \"<div style='background-color: #fdd'>\\n\"+\n",
       "     \"<p>\\n\"+\n",
       "     \"BokehJS does not appear to have successfully loaded. If loading BokehJS from CDN, this \\n\"+\n",
       "     \"may be due to a slow or bad network connection. Possible fixes:\\n\"+\n",
       "     \"</p>\\n\"+\n",
       "     \"<ul>\\n\"+\n",
       "     \"<li>re-rerun `output_notebook()` to attempt to load from CDN again, or</li>\\n\"+\n",
       "     \"<li>use INLINE resources instead, as so:</li>\\n\"+\n",
       "     \"</ul>\\n\"+\n",
       "     \"<code>\\n\"+\n",
       "     \"from bokeh.resources import INLINE\\n\"+\n",
       "     \"output_notebook(resources=INLINE)\\n\"+\n",
       "     \"</code>\\n\"+\n",
       "     \"</div>\"}};\n",
       "\n",
       "  function display_loaded() {\n",
       "    const el = document.getElementById(\"aea65535-d266-4434-a6f9-1ad447ec538a\");\n",
       "    if (el != null) {\n",
       "      el.textContent = \"BokehJS is loading...\";\n",
       "    }\n",
       "    if (root.Bokeh !== undefined) {\n",
       "      if (el != null) {\n",
       "        el.textContent = \"BokehJS \" + root.Bokeh.version + \" successfully loaded.\";\n",
       "      }\n",
       "    } else if (Date.now() < root._bokeh_timeout) {\n",
       "      setTimeout(display_loaded, 100)\n",
       "    }\n",
       "  }\n",
       "\n",
       "  function run_callbacks() {\n",
       "    try {\n",
       "      root._bokeh_onload_callbacks.forEach(function(callback) {\n",
       "        if (callback != null)\n",
       "          callback();\n",
       "      });\n",
       "    } finally {\n",
       "      delete root._bokeh_onload_callbacks\n",
       "    }\n",
       "    console.debug(\"Bokeh: all callbacks have finished\");\n",
       "  }\n",
       "\n",
       "  function load_libs(css_urls, js_urls, callback) {\n",
       "    if (css_urls == null) css_urls = [];\n",
       "    if (js_urls == null) js_urls = [];\n",
       "\n",
       "    root._bokeh_onload_callbacks.push(callback);\n",
       "    if (root._bokeh_is_loading > 0) {\n",
       "      console.debug(\"Bokeh: BokehJS is being loaded, scheduling callback at\", now());\n",
       "      return null;\n",
       "    }\n",
       "    if (js_urls == null || js_urls.length === 0) {\n",
       "      run_callbacks();\n",
       "      return null;\n",
       "    }\n",
       "    console.debug(\"Bokeh: BokehJS not loaded, scheduling load and callback at\", now());\n",
       "    root._bokeh_is_loading = css_urls.length + js_urls.length;\n",
       "\n",
       "    function on_load() {\n",
       "      root._bokeh_is_loading--;\n",
       "      if (root._bokeh_is_loading === 0) {\n",
       "        console.debug(\"Bokeh: all BokehJS libraries/stylesheets loaded\");\n",
       "        run_callbacks()\n",
       "      }\n",
       "    }\n",
       "\n",
       "    function on_error(url) {\n",
       "      console.error(\"failed to load \" + url);\n",
       "    }\n",
       "\n",
       "    for (let i = 0; i < css_urls.length; i++) {\n",
       "      const url = css_urls[i];\n",
       "      const element = document.createElement(\"link\");\n",
       "      element.onload = on_load;\n",
       "      element.onerror = on_error.bind(null, url);\n",
       "      element.rel = \"stylesheet\";\n",
       "      element.type = \"text/css\";\n",
       "      element.href = url;\n",
       "      console.debug(\"Bokeh: injecting link tag for BokehJS stylesheet: \", url);\n",
       "      document.body.appendChild(element);\n",
       "    }\n",
       "\n",
       "    for (let i = 0; i < js_urls.length; i++) {\n",
       "      const url = js_urls[i];\n",
       "      const element = document.createElement('script');\n",
       "      element.onload = on_load;\n",
       "      element.onerror = on_error.bind(null, url);\n",
       "      element.async = false;\n",
       "      element.src = url;\n",
       "      console.debug(\"Bokeh: injecting script tag for BokehJS library: \", url);\n",
       "      document.head.appendChild(element);\n",
       "    }\n",
       "  };\n",
       "\n",
       "  function inject_raw_css(css) {\n",
       "    const element = document.createElement(\"style\");\n",
       "    element.appendChild(document.createTextNode(css));\n",
       "    document.body.appendChild(element);\n",
       "  }\n",
       "\n",
       "  const js_urls = [\"https://cdn.bokeh.org/bokeh/release/bokeh-3.1.1.min.js\", \"https://cdn.bokeh.org/bokeh/release/bokeh-gl-3.1.1.min.js\", \"https://cdn.bokeh.org/bokeh/release/bokeh-widgets-3.1.1.min.js\", \"https://cdn.bokeh.org/bokeh/release/bokeh-tables-3.1.1.min.js\", \"https://cdn.bokeh.org/bokeh/release/bokeh-mathjax-3.1.1.min.js\"];\n",
       "  const css_urls = [];\n",
       "\n",
       "  const inline_js = [    function(Bokeh) {\n",
       "      Bokeh.set_log_level(\"info\");\n",
       "    },\n",
       "function(Bokeh) {\n",
       "    }\n",
       "  ];\n",
       "\n",
       "  function run_inline_js() {\n",
       "    if (root.Bokeh !== undefined || force === true) {\n",
       "          for (let i = 0; i < inline_js.length; i++) {\n",
       "      inline_js[i].call(root, root.Bokeh);\n",
       "    }\n",
       "if (force === true) {\n",
       "        display_loaded();\n",
       "      }} else if (Date.now() < root._bokeh_timeout) {\n",
       "      setTimeout(run_inline_js, 100);\n",
       "    } else if (!root._bokeh_failed_load) {\n",
       "      console.log(\"Bokeh: BokehJS failed to load within specified timeout.\");\n",
       "      root._bokeh_failed_load = true;\n",
       "    } else if (force !== true) {\n",
       "      const cell = $(document.getElementById(\"aea65535-d266-4434-a6f9-1ad447ec538a\")).parents('.cell').data().cell;\n",
       "      cell.output_area.append_execute_result(NB_LOAD_WARNING)\n",
       "    }\n",
       "  }\n",
       "\n",
       "  if (root._bokeh_is_loading === 0) {\n",
       "    console.debug(\"Bokeh: BokehJS loaded, going straight to plotting\");\n",
       "    run_inline_js();\n",
       "  } else {\n",
       "    load_libs(css_urls, js_urls, function() {\n",
       "      console.debug(\"Bokeh: BokehJS plotting callback run at\", now());\n",
       "      run_inline_js();\n",
       "    });\n",
       "  }\n",
       "}(window));"
      ],
      "application/vnd.bokehjs_load.v0+json": "(function(root) {\n  function now() {\n    return new Date();\n  }\n\n  const force = true;\n\n  if (typeof root._bokeh_onload_callbacks === \"undefined\" || force === true) {\n    root._bokeh_onload_callbacks = [];\n    root._bokeh_is_loading = undefined;\n  }\n\n\n  if (typeof (root._bokeh_timeout) === \"undefined\" || force === true) {\n    root._bokeh_timeout = Date.now() + 5000;\n    root._bokeh_failed_load = false;\n  }\n\n  const NB_LOAD_WARNING = {'data': {'text/html':\n     \"<div style='background-color: #fdd'>\\n\"+\n     \"<p>\\n\"+\n     \"BokehJS does not appear to have successfully loaded. If loading BokehJS from CDN, this \\n\"+\n     \"may be due to a slow or bad network connection. Possible fixes:\\n\"+\n     \"</p>\\n\"+\n     \"<ul>\\n\"+\n     \"<li>re-rerun `output_notebook()` to attempt to load from CDN again, or</li>\\n\"+\n     \"<li>use INLINE resources instead, as so:</li>\\n\"+\n     \"</ul>\\n\"+\n     \"<code>\\n\"+\n     \"from bokeh.resources import INLINE\\n\"+\n     \"output_notebook(resources=INLINE)\\n\"+\n     \"</code>\\n\"+\n     \"</div>\"}};\n\n  function display_loaded() {\n    const el = document.getElementById(\"aea65535-d266-4434-a6f9-1ad447ec538a\");\n    if (el != null) {\n      el.textContent = \"BokehJS is loading...\";\n    }\n    if (root.Bokeh !== undefined) {\n      if (el != null) {\n        el.textContent = \"BokehJS \" + root.Bokeh.version + \" successfully loaded.\";\n      }\n    } else if (Date.now() < root._bokeh_timeout) {\n      setTimeout(display_loaded, 100)\n    }\n  }\n\n  function run_callbacks() {\n    try {\n      root._bokeh_onload_callbacks.forEach(function(callback) {\n        if (callback != null)\n          callback();\n      });\n    } finally {\n      delete root._bokeh_onload_callbacks\n    }\n    console.debug(\"Bokeh: all callbacks have finished\");\n  }\n\n  function load_libs(css_urls, js_urls, callback) {\n    if (css_urls == null) css_urls = [];\n    if (js_urls == null) js_urls = [];\n\n    root._bokeh_onload_callbacks.push(callback);\n    if (root._bokeh_is_loading > 0) {\n      console.debug(\"Bokeh: BokehJS is being loaded, scheduling callback at\", now());\n      return null;\n    }\n    if (js_urls == null || js_urls.length === 0) {\n      run_callbacks();\n      return null;\n    }\n    console.debug(\"Bokeh: BokehJS not loaded, scheduling load and callback at\", now());\n    root._bokeh_is_loading = css_urls.length + js_urls.length;\n\n    function on_load() {\n      root._bokeh_is_loading--;\n      if (root._bokeh_is_loading === 0) {\n        console.debug(\"Bokeh: all BokehJS libraries/stylesheets loaded\");\n        run_callbacks()\n      }\n    }\n\n    function on_error(url) {\n      console.error(\"failed to load \" + url);\n    }\n\n    for (let i = 0; i < css_urls.length; i++) {\n      const url = css_urls[i];\n      const element = document.createElement(\"link\");\n      element.onload = on_load;\n      element.onerror = on_error.bind(null, url);\n      element.rel = \"stylesheet\";\n      element.type = \"text/css\";\n      element.href = url;\n      console.debug(\"Bokeh: injecting link tag for BokehJS stylesheet: \", url);\n      document.body.appendChild(element);\n    }\n\n    for (let i = 0; i < js_urls.length; i++) {\n      const url = js_urls[i];\n      const element = document.createElement('script');\n      element.onload = on_load;\n      element.onerror = on_error.bind(null, url);\n      element.async = false;\n      element.src = url;\n      console.debug(\"Bokeh: injecting script tag for BokehJS library: \", url);\n      document.head.appendChild(element);\n    }\n  };\n\n  function inject_raw_css(css) {\n    const element = document.createElement(\"style\");\n    element.appendChild(document.createTextNode(css));\n    document.body.appendChild(element);\n  }\n\n  const js_urls = [\"https://cdn.bokeh.org/bokeh/release/bokeh-3.1.1.min.js\", \"https://cdn.bokeh.org/bokeh/release/bokeh-gl-3.1.1.min.js\", \"https://cdn.bokeh.org/bokeh/release/bokeh-widgets-3.1.1.min.js\", \"https://cdn.bokeh.org/bokeh/release/bokeh-tables-3.1.1.min.js\", \"https://cdn.bokeh.org/bokeh/release/bokeh-mathjax-3.1.1.min.js\"];\n  const css_urls = [];\n\n  const inline_js = [    function(Bokeh) {\n      Bokeh.set_log_level(\"info\");\n    },\nfunction(Bokeh) {\n    }\n  ];\n\n  function run_inline_js() {\n    if (root.Bokeh !== undefined || force === true) {\n          for (let i = 0; i < inline_js.length; i++) {\n      inline_js[i].call(root, root.Bokeh);\n    }\nif (force === true) {\n        display_loaded();\n      }} else if (Date.now() < root._bokeh_timeout) {\n      setTimeout(run_inline_js, 100);\n    } else if (!root._bokeh_failed_load) {\n      console.log(\"Bokeh: BokehJS failed to load within specified timeout.\");\n      root._bokeh_failed_load = true;\n    } else if (force !== true) {\n      const cell = $(document.getElementById(\"aea65535-d266-4434-a6f9-1ad447ec538a\")).parents('.cell').data().cell;\n      cell.output_area.append_execute_result(NB_LOAD_WARNING)\n    }\n  }\n\n  if (root._bokeh_is_loading === 0) {\n    console.debug(\"Bokeh: BokehJS loaded, going straight to plotting\");\n    run_inline_js();\n  } else {\n    load_libs(css_urls, js_urls, function() {\n      console.debug(\"Bokeh: BokehJS plotting callback run at\", now());\n      run_inline_js();\n    });\n  }\n}(window));"
     },
     "metadata": {},
     "output_type": "display_data"
    },
    {
     "data": {
      "text/html": [
       "\n",
       "  <div id=\"bec7febd-ed9f-488b-ac21-5de41358462e\" data-root-id=\"p4964\" style=\"display: contents;\"></div>\n"
      ]
     },
     "metadata": {},
     "output_type": "display_data"
    },
    {
     "data": {
      "application/javascript": [
       "(function(root) {\n",
       "  function embed_document(root) {\n",
       "  const docs_json = {\"76860224-5f70-4804-bbdd-681799da7fb9\":{\"version\":\"3.1.1\",\"title\":\"Bokeh Application\",\"defs\":[],\"roots\":[{\"type\":\"object\",\"name\":\"Figure\",\"id\":\"p4964\",\"attributes\":{\"x_range\":{\"type\":\"object\",\"name\":\"DataRange1d\",\"id\":\"p4966\"},\"y_range\":{\"type\":\"object\",\"name\":\"DataRange1d\",\"id\":\"p4965\"},\"x_scale\":{\"type\":\"object\",\"name\":\"LinearScale\",\"id\":\"p4978\"},\"y_scale\":{\"type\":\"object\",\"name\":\"LinearScale\",\"id\":\"p4980\"},\"extra_y_ranges\":{\"type\":\"map\",\"entries\":[[\"size\",{\"type\":\"object\",\"name\":\"Range1d\",\"id\":\"p5066\",\"attributes\":{\"end\":200}}]]},\"title\":{\"type\":\"object\",\"name\":\"Title\",\"id\":\"p4967\",\"attributes\":{\"text\":\"Store Size vs Sales\"}},\"renderers\":[{\"type\":\"object\",\"name\":\"GlyphRenderer\",\"id\":\"p5021\",\"attributes\":{\"data_source\":{\"type\":\"object\",\"name\":\"ColumnDataSource\",\"id\":\"p5011\",\"attributes\":{\"selected\":{\"type\":\"object\",\"name\":\"Selection\",\"id\":\"p5012\",\"attributes\":{\"indices\":[],\"line_indices\":[]}},\"selection_policy\":{\"type\":\"object\",\"name\":\"UnionRenderers\",\"id\":\"p5013\"},\"data\":{\"type\":\"map\",\"entries\":[[\"index\",{\"type\":\"ndarray\",\"array\":{\"type\":\"bytes\",\"data\":\"AAAAAAEAAAACAAAAAwAAAAQAAAA=\"},\"shape\":[5],\"dtype\":\"int32\",\"order\":\"little\"}],[\"size\",{\"type\":\"ndarray\",\"array\":{\"type\":\"bytes\",\"data\":\"MgAAAFAAAABkAAAAPAAAAHgAAAA=\"},\"shape\":[5],\"dtype\":\"int32\",\"order\":\"little\"}],[\"sales1\",{\"type\":\"ndarray\",\"array\":{\"type\":\"bytes\",\"data\":\"qGEAAOiAAABIcQAAYG0AAIiQAAA=\"},\"shape\":[5],\"dtype\":\"int32\",\"order\":\"little\"}],[\"sales2\",{\"type\":\"ndarray\",\"array\":{\"type\":\"bytes\",\"data\":\"IE4AAAhSAABQRgAA8FUAAKhhAAA=\"},\"shape\":[5],\"dtype\":\"int32\",\"order\":\"little\"}]]}}},\"view\":{\"type\":\"object\",\"name\":\"CDSView\",\"id\":\"p5022\",\"attributes\":{\"filter\":{\"type\":\"object\",\"name\":\"AllIndices\",\"id\":\"p5023\"}}},\"glyph\":{\"type\":\"object\",\"name\":\"Rect\",\"id\":\"p5017\",\"attributes\":{\"x\":{\"type\":\"field\",\"field\":\"size\"},\"y\":{\"type\":\"field\",\"field\":\"sales1\"},\"width\":{\"type\":\"value\",\"value\":5},\"height\":{\"type\":\"value\",\"value\":5},\"line_color\":{\"type\":\"value\",\"value\":\"#2b83ba\"},\"fill_color\":{\"type\":\"value\",\"value\":\"#2b83ba\"},\"hatch_color\":{\"type\":\"value\",\"value\":\"#2b83ba\"}}},\"nonselection_glyph\":{\"type\":\"object\",\"name\":\"Rect\",\"id\":\"p5018\",\"attributes\":{\"x\":{\"type\":\"field\",\"field\":\"size\"},\"y\":{\"type\":\"field\",\"field\":\"sales1\"},\"width\":{\"type\":\"value\",\"value\":5},\"height\":{\"type\":\"value\",\"value\":5},\"line_color\":{\"type\":\"value\",\"value\":\"#2b83ba\"},\"line_alpha\":{\"type\":\"value\",\"value\":0.1},\"fill_color\":{\"type\":\"value\",\"value\":\"#2b83ba\"},\"fill_alpha\":{\"type\":\"value\",\"value\":0.1},\"hatch_color\":{\"type\":\"value\",\"value\":\"#2b83ba\"},\"hatch_alpha\":{\"type\":\"value\",\"value\":0.1}}},\"hover_glyph\":{\"type\":\"object\",\"name\":\"Rect\",\"id\":\"p5019\",\"attributes\":{\"x\":{\"type\":\"field\",\"field\":\"size\"},\"y\":{\"type\":\"field\",\"field\":\"sales1\"},\"width\":{\"type\":\"value\",\"value\":5},\"height\":{\"type\":\"value\",\"value\":5},\"line_color\":{\"type\":\"value\",\"value\":\"white\"},\"line_alpha\":{\"type\":\"value\",\"value\":0.8},\"fill_color\":{\"type\":\"value\",\"value\":\"white\"},\"fill_alpha\":{\"type\":\"value\",\"value\":0.8},\"hatch_color\":{\"type\":\"value\",\"value\":\"white\"},\"hatch_alpha\":{\"type\":\"value\",\"value\":0.8}}},\"muted_glyph\":{\"type\":\"object\",\"name\":\"Rect\",\"id\":\"p5020\",\"attributes\":{\"x\":{\"type\":\"field\",\"field\":\"size\"},\"y\":{\"type\":\"field\",\"field\":\"sales1\"},\"width\":{\"type\":\"value\",\"value\":5},\"height\":{\"type\":\"value\",\"value\":5},\"line_color\":{\"type\":\"value\",\"value\":\"#2b83ba\"},\"line_alpha\":{\"type\":\"value\",\"value\":0.2},\"fill_color\":{\"type\":\"value\",\"value\":\"#2b83ba\"},\"fill_alpha\":{\"type\":\"value\",\"value\":0.2},\"hatch_color\":{\"type\":\"value\",\"value\":\"#2b83ba\"},\"hatch_alpha\":{\"type\":\"value\",\"value\":0.2}}}}},{\"type\":\"object\",\"name\":\"GlyphRenderer\",\"id\":\"p5034\",\"attributes\":{\"data_source\":{\"type\":\"object\",\"name\":\"ColumnDataSource\",\"id\":\"p5024\",\"attributes\":{\"selected\":{\"type\":\"object\",\"name\":\"Selection\",\"id\":\"p5025\",\"attributes\":{\"indices\":[],\"line_indices\":[]}},\"selection_policy\":{\"type\":\"object\",\"name\":\"UnionRenderers\",\"id\":\"p5026\"},\"data\":{\"type\":\"map\",\"entries\":[[\"index\",{\"type\":\"ndarray\",\"array\":{\"type\":\"bytes\",\"data\":\"AAAAAAEAAAACAAAAAwAAAAQAAAA=\"},\"shape\":[5],\"dtype\":\"int32\",\"order\":\"little\"}],[\"size\",{\"type\":\"ndarray\",\"array\":{\"type\":\"bytes\",\"data\":\"MgAAAFAAAABkAAAAPAAAAHgAAAA=\"},\"shape\":[5],\"dtype\":\"int32\",\"order\":\"little\"}],[\"sales1\",{\"type\":\"ndarray\",\"array\":{\"type\":\"bytes\",\"data\":\"qGEAAOiAAABIcQAAYG0AAIiQAAA=\"},\"shape\":[5],\"dtype\":\"int32\",\"order\":\"little\"}],[\"sales2\",{\"type\":\"ndarray\",\"array\":{\"type\":\"bytes\",\"data\":\"IE4AAAhSAABQRgAA8FUAAKhhAAA=\"},\"shape\":[5],\"dtype\":\"int32\",\"order\":\"little\"}]]}}},\"view\":{\"type\":\"object\",\"name\":\"CDSView\",\"id\":\"p5035\",\"attributes\":{\"filter\":{\"type\":\"object\",\"name\":\"AllIndices\",\"id\":\"p5036\"}}},\"glyph\":{\"type\":\"object\",\"name\":\"Rect\",\"id\":\"p5030\",\"attributes\":{\"x\":{\"type\":\"field\",\"field\":\"size\"},\"y\":{\"type\":\"field\",\"field\":\"sales2\"},\"width\":{\"type\":\"value\",\"value\":5},\"height\":{\"type\":\"value\",\"value\":5},\"line_color\":{\"type\":\"value\",\"value\":\"#ffffbf\"},\"fill_color\":{\"type\":\"value\",\"value\":\"#ffffbf\"},\"hatch_color\":{\"type\":\"value\",\"value\":\"#ffffbf\"}}},\"nonselection_glyph\":{\"type\":\"object\",\"name\":\"Rect\",\"id\":\"p5031\",\"attributes\":{\"x\":{\"type\":\"field\",\"field\":\"size\"},\"y\":{\"type\":\"field\",\"field\":\"sales2\"},\"width\":{\"type\":\"value\",\"value\":5},\"height\":{\"type\":\"value\",\"value\":5},\"line_color\":{\"type\":\"value\",\"value\":\"#ffffbf\"},\"line_alpha\":{\"type\":\"value\",\"value\":0.1},\"fill_color\":{\"type\":\"value\",\"value\":\"#ffffbf\"},\"fill_alpha\":{\"type\":\"value\",\"value\":0.1},\"hatch_color\":{\"type\":\"value\",\"value\":\"#ffffbf\"},\"hatch_alpha\":{\"type\":\"value\",\"value\":0.1}}},\"hover_glyph\":{\"type\":\"object\",\"name\":\"Rect\",\"id\":\"p5032\",\"attributes\":{\"x\":{\"type\":\"field\",\"field\":\"size\"},\"y\":{\"type\":\"field\",\"field\":\"sales2\"},\"width\":{\"type\":\"value\",\"value\":5},\"height\":{\"type\":\"value\",\"value\":5},\"line_color\":{\"type\":\"value\",\"value\":\"white\"},\"line_alpha\":{\"type\":\"value\",\"value\":0.8},\"fill_color\":{\"type\":\"value\",\"value\":\"white\"},\"fill_alpha\":{\"type\":\"value\",\"value\":0.8},\"hatch_color\":{\"type\":\"value\",\"value\":\"white\"},\"hatch_alpha\":{\"type\":\"value\",\"value\":0.8}}},\"muted_glyph\":{\"type\":\"object\",\"name\":\"Rect\",\"id\":\"p5033\",\"attributes\":{\"x\":{\"type\":\"field\",\"field\":\"size\"},\"y\":{\"type\":\"field\",\"field\":\"sales2\"},\"width\":{\"type\":\"value\",\"value\":5},\"height\":{\"type\":\"value\",\"value\":5},\"line_color\":{\"type\":\"value\",\"value\":\"#ffffbf\"},\"line_alpha\":{\"type\":\"value\",\"value\":0.2},\"fill_color\":{\"type\":\"value\",\"value\":\"#ffffbf\"},\"fill_alpha\":{\"type\":\"value\",\"value\":0.2},\"hatch_color\":{\"type\":\"value\",\"value\":\"#ffffbf\"},\"hatch_alpha\":{\"type\":\"value\",\"value\":0.2}}}}},{\"type\":\"object\",\"name\":\"GlyphRenderer\",\"id\":\"p5048\",\"attributes\":{\"data_source\":{\"type\":\"object\",\"name\":\"ColumnDataSource\",\"id\":\"p5039\",\"attributes\":{\"selected\":{\"type\":\"object\",\"name\":\"Selection\",\"id\":\"p5040\",\"attributes\":{\"indices\":[],\"line_indices\":[]}},\"selection_policy\":{\"type\":\"object\",\"name\":\"UnionRenderers\",\"id\":\"p5041\"},\"data\":{\"type\":\"map\",\"entries\":[[\"index\",{\"type\":\"ndarray\",\"array\":{\"type\":\"bytes\",\"data\":\"AAAAAAEAAAACAAAAAwAAAAQAAAA=\"},\"shape\":[5],\"dtype\":\"int32\",\"order\":\"little\"}],[\"size\",{\"type\":\"ndarray\",\"array\":{\"type\":\"bytes\",\"data\":\"MgAAAFAAAABkAAAAPAAAAHgAAAA=\"},\"shape\":[5],\"dtype\":\"int32\",\"order\":\"little\"}],[\"sales1\",{\"type\":\"ndarray\",\"array\":{\"type\":\"bytes\",\"data\":\"qGEAAOiAAABIcQAAYG0AAIiQAAA=\"},\"shape\":[5],\"dtype\":\"int32\",\"order\":\"little\"}],[\"sales2\",{\"type\":\"ndarray\",\"array\":{\"type\":\"bytes\",\"data\":\"IE4AAAhSAABQRgAA8FUAAKhhAAA=\"},\"shape\":[5],\"dtype\":\"int32\",\"order\":\"little\"}],[\"market_size\",{\"type\":\"ndarray\",\"array\":[\"Small\",\"Medium\",\"Medium\",\"Medium\",\"Large\"],\"shape\":[5],\"dtype\":\"object\",\"order\":\"little\"}]]}}},\"view\":{\"type\":\"object\",\"name\":\"CDSView\",\"id\":\"p5049\",\"attributes\":{\"filter\":{\"type\":\"object\",\"name\":\"AllIndices\",\"id\":\"p5050\"}}},\"glyph\":{\"type\":\"object\",\"name\":\"Rect\",\"id\":\"p5045\",\"attributes\":{\"x\":{\"type\":\"field\",\"field\":\"size\"},\"y\":{\"type\":\"field\",\"field\":\"sales1\"},\"width\":{\"type\":\"value\",\"value\":10},\"height\":{\"type\":\"value\",\"value\":3000},\"line_color\":{\"type\":\"value\",\"value\":\"#2b83ba\"},\"line_alpha\":{\"type\":\"value\",\"value\":0.8},\"fill_color\":{\"type\":\"value\",\"value\":\"#2b83ba\"},\"fill_alpha\":{\"type\":\"value\",\"value\":0.8},\"hatch_color\":{\"type\":\"value\",\"value\":\"#2b83ba\"},\"hatch_alpha\":{\"type\":\"value\",\"value\":0.8}}},\"nonselection_glyph\":{\"type\":\"object\",\"name\":\"Rect\",\"id\":\"p5046\",\"attributes\":{\"x\":{\"type\":\"field\",\"field\":\"size\"},\"y\":{\"type\":\"field\",\"field\":\"sales1\"},\"width\":{\"type\":\"value\",\"value\":10},\"height\":{\"type\":\"value\",\"value\":3000},\"line_color\":{\"type\":\"value\",\"value\":\"#2b83ba\"},\"line_alpha\":{\"type\":\"value\",\"value\":0.1},\"fill_color\":{\"type\":\"value\",\"value\":\"#2b83ba\"},\"fill_alpha\":{\"type\":\"value\",\"value\":0.1},\"hatch_color\":{\"type\":\"value\",\"value\":\"#2b83ba\"},\"hatch_alpha\":{\"type\":\"value\",\"value\":0.1}}},\"muted_glyph\":{\"type\":\"object\",\"name\":\"Rect\",\"id\":\"p5047\",\"attributes\":{\"x\":{\"type\":\"field\",\"field\":\"size\"},\"y\":{\"type\":\"field\",\"field\":\"sales1\"},\"width\":{\"type\":\"value\",\"value\":10},\"height\":{\"type\":\"value\",\"value\":3000},\"line_color\":{\"type\":\"value\",\"value\":\"#2b83ba\"},\"line_alpha\":{\"type\":\"value\",\"value\":0.2},\"fill_color\":{\"type\":\"value\",\"value\":\"#2b83ba\"},\"fill_alpha\":{\"type\":\"value\",\"value\":0.2},\"hatch_color\":{\"type\":\"value\",\"value\":\"#2b83ba\"},\"hatch_alpha\":{\"type\":\"value\",\"value\":0.2}}}}},{\"type\":\"object\",\"name\":\"GlyphRenderer\",\"id\":\"p5062\",\"attributes\":{\"data_source\":{\"type\":\"object\",\"name\":\"ColumnDataSource\",\"id\":\"p5053\",\"attributes\":{\"selected\":{\"type\":\"object\",\"name\":\"Selection\",\"id\":\"p5054\",\"attributes\":{\"indices\":[],\"line_indices\":[]}},\"selection_policy\":{\"type\":\"object\",\"name\":\"UnionRenderers\",\"id\":\"p5055\"},\"data\":{\"type\":\"map\",\"entries\":[[\"index\",{\"type\":\"ndarray\",\"array\":{\"type\":\"bytes\",\"data\":\"AAAAAAEAAAACAAAAAwAAAAQAAAA=\"},\"shape\":[5],\"dtype\":\"int32\",\"order\":\"little\"}],[\"size\",{\"type\":\"ndarray\",\"array\":{\"type\":\"bytes\",\"data\":\"MgAAAFAAAABkAAAAPAAAAHgAAAA=\"},\"shape\":[5],\"dtype\":\"int32\",\"order\":\"little\"}],[\"sales1\",{\"type\":\"ndarray\",\"array\":{\"type\":\"bytes\",\"data\":\"qGEAAOiAAABIcQAAYG0AAIiQAAA=\"},\"shape\":[5],\"dtype\":\"int32\",\"order\":\"little\"}],[\"sales2\",{\"type\":\"ndarray\",\"array\":{\"type\":\"bytes\",\"data\":\"IE4AAAhSAABQRgAA8FUAAKhhAAA=\"},\"shape\":[5],\"dtype\":\"int32\",\"order\":\"little\"}],[\"market_size\",{\"type\":\"ndarray\",\"array\":[\"Small\",\"Medium\",\"Medium\",\"Medium\",\"Large\"],\"shape\":[5],\"dtype\":\"object\",\"order\":\"little\"}]]}}},\"view\":{\"type\":\"object\",\"name\":\"CDSView\",\"id\":\"p5063\",\"attributes\":{\"filter\":{\"type\":\"object\",\"name\":\"AllIndices\",\"id\":\"p5064\"}}},\"glyph\":{\"type\":\"object\",\"name\":\"Rect\",\"id\":\"p5059\",\"attributes\":{\"x\":{\"type\":\"field\",\"field\":\"size\"},\"y\":{\"type\":\"field\",\"field\":\"sales2\"},\"width\":{\"type\":\"value\",\"value\":10},\"height\":{\"type\":\"value\",\"value\":3000},\"line_color\":{\"type\":\"value\",\"value\":\"#ffffbf\"},\"line_alpha\":{\"type\":\"value\",\"value\":0.8},\"fill_color\":{\"type\":\"value\",\"value\":\"#ffffbf\"},\"fill_alpha\":{\"type\":\"value\",\"value\":0.8},\"hatch_color\":{\"type\":\"value\",\"value\":\"#ffffbf\"},\"hatch_alpha\":{\"type\":\"value\",\"value\":0.8}}},\"nonselection_glyph\":{\"type\":\"object\",\"name\":\"Rect\",\"id\":\"p5060\",\"attributes\":{\"x\":{\"type\":\"field\",\"field\":\"size\"},\"y\":{\"type\":\"field\",\"field\":\"sales2\"},\"width\":{\"type\":\"value\",\"value\":10},\"height\":{\"type\":\"value\",\"value\":3000},\"line_color\":{\"type\":\"value\",\"value\":\"#ffffbf\"},\"line_alpha\":{\"type\":\"value\",\"value\":0.1},\"fill_color\":{\"type\":\"value\",\"value\":\"#ffffbf\"},\"fill_alpha\":{\"type\":\"value\",\"value\":0.1},\"hatch_color\":{\"type\":\"value\",\"value\":\"#ffffbf\"},\"hatch_alpha\":{\"type\":\"value\",\"value\":0.1}}},\"muted_glyph\":{\"type\":\"object\",\"name\":\"Rect\",\"id\":\"p5061\",\"attributes\":{\"x\":{\"type\":\"field\",\"field\":\"size\"},\"y\":{\"type\":\"field\",\"field\":\"sales2\"},\"width\":{\"type\":\"value\",\"value\":10},\"height\":{\"type\":\"value\",\"value\":3000},\"line_color\":{\"type\":\"value\",\"value\":\"#ffffbf\"},\"line_alpha\":{\"type\":\"value\",\"value\":0.2},\"fill_color\":{\"type\":\"value\",\"value\":\"#ffffbf\"},\"fill_alpha\":{\"type\":\"value\",\"value\":0.2},\"hatch_color\":{\"type\":\"value\",\"value\":\"#ffffbf\"},\"hatch_alpha\":{\"type\":\"value\",\"value\":0.2}}}}},{\"type\":\"object\",\"name\":\"GlyphRenderer\",\"id\":\"p5076\",\"attributes\":{\"y_range_name\":\"size\",\"data_source\":{\"type\":\"object\",\"name\":\"ColumnDataSource\",\"id\":\"p5067\",\"attributes\":{\"selected\":{\"type\":\"object\",\"name\":\"Selection\",\"id\":\"p5068\",\"attributes\":{\"indices\":[],\"line_indices\":[]}},\"selection_policy\":{\"type\":\"object\",\"name\":\"UnionRenderers\",\"id\":\"p5069\"},\"data\":{\"type\":\"map\",\"entries\":[[\"index\",{\"type\":\"ndarray\",\"array\":{\"type\":\"bytes\",\"data\":\"AAAAAAEAAAACAAAAAwAAAAQAAAA=\"},\"shape\":[5],\"dtype\":\"int32\",\"order\":\"little\"}],[\"size\",{\"type\":\"ndarray\",\"array\":{\"type\":\"bytes\",\"data\":\"MgAAAFAAAABkAAAAPAAAAHgAAAA=\"},\"shape\":[5],\"dtype\":\"int32\",\"order\":\"little\"}],[\"sales1\",{\"type\":\"ndarray\",\"array\":{\"type\":\"bytes\",\"data\":\"qGEAAOiAAABIcQAAYG0AAIiQAAA=\"},\"shape\":[5],\"dtype\":\"int32\",\"order\":\"little\"}],[\"sales2\",{\"type\":\"ndarray\",\"array\":{\"type\":\"bytes\",\"data\":\"IE4AAAhSAABQRgAA8FUAAKhhAAA=\"},\"shape\":[5],\"dtype\":\"int32\",\"order\":\"little\"}],[\"market_size\",{\"type\":\"ndarray\",\"array\":[\"Small\",\"Medium\",\"Medium\",\"Medium\",\"Large\"],\"shape\":[5],\"dtype\":\"object\",\"order\":\"little\"}]]}}},\"view\":{\"type\":\"object\",\"name\":\"CDSView\",\"id\":\"p5077\",\"attributes\":{\"filter\":{\"type\":\"object\",\"name\":\"AllIndices\",\"id\":\"p5078\"}}},\"glyph\":{\"type\":\"object\",\"name\":\"Circle\",\"id\":\"p5073\",\"attributes\":{\"x\":{\"type\":\"field\",\"field\":\"size\"},\"y\":{\"type\":\"field\",\"field\":\"market_size\"},\"size\":{\"type\":\"value\",\"value\":10},\"fill_color\":{\"type\":\"value\",\"value\":\"black\"}}},\"nonselection_glyph\":{\"type\":\"object\",\"name\":\"Circle\",\"id\":\"p5074\",\"attributes\":{\"x\":{\"type\":\"field\",\"field\":\"size\"},\"y\":{\"type\":\"field\",\"field\":\"market_size\"},\"size\":{\"type\":\"value\",\"value\":10},\"line_alpha\":{\"type\":\"value\",\"value\":0.1},\"fill_color\":{\"type\":\"value\",\"value\":\"black\"},\"fill_alpha\":{\"type\":\"value\",\"value\":0.1},\"hatch_alpha\":{\"type\":\"value\",\"value\":0.1}}},\"muted_glyph\":{\"type\":\"object\",\"name\":\"Circle\",\"id\":\"p5075\",\"attributes\":{\"x\":{\"type\":\"field\",\"field\":\"size\"},\"y\":{\"type\":\"field\",\"field\":\"market_size\"},\"size\":{\"type\":\"value\",\"value\":10},\"line_alpha\":{\"type\":\"value\",\"value\":0.2},\"fill_color\":{\"type\":\"value\",\"value\":\"black\"},\"fill_alpha\":{\"type\":\"value\",\"value\":0.2},\"hatch_alpha\":{\"type\":\"value\",\"value\":0.2}}}}}],\"toolbar\":{\"type\":\"object\",\"name\":\"Toolbar\",\"id\":\"p4973\",\"attributes\":{\"tools\":[{\"type\":\"object\",\"name\":\"PanTool\",\"id\":\"p4996\"},{\"type\":\"object\",\"name\":\"WheelZoomTool\",\"id\":\"p4997\"},{\"type\":\"object\",\"name\":\"BoxZoomTool\",\"id\":\"p4998\",\"attributes\":{\"overlay\":{\"type\":\"object\",\"name\":\"BoxAnnotation\",\"id\":\"p4999\",\"attributes\":{\"syncable\":false,\"level\":\"overlay\",\"visible\":false,\"left_units\":\"canvas\",\"right_units\":\"canvas\",\"bottom_units\":\"canvas\",\"top_units\":\"canvas\",\"line_color\":\"black\",\"line_alpha\":1.0,\"line_width\":2,\"line_dash\":[4,4],\"fill_color\":\"lightgrey\",\"fill_alpha\":0.5}}}},{\"type\":\"object\",\"name\":\"SaveTool\",\"id\":\"p5000\"},{\"type\":\"object\",\"name\":\"ResetTool\",\"id\":\"p5001\"},{\"type\":\"object\",\"name\":\"HelpTool\",\"id\":\"p5002\"},{\"type\":\"object\",\"name\":\"HoverTool\",\"id\":\"p5037\",\"attributes\":{\"renderers\":\"auto\",\"tooltips\":[[\"Store\",\"@size\"],[\"Sales\",\"@sales1{0,0}\"],[\"Promotion\",\"1\"]]}}]}},\"left\":[{\"type\":\"object\",\"name\":\"LinearAxis\",\"id\":\"p4989\",\"attributes\":{\"ticker\":{\"type\":\"object\",\"name\":\"BasicTicker\",\"id\":\"p4991\",\"attributes\":{\"mantissas\":[1,2,5]}},\"formatter\":{\"type\":\"object\",\"name\":\"BasicTickFormatter\",\"id\":\"p4992\"},\"axis_label\":\"Sales\",\"major_label_policy\":{\"type\":\"object\",\"name\":\"AllLabels\",\"id\":\"p4990\"}}}],\"below\":[{\"type\":\"object\",\"name\":\"LinearAxis\",\"id\":\"p4982\",\"attributes\":{\"ticker\":{\"type\":\"object\",\"name\":\"BasicTicker\",\"id\":\"p4984\",\"attributes\":{\"mantissas\":[1,2,5]}},\"formatter\":{\"type\":\"object\",\"name\":\"BasicTickFormatter\",\"id\":\"p4985\"},\"axis_label\":\"Store Size\",\"major_label_policy\":{\"type\":\"object\",\"name\":\"AllLabels\",\"id\":\"p4983\"}}}],\"center\":[{\"type\":\"object\",\"name\":\"Grid\",\"id\":\"p4988\",\"attributes\":{\"axis\":{\"id\":\"p4982\"}}},{\"type\":\"object\",\"name\":\"Grid\",\"id\":\"p4995\",\"attributes\":{\"dimension\":1,\"axis\":{\"id\":\"p4989\"}}},{\"type\":\"object\",\"name\":\"Legend\",\"id\":\"p5051\",\"attributes\":{\"location\":\"top_left\",\"background_fill_alpha\":0.5,\"label_text_font_size\":\"8pt\",\"items\":[{\"type\":\"object\",\"name\":\"LegendItem\",\"id\":\"p5052\",\"attributes\":{\"label\":{\"type\":\"value\",\"value\":\"Promo1\"},\"renderers\":[{\"id\":\"p5048\"}]}},{\"type\":\"object\",\"name\":\"LegendItem\",\"id\":\"p5065\",\"attributes\":{\"label\":{\"type\":\"value\",\"value\":\"Promo2\"},\"renderers\":[{\"id\":\"p5062\"}]}},{\"type\":\"object\",\"name\":\"LegendItem\",\"id\":\"p5079\",\"attributes\":{\"label\":{\"type\":\"value\",\"value\":\"Market Size\"},\"renderers\":[{\"id\":\"p5076\"}]}}]}}]}}],\"callbacks\":{\"type\":\"map\"}}};\n",
       "  const render_items = [{\"docid\":\"76860224-5f70-4804-bbdd-681799da7fb9\",\"roots\":{\"p4964\":\"bec7febd-ed9f-488b-ac21-5de41358462e\"},\"root_ids\":[\"p4964\"]}];\n",
       "  root.Bokeh.embed.embed_items_notebook(docs_json, render_items);\n",
       "  }\n",
       "  if (root.Bokeh !== undefined) {\n",
       "    embed_document(root);\n",
       "  } else {\n",
       "    let attempts = 0;\n",
       "    const timer = setInterval(function(root) {\n",
       "      if (root.Bokeh !== undefined) {\n",
       "        clearInterval(timer);\n",
       "        embed_document(root);\n",
       "      } else {\n",
       "        attempts++;\n",
       "        if (attempts > 100) {\n",
       "          clearInterval(timer);\n",
       "          console.log(\"Bokeh: ERROR: Unable to run BokehJS code because BokehJS library is missing\");\n",
       "        }\n",
       "      }\n",
       "    }, 10, root)\n",
       "  }\n",
       "})(window);"
      ],
      "application/vnd.bokehjs_exec.v0+json": ""
     },
     "metadata": {
      "application/vnd.bokehjs_exec.v0+json": {
       "id": "p4964"
      }
     },
     "output_type": "display_data"
    }
   ],
   "source": [
    "# Data\n",
    "sizes = [50, 80, 100, 60, 120]\n",
    "sales1 = [25000, 33000, 29000, 28000, 37000]\n",
    "sales2 = [20000, 21000, 18000, 22000, 25000]\n",
    "\n",
    "df = pd.DataFrame({'size': sizes,\n",
    "                   'sales1': sales1,\n",
    "                   'sales2': sales2})\n",
    "\n",
    "# Create the Bokeh output in a Jupyter Notebook (if you're using Jupyter)\n",
    "output_notebook()\n",
    "\n",
    "# Create the figure\n",
    "p = figure(title='Store Size vs Sales',\n",
    "           x_axis_label='Store Size',\n",
    "           y_axis_label='Sales')\n",
    "\n",
    "# Add heatmap\n",
    "p.rect(x='size', y='sales1', width=5, height=5,\n",
    "       color=Spectral5[0], source=df,\n",
    "       hover_color='white', hover_alpha=0.8)\n",
    "\n",
    "p.rect(x='size', y='sales2', width=5, height=5,\n",
    "       color=Spectral5[2], source=df,\n",
    "       hover_color='white', hover_alpha=0.8)\n",
    "\n",
    "# Hover tool\n",
    "hover = HoverTool(tooltips=[\n",
    "    ('Store', '@size'),\n",
    "    ('Sales', '@sales1{0,0}'),\n",
    "    ('Promotion', '1')])\n",
    "\n",
    "p.add_tools(hover)\n",
    "\n",
    "# Create size category column\n",
    "df['market_size'] = 'Small'\n",
    "df.loc[df['size'] > 50, 'market_size'] = 'Medium'\n",
    "df.loc[df['size'] > 100, 'market_size'] = 'Large'\n",
    "\n",
    "# Define a color palette for the rectangles\n",
    "palette = [Spectral5[0], Spectral5[2]]\n",
    "\n",
    "# Plot rectangles\n",
    "p.rect(x='size', y='sales1', width=10, height=3000,\n",
    "       color=palette[0], alpha=0.8, legend_label='Promo1', source=df)\n",
    "\n",
    "p.rect(x='size', y='sales2', width=10, height=3000,\n",
    "       color=palette[1], alpha=0.8, legend_label='Promo2', source=df)\n",
    "\n",
    "# Add size legend\n",
    "p.extra_y_ranges = {'size': Range1d(start=0, end=200)}\n",
    "p.circle(x='size', y='market_size', color='black', size=10, y_range_name='size',\n",
    "         legend_label='Market Size', source=df)\n",
    "\n",
    "# Customize legend\n",
    "p.legend.location = 'top_left'\n",
    "p.legend.background_fill_alpha = 0.5\n",
    "p.legend.label_text_font_size = '8pt'\n",
    "\n",
    "# Show the interactive plot\n",
    "show(p)"
   ]
  },
  {
   "cell_type": "code",
   "execution_count": 17,
   "id": "07d366b1",
   "metadata": {},
   "outputs": [
    {
     "name": "stdout",
     "output_type": "stream",
     "text": [
      "RMSE: 7.9928953982837285\n",
      "R2: 0.7183445582381578\n"
     ]
    }
   ],
   "source": [
    "# Time series forecasting\n",
    "X = df['TotalSales'].values.reshape(-1,1)\n",
    "y = df['AvgWeeklySales'].values\n",
    "X_train, X_test, y_train, y_test = train_test_split(X, y, test_size=0.3, random_state=42)\n",
    "\n",
    "model = LinearRegression()\n",
    "model.fit(X_train, y_train)\n",
    "\n",
    "# Make predictions\n",
    "y_pred = model.predict(X_test)\n",
    "\n",
    "# Evaluate RMSE and R2\n",
    "rmse = np.sqrt(mean_squared_error(y_test, y_pred))\n",
    "r2 = r2_score(y_test, y_pred)\n",
    "\n",
    "print(f'RMSE: {rmse}')\n",
    "print(f'R2: {r2}')\n"
   ]
  },
  {
   "cell_type": "code",
   "execution_count": 28,
   "id": "7350c7be",
   "metadata": {},
   "outputs": [
    {
     "name": "stdout",
     "output_type": "stream",
     "text": [
      "Forecast Sales: [29.35384931 29.36092064 29.36799197 29.3750633 ]\n"
     ]
    }
   ],
   "source": [
    "# Forecast future weeks\n",
    "future_weeks = np.array([[5],[6],[7],[8]])\n",
    "future_sales = model.predict(future_weeks)\n",
    "\n",
    "print(f'Forecast Sales: {future_sales}')\n"
   ]
  }
 ],
 "metadata": {
  "kernelspec": {
   "display_name": "Python 3 (ipykernel)",
   "language": "python",
   "name": "python3"
  },
  "language_info": {
   "codemirror_mode": {
    "name": "ipython",
    "version": 3
   },
   "file_extension": ".py",
   "mimetype": "text/x-python",
   "name": "python",
   "nbconvert_exporter": "python",
   "pygments_lexer": "ipython3",
   "version": "3.8.17"
  }
 },
 "nbformat": 4,
 "nbformat_minor": 5
}
